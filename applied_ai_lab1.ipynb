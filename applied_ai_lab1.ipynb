{
  "cells": [
    {
      "cell_type": "markdown",
      "source": [
        "# Распознавание активности человека на основе данных с мобильных сенсоров\n"
      ],
      "metadata": {
        "datalore": {
          "node_id": "65baONV00WsOUl0mBEn7mB",
          "type": "MD",
          "hide_input_from_viewers": false,
          "hide_output_from_viewers": false
        },
        "id": "swlo5PgOtj-t"
      }
    },
    {
      "cell_type": "markdown",
      "source": [
        "Импортируем необходимые для работы."
      ],
      "metadata": {
        "id": "nxs_N1MhWZn-"
      }
    },
    {
      "cell_type": "code",
      "source": [
        "import os\n",
        "import numpy as np\n",
        "import pandas as pd"
      ],
      "execution_count": null,
      "outputs": [],
      "metadata": {
        "datalore": {
          "node_id": "TzA30C5txlPCx905qKUzmx",
          "type": "CODE",
          "hide_input_from_viewers": false,
          "hide_output_from_viewers": false
        },
        "id": "g3Us3DNQtj-0"
      }
    },
    {
      "cell_type": "markdown",
      "source": [
        "## Считываем набор данных "
      ],
      "metadata": {
        "datalore": {
          "node_id": "nD59cMaNdT5dJig8Kb7R1X",
          "type": "MD",
          "hide_input_from_viewers": false,
          "hide_output_from_viewers": false
        },
        "id": "fZsMYmYYtj-1"
      }
    },
    {
      "cell_type": "markdown",
      "source": [
        "В прикладных задачах машинного обучения очень важен процесс извлечения признаков (feature extraction), в ходе которого данные интерпретируются в информативные признаки. Также этот процесс может называться проектирование признаков (feature engineering), это весьма трудоемкая и творческая задача. В рамках работы мы опустим эту часть и воспользуемся предобработанными данными."
      ],
      "metadata": {
        "id": "wWMPoheiXCgR"
      }
    },
    {
      "cell_type": "code",
      "source": [
        "def read_data(path, filename):\n",
        "    return pd.read_csv(os.path.join(path, filename))\n",
        "\n",
        "df = read_data('/content/sample_data/', 'train.csv')\n",
        "df.head()"
      ],
      "execution_count": null,
      "outputs": [
        {
          "output_type": "execute_result",
          "data": {
            "text/plain": [
              "   tBodyAcc-mean()-X  tBodyAcc-mean()-Y  tBodyAcc-mean()-Z  tBodyAcc-std()-X  \\\n",
              "0           0.288585          -0.020294          -0.132905         -0.995279   \n",
              "1           0.278419          -0.016411          -0.123520         -0.998245   \n",
              "2           0.279653          -0.019467          -0.113462         -0.995380   \n",
              "3           0.279174          -0.026201          -0.123283         -0.996091   \n",
              "4           0.276629          -0.016570          -0.115362         -0.998139   \n",
              "\n",
              "   tBodyAcc-std()-Y  tBodyAcc-std()-Z  tBodyAcc-mad()-X  tBodyAcc-mad()-Y  \\\n",
              "0         -0.983111         -0.913526         -0.995112         -0.983185   \n",
              "1         -0.975300         -0.960322         -0.998807         -0.974914   \n",
              "2         -0.967187         -0.978944         -0.996520         -0.963668   \n",
              "3         -0.983403         -0.990675         -0.997099         -0.982750   \n",
              "4         -0.980817         -0.990482         -0.998321         -0.979672   \n",
              "\n",
              "   tBodyAcc-mad()-Z  tBodyAcc-max()-X  ...  fBodyBodyGyroJerkMag-kurtosis()  \\\n",
              "0         -0.923527         -0.934724  ...                        -0.710304   \n",
              "1         -0.957686         -0.943068  ...                        -0.861499   \n",
              "2         -0.977469         -0.938692  ...                        -0.760104   \n",
              "3         -0.989302         -0.938692  ...                        -0.482845   \n",
              "4         -0.990441         -0.942469  ...                        -0.699205   \n",
              "\n",
              "   angle(tBodyAccMean,gravity)  angle(tBodyAccJerkMean),gravityMean)  \\\n",
              "0                    -0.112754                              0.030400   \n",
              "1                     0.053477                             -0.007435   \n",
              "2                    -0.118559                              0.177899   \n",
              "3                    -0.036788                             -0.012892   \n",
              "4                     0.123320                              0.122542   \n",
              "\n",
              "   angle(tBodyGyroMean,gravityMean)  angle(tBodyGyroJerkMean,gravityMean)  \\\n",
              "0                         -0.464761                             -0.018446   \n",
              "1                         -0.732626                              0.703511   \n",
              "2                          0.100699                              0.808529   \n",
              "3                          0.640011                             -0.485366   \n",
              "4                          0.693578                             -0.615971   \n",
              "\n",
              "   angle(X,gravityMean)  angle(Y,gravityMean)  angle(Z,gravityMean)  subject  \\\n",
              "0             -0.841247              0.179941             -0.058627        1   \n",
              "1             -0.844788              0.180289             -0.054317        1   \n",
              "2             -0.848933              0.180637             -0.049118        1   \n",
              "3             -0.848649              0.181935             -0.047663        1   \n",
              "4             -0.847865              0.185151             -0.043892        1   \n",
              "\n",
              "   Activity  \n",
              "0  STANDING  \n",
              "1  STANDING  \n",
              "2  STANDING  \n",
              "3  STANDING  \n",
              "4  STANDING  \n",
              "\n",
              "[5 rows x 563 columns]"
            ],
            "text/html": [
              "\n",
              "  <div id=\"df-3d061348-7f7f-4aed-b19e-f704b64033ac\">\n",
              "    <div class=\"colab-df-container\">\n",
              "      <div>\n",
              "<style scoped>\n",
              "    .dataframe tbody tr th:only-of-type {\n",
              "        vertical-align: middle;\n",
              "    }\n",
              "\n",
              "    .dataframe tbody tr th {\n",
              "        vertical-align: top;\n",
              "    }\n",
              "\n",
              "    .dataframe thead th {\n",
              "        text-align: right;\n",
              "    }\n",
              "</style>\n",
              "<table border=\"1\" class=\"dataframe\">\n",
              "  <thead>\n",
              "    <tr style=\"text-align: right;\">\n",
              "      <th></th>\n",
              "      <th>tBodyAcc-mean()-X</th>\n",
              "      <th>tBodyAcc-mean()-Y</th>\n",
              "      <th>tBodyAcc-mean()-Z</th>\n",
              "      <th>tBodyAcc-std()-X</th>\n",
              "      <th>tBodyAcc-std()-Y</th>\n",
              "      <th>tBodyAcc-std()-Z</th>\n",
              "      <th>tBodyAcc-mad()-X</th>\n",
              "      <th>tBodyAcc-mad()-Y</th>\n",
              "      <th>tBodyAcc-mad()-Z</th>\n",
              "      <th>tBodyAcc-max()-X</th>\n",
              "      <th>...</th>\n",
              "      <th>fBodyBodyGyroJerkMag-kurtosis()</th>\n",
              "      <th>angle(tBodyAccMean,gravity)</th>\n",
              "      <th>angle(tBodyAccJerkMean),gravityMean)</th>\n",
              "      <th>angle(tBodyGyroMean,gravityMean)</th>\n",
              "      <th>angle(tBodyGyroJerkMean,gravityMean)</th>\n",
              "      <th>angle(X,gravityMean)</th>\n",
              "      <th>angle(Y,gravityMean)</th>\n",
              "      <th>angle(Z,gravityMean)</th>\n",
              "      <th>subject</th>\n",
              "      <th>Activity</th>\n",
              "    </tr>\n",
              "  </thead>\n",
              "  <tbody>\n",
              "    <tr>\n",
              "      <th>0</th>\n",
              "      <td>0.288585</td>\n",
              "      <td>-0.020294</td>\n",
              "      <td>-0.132905</td>\n",
              "      <td>-0.995279</td>\n",
              "      <td>-0.983111</td>\n",
              "      <td>-0.913526</td>\n",
              "      <td>-0.995112</td>\n",
              "      <td>-0.983185</td>\n",
              "      <td>-0.923527</td>\n",
              "      <td>-0.934724</td>\n",
              "      <td>...</td>\n",
              "      <td>-0.710304</td>\n",
              "      <td>-0.112754</td>\n",
              "      <td>0.030400</td>\n",
              "      <td>-0.464761</td>\n",
              "      <td>-0.018446</td>\n",
              "      <td>-0.841247</td>\n",
              "      <td>0.179941</td>\n",
              "      <td>-0.058627</td>\n",
              "      <td>1</td>\n",
              "      <td>STANDING</td>\n",
              "    </tr>\n",
              "    <tr>\n",
              "      <th>1</th>\n",
              "      <td>0.278419</td>\n",
              "      <td>-0.016411</td>\n",
              "      <td>-0.123520</td>\n",
              "      <td>-0.998245</td>\n",
              "      <td>-0.975300</td>\n",
              "      <td>-0.960322</td>\n",
              "      <td>-0.998807</td>\n",
              "      <td>-0.974914</td>\n",
              "      <td>-0.957686</td>\n",
              "      <td>-0.943068</td>\n",
              "      <td>...</td>\n",
              "      <td>-0.861499</td>\n",
              "      <td>0.053477</td>\n",
              "      <td>-0.007435</td>\n",
              "      <td>-0.732626</td>\n",
              "      <td>0.703511</td>\n",
              "      <td>-0.844788</td>\n",
              "      <td>0.180289</td>\n",
              "      <td>-0.054317</td>\n",
              "      <td>1</td>\n",
              "      <td>STANDING</td>\n",
              "    </tr>\n",
              "    <tr>\n",
              "      <th>2</th>\n",
              "      <td>0.279653</td>\n",
              "      <td>-0.019467</td>\n",
              "      <td>-0.113462</td>\n",
              "      <td>-0.995380</td>\n",
              "      <td>-0.967187</td>\n",
              "      <td>-0.978944</td>\n",
              "      <td>-0.996520</td>\n",
              "      <td>-0.963668</td>\n",
              "      <td>-0.977469</td>\n",
              "      <td>-0.938692</td>\n",
              "      <td>...</td>\n",
              "      <td>-0.760104</td>\n",
              "      <td>-0.118559</td>\n",
              "      <td>0.177899</td>\n",
              "      <td>0.100699</td>\n",
              "      <td>0.808529</td>\n",
              "      <td>-0.848933</td>\n",
              "      <td>0.180637</td>\n",
              "      <td>-0.049118</td>\n",
              "      <td>1</td>\n",
              "      <td>STANDING</td>\n",
              "    </tr>\n",
              "    <tr>\n",
              "      <th>3</th>\n",
              "      <td>0.279174</td>\n",
              "      <td>-0.026201</td>\n",
              "      <td>-0.123283</td>\n",
              "      <td>-0.996091</td>\n",
              "      <td>-0.983403</td>\n",
              "      <td>-0.990675</td>\n",
              "      <td>-0.997099</td>\n",
              "      <td>-0.982750</td>\n",
              "      <td>-0.989302</td>\n",
              "      <td>-0.938692</td>\n",
              "      <td>...</td>\n",
              "      <td>-0.482845</td>\n",
              "      <td>-0.036788</td>\n",
              "      <td>-0.012892</td>\n",
              "      <td>0.640011</td>\n",
              "      <td>-0.485366</td>\n",
              "      <td>-0.848649</td>\n",
              "      <td>0.181935</td>\n",
              "      <td>-0.047663</td>\n",
              "      <td>1</td>\n",
              "      <td>STANDING</td>\n",
              "    </tr>\n",
              "    <tr>\n",
              "      <th>4</th>\n",
              "      <td>0.276629</td>\n",
              "      <td>-0.016570</td>\n",
              "      <td>-0.115362</td>\n",
              "      <td>-0.998139</td>\n",
              "      <td>-0.980817</td>\n",
              "      <td>-0.990482</td>\n",
              "      <td>-0.998321</td>\n",
              "      <td>-0.979672</td>\n",
              "      <td>-0.990441</td>\n",
              "      <td>-0.942469</td>\n",
              "      <td>...</td>\n",
              "      <td>-0.699205</td>\n",
              "      <td>0.123320</td>\n",
              "      <td>0.122542</td>\n",
              "      <td>0.693578</td>\n",
              "      <td>-0.615971</td>\n",
              "      <td>-0.847865</td>\n",
              "      <td>0.185151</td>\n",
              "      <td>-0.043892</td>\n",
              "      <td>1</td>\n",
              "      <td>STANDING</td>\n",
              "    </tr>\n",
              "  </tbody>\n",
              "</table>\n",
              "<p>5 rows × 563 columns</p>\n",
              "</div>\n",
              "      <button class=\"colab-df-convert\" onclick=\"convertToInteractive('df-3d061348-7f7f-4aed-b19e-f704b64033ac')\"\n",
              "              title=\"Convert this dataframe to an interactive table.\"\n",
              "              style=\"display:none;\">\n",
              "        \n",
              "  <svg xmlns=\"http://www.w3.org/2000/svg\" height=\"24px\"viewBox=\"0 0 24 24\"\n",
              "       width=\"24px\">\n",
              "    <path d=\"M0 0h24v24H0V0z\" fill=\"none\"/>\n",
              "    <path d=\"M18.56 5.44l.94 2.06.94-2.06 2.06-.94-2.06-.94-.94-2.06-.94 2.06-2.06.94zm-11 1L8.5 8.5l.94-2.06 2.06-.94-2.06-.94L8.5 2.5l-.94 2.06-2.06.94zm10 10l.94 2.06.94-2.06 2.06-.94-2.06-.94-.94-2.06-.94 2.06-2.06.94z\"/><path d=\"M17.41 7.96l-1.37-1.37c-.4-.4-.92-.59-1.43-.59-.52 0-1.04.2-1.43.59L10.3 9.45l-7.72 7.72c-.78.78-.78 2.05 0 2.83L4 21.41c.39.39.9.59 1.41.59.51 0 1.02-.2 1.41-.59l7.78-7.78 2.81-2.81c.8-.78.8-2.07 0-2.86zM5.41 20L4 18.59l7.72-7.72 1.47 1.35L5.41 20z\"/>\n",
              "  </svg>\n",
              "      </button>\n",
              "      \n",
              "  <style>\n",
              "    .colab-df-container {\n",
              "      display:flex;\n",
              "      flex-wrap:wrap;\n",
              "      gap: 12px;\n",
              "    }\n",
              "\n",
              "    .colab-df-convert {\n",
              "      background-color: #E8F0FE;\n",
              "      border: none;\n",
              "      border-radius: 50%;\n",
              "      cursor: pointer;\n",
              "      display: none;\n",
              "      fill: #1967D2;\n",
              "      height: 32px;\n",
              "      padding: 0 0 0 0;\n",
              "      width: 32px;\n",
              "    }\n",
              "\n",
              "    .colab-df-convert:hover {\n",
              "      background-color: #E2EBFA;\n",
              "      box-shadow: 0px 1px 2px rgba(60, 64, 67, 0.3), 0px 1px 3px 1px rgba(60, 64, 67, 0.15);\n",
              "      fill: #174EA6;\n",
              "    }\n",
              "\n",
              "    [theme=dark] .colab-df-convert {\n",
              "      background-color: #3B4455;\n",
              "      fill: #D2E3FC;\n",
              "    }\n",
              "\n",
              "    [theme=dark] .colab-df-convert:hover {\n",
              "      background-color: #434B5C;\n",
              "      box-shadow: 0px 1px 3px 1px rgba(0, 0, 0, 0.15);\n",
              "      filter: drop-shadow(0px 1px 2px rgba(0, 0, 0, 0.3));\n",
              "      fill: #FFFFFF;\n",
              "    }\n",
              "  </style>\n",
              "\n",
              "      <script>\n",
              "        const buttonEl =\n",
              "          document.querySelector('#df-3d061348-7f7f-4aed-b19e-f704b64033ac button.colab-df-convert');\n",
              "        buttonEl.style.display =\n",
              "          google.colab.kernel.accessAllowed ? 'block' : 'none';\n",
              "\n",
              "        async function convertToInteractive(key) {\n",
              "          const element = document.querySelector('#df-3d061348-7f7f-4aed-b19e-f704b64033ac');\n",
              "          const dataTable =\n",
              "            await google.colab.kernel.invokeFunction('convertToInteractive',\n",
              "                                                     [key], {});\n",
              "          if (!dataTable) return;\n",
              "\n",
              "          const docLinkHtml = 'Like what you see? Visit the ' +\n",
              "            '<a target=\"_blank\" href=https://colab.research.google.com/notebooks/data_table.ipynb>data table notebook</a>'\n",
              "            + ' to learn more about interactive tables.';\n",
              "          element.innerHTML = '';\n",
              "          dataTable['output_type'] = 'display_data';\n",
              "          await google.colab.output.renderOutput(dataTable, element);\n",
              "          const docLink = document.createElement('div');\n",
              "          docLink.innerHTML = docLinkHtml;\n",
              "          element.appendChild(docLink);\n",
              "        }\n",
              "      </script>\n",
              "    </div>\n",
              "  </div>\n",
              "  "
            ]
          },
          "metadata": {},
          "execution_count": 2
        }
      ],
      "metadata": {
        "datalore": {
          "node_id": "vpBrpkTQTOee0O87NtQUy4",
          "type": "CODE",
          "hide_input_from_viewers": false,
          "hide_output_from_viewers": false
        },
        "colab": {
          "base_uri": "https://localhost:8080/",
          "height": 317
        },
        "id": "KSOl7ghctj-1",
        "outputId": "853422d0-936a-48e8-8202-44a020cde7fe"
      }
    },
    {
      "cell_type": "markdown",
      "source": [
        "Теперь, загрузим полный набор данных и сохранить его под следующими четырьмя переменными:\n",
        "* \n",
        "```\n",
        "train_X\n",
        "``` : признаки, используемые для обучения модели\n",
        "* \n",
        "```\n",
        "train_y\n",
        "```: метки, используемые для обучения модели\n",
        "* \n",
        "```\n",
        "teat_X\n",
        "``` : признаки, используемые для проверки модели\n",
        "* \n",
        "```\n",
        "teat_y\n",
        "``` : метки, используемые для проверки модели"
      ],
      "metadata": {
        "id": "nhD5hrQ5XHu-"
      }
    },
    {
      "cell_type": "code",
      "source": [
        "def load_dataset(label_dict):\n",
        "    train_X = read_data('/content/sample_data/', 'train.csv').values[:,:-2]\n",
        "    train_y = read_data('/content/sample_data/', 'train.csv')['Activity']\n",
        "    train_y = train_y.map(label_dict).values\n",
        "    test_X = read_data('/content/sample_data/', 'test.csv').values[:,:-2]\n",
        "    test_y = read_data('/content/sample_data/', 'test.csv')\n",
        "    test_y = test_y['Activity'].map(label_dict).values\n",
        "    return(train_X, train_y, test_X, test_y)\n",
        "label_dict = {'WALKING':0, 'WALKING_UPSTAIRS':1, 'WALKING_DOWNSTAIRS':2, 'SITTING':3, 'STANDING':4, 'LAYING':5}\n",
        "train_X, train_y, test_X, test_y = load_dataset(label_dict)"
      ],
      "execution_count": null,
      "outputs": [],
      "metadata": {
        "datalore": {
          "node_id": "umrZvD6ekBlIjjgq1F4hDE",
          "type": "CODE",
          "hide_input_from_viewers": false,
          "hide_output_from_viewers": false
        },
        "id": "DAbu-fGqtj-3"
      }
    },
    {
      "cell_type": "markdown",
      "source": [
        "## Выбор модели"
      ],
      "metadata": {
        "datalore": {
          "node_id": "rzFpETjrvFpl2hD2bD7jYC",
          "type": "MD",
          "hide_input_from_viewers": false,
          "hide_output_from_viewers": false
        },
        "id": "SGKHU1DGtj-4"
      }
    },
    {
      "cell_type": "markdown",
      "source": [
        "Я импортировала 3 модели из библиотеки `sklearn` и инициализировала их в объекты `model_name`. Я выбрала следующие моедли:\n",
        "\n",
        "*   `KNeighborsClassifier` - метод k-ближайших соседей\n",
        "*   `GaussianNB` - наивный байесовский классификатор\n",
        "*   `SVC` - метод опорных векторов\n",
        "\n"
      ],
      "metadata": {
        "id": "KDnYvvsGZtHs"
      }
    },
    {
      "cell_type": "code",
      "source": [
        "from sklearn.neighbors import KNeighborsClassifier\n",
        "model_knn = KNeighborsClassifier(n_neighbors=16)\n",
        "from sklearn.naive_bayes import GaussianNB\n",
        "model_gnb = GaussianNB(var_smoothing=0.1)\n",
        "from sklearn.svm import SVC\n",
        "model_svc = SVC(C=1000,gamma= 0.01, kernel='rbf')    "
      ],
      "execution_count": null,
      "outputs": [],
      "metadata": {
        "datalore": {
          "node_id": "YJ9zPxZwd9nVxkWVvE1Ua9",
          "type": "CODE",
          "hide_input_from_viewers": false,
          "hide_output_from_viewers": false
        },
        "id": "Jaaf_JPPtj-4"
      }
    },
    {
      "cell_type": "markdown",
      "source": [
        "Подберем оптимальные гиперпараметры для каждой модели c помощью `GridSearchCV`, который мы импортируем из той же библиотеки.\n",
        "\n",
        "(я закоментировала эти блоки, потому что их выполнение занимает много времени, а так как результат уже подставлен в блок коды выше, смысла выполнять их ещё раз не вижу)\n",
        "\n",
        "`KNeighborsClassifier`:"
      ],
      "metadata": {
        "id": "RoUR4Mr-vn-R"
      }
    },
    {
      "cell_type": "code",
      "source": [
        "\"\"\"from sklearn.model_selection import GridSearchCV\n",
        "k_range = list(range(1, 21))\n",
        "param_grid = dict(n_neighbors=k_range)\n",
        "  \n",
        "# defining parameter range\n",
        "grid = GridSearchCV(model_knn, param_grid, cv=None, scoring='accuracy', return_train_score=False,verbose=1)\n",
        "  \n",
        "# fitting the model for grid search\n",
        "grid_search=grid.fit(train_X, train_y)\n",
        "print(grid_search.best_params_)\"\"\""
      ],
      "metadata": {
        "colab": {
          "base_uri": "https://localhost:8080/",
          "height": 70
        },
        "id": "pfkKXjqIUCBV",
        "outputId": "ea031f35-7d5f-4ec9-88bc-9721a1e9b9ca"
      },
      "execution_count": null,
      "outputs": [
        {
          "output_type": "execute_result",
          "data": {
            "text/plain": [
              "\"from sklearn.model_selection import GridSearchCV\\nk_range = list(range(1, 21))\\nparam_grid = dict(n_neighbors=k_range)\\n  \\n# defining parameter range\\ngrid = GridSearchCV(model_knn, param_grid, cv=None, scoring='accuracy', return_train_score=False,verbose=1)\\n  \\n# fitting the model for grid search\\ngrid_search=grid.fit(train_X, train_y)\\nprint(grid_search.best_params_)\""
            ],
            "application/vnd.google.colaboratory.intrinsic+json": {
              "type": "string"
            }
          },
          "metadata": {},
          "execution_count": 5
        }
      ]
    },
    {
      "cell_type": "markdown",
      "source": [
        "`GaussianNB`:"
      ],
      "metadata": {
        "id": "vC10HwEnThO8"
      }
    },
    {
      "cell_type": "code",
      "source": [
        "\"\"\"params_NB = {'var_smoothing': np.logspace(0,-9, num=10)}\n",
        "                gs_NB = GridSearchCV(estimator=model_gnb,\n",
        "                param_grid=params_NB,\n",
        "                cv=None,\n",
        "                verbose=1,\n",
        "                scoring='accuracy') \n",
        "gs_NB.fit(train_X, train_y)\n",
        "\n",
        "gs_NB.best_params_\"\"\""
      ],
      "metadata": {
        "colab": {
          "base_uri": "https://localhost:8080/",
          "height": 70
        },
        "id": "E_m3xTnzNCWU",
        "outputId": "07245d49-4110-44ce-cc55-e851cf30c839"
      },
      "execution_count": null,
      "outputs": [
        {
          "output_type": "execute_result",
          "data": {
            "text/plain": [
              "\"params_NB = {'var_smoothing': np.logspace(0,-9, num=10)}\\n                gs_NB = GridSearchCV(estimator=model_gnb,\\n                param_grid=params_NB,\\n                cv=None,\\n                verbose=1,\\n                scoring='accuracy') \\ngs_NB.fit(train_X, train_y)\\n\\ngs_NB.best_params_\""
            ],
            "application/vnd.google.colaboratory.intrinsic+json": {
              "type": "string"
            }
          },
          "metadata": {},
          "execution_count": 6
        }
      ]
    },
    {
      "cell_type": "markdown",
      "source": [
        "`CSV`:"
      ],
      "metadata": {
        "id": "qw0aF-XPxDMo"
      }
    },
    {
      "cell_type": "code",
      "source": [
        "\"\"\"# defining parameter range\n",
        "param_grid = {'C': [0.1, 1, 10, 100, 1000], \n",
        "              'gamma': [1, 0.1, 0.01, 0.001, 0.0001],\n",
        "              'kernel': ['rbf']} \n",
        "  \n",
        "grid = GridSearchCV(SVC(), param_grid, refit = True, verbose = 3)\n",
        "  \n",
        "# fitting the model for grid search\n",
        "grid.fit(train_X, train_y)\n",
        "# print best parameter after tuning\n",
        "print(grid.best_params_)\"\"\""
      ],
      "metadata": {
        "colab": {
          "base_uri": "https://localhost:8080/",
          "height": 70
        },
        "id": "0IaAIsWNmxKU",
        "outputId": "c47ded5a-18f9-45b3-d1a3-2387a67c5cc7"
      },
      "execution_count": null,
      "outputs": [
        {
          "output_type": "execute_result",
          "data": {
            "text/plain": [
              "\"# defining parameter range\\nparam_grid = {'C': [0.1, 1, 10, 100, 1000], \\n              'gamma': [1, 0.1, 0.01, 0.001, 0.0001],\\n              'kernel': ['rbf']} \\n  \\ngrid = GridSearchCV(SVC(), param_grid, refit = True, verbose = 3)\\n  \\n# fitting the model for grid search\\ngrid.fit(train_X, train_y)\\n# print best parameter after tuning\\nprint(grid.best_params_)\""
            ],
            "application/vnd.google.colaboratory.intrinsic+json": {
              "type": "string"
            }
          },
          "metadata": {},
          "execution_count": 7
        }
      ]
    },
    {
      "cell_type": "markdown",
      "source": [
        "#####**Опишите вашу мотивацию по выбору модели. Какие гиперпараметры есть у выбранной вами модели? За что они отвечают? На что влияют?**\n",
        "\n",
        "\n",
        "*   **`KNeighborsClassifier` - метод k-ближайших соседей**\n",
        "\n",
        "    Этот метод работает с помощью поиска кратчайшей дистанции между тестируемым объектом и ближайшими к нему классифицированным объектами из обучающего набора. Классифицируемый объект будет относится к тому классу, к которому принадлежит ближайший объект набора.\n",
        "\n",
        "    Он довольно прост в реализации и уже был мне знаком. \n",
        "\n",
        "    Из гиперпараметров - `k_neighbors` - это количество соседних объектов в пространстве признаков, которые сравниваются с классифицируемым объектом. А `аlgorithm` — алгоритм, используемый для вычисления ближайших соседей. `auto` будет пытаться выбрать наиболее подходящий алгоритм на основе значений обучающей выборки, переданных методу `fit()`;\n",
        "*   **`GaussianNB` - наивный байесовский классификатор**\n",
        "\n",
        "    Такой классификатор вычисляет вероятность принадлежности объекта к какому-то классу. Эта вероятность вычисляется из шанса, что какое-то событие произойдёт, с опорой на уже на произошедшие события.\n",
        "\n",
        "    Этот алгорит также довольно прост в реализации и имеет низкие вычислительные затраты при обучении и классификации. Однако он не совсем хорошо работает со статистически независимыми характеристиками и мне захотелось проверить как он поведет себя при анализе дейсвий человека.\n",
        "\n",
        "    Параметры: `priors` — априорные вероятности классов; `var_smoothing` — доля наибольшей дисперсии всех функций, которая добавляется к дисперсии для стабильности расчетов.\n",
        "\n",
        "*   **`SVC` - метод опорных векторов**\n",
        "\n",
        "    Каждый объект данных представляется как вектор (точка) в p-мерном пространстве. Задача — разделить точки прямой (гиперплоскостью). То есть, можно ли найти такую прямую, чтобы расстояние от неё до ближайшей точки было максимальным. \n",
        "    \n",
        "    Искомых прямых может быть много, поэтому полагают, что максимизация зазора между классами способствует более качественной классификации.\n",
        "\n",
        "    Здесь `C` — параметр регуляризации, величина регуляризации обратно пропорциональна `С`. Параметр `kernel` задает тип ядра, который будет использоваться в алгоритме. Например,`kernel = «linear»` для линейной классификации или `kernel = «rbf»` для нелинейной классификации; `gamma` — коэффициент ядра для `kernel = «rbf»`, `kernel = «poly»` и `kernel = «sigmoid»`. \n",
        "\n",
        "\n"
      ],
      "metadata": {
        "id": "ywkMKdMS2i8r"
      }
    },
    {
      "cell_type": "markdown",
      "source": [
        "## Обучение модели"
      ],
      "metadata": {
        "datalore": {
          "node_id": "HhCKE5nr9ZzWXIefwTXzuq",
          "type": "MD",
          "hide_input_from_viewers": false,
          "hide_output_from_viewers": false
        },
        "id": "0NVP6phgtj-5"
      }
    },
    {
      "cell_type": "markdown",
      "source": [
        "Обучаем модель, используя признаки из обучающего набора (`train_X`) и метки в качестве базовой истины (`train_y`)."
      ],
      "metadata": {
        "id": "-8hJzZQQ0u-O"
      }
    },
    {
      "cell_type": "code",
      "source": [
        "model_knn.fit(train_X, train_y)\n",
        "model_gnb.fit(train_X, train_y)\n",
        "model_svc.fit(train_X, train_y)"
      ],
      "execution_count": null,
      "outputs": [
        {
          "output_type": "execute_result",
          "data": {
            "text/plain": [
              "SVC(C=1000, gamma=0.01)"
            ]
          },
          "metadata": {},
          "execution_count": 8
        }
      ],
      "metadata": {
        "datalore": {
          "node_id": "Dvg6HvHJDHHEIHEdXFnrnh",
          "type": "CODE",
          "hide_input_from_viewers": false,
          "hide_output_from_viewers": false
        },
        "colab": {
          "base_uri": "https://localhost:8080/"
        },
        "id": "Geq0st6itj-6",
        "outputId": "c00cb120-8f9b-4780-c1c5-c0f2dbdfb48f"
      }
    },
    {
      "cell_type": "markdown",
      "source": [
        "## Оценка модели\n"
      ],
      "metadata": {
        "datalore": {
          "node_id": "RlwxdG1csNqjt5MwA3xRdd",
          "type": "MD",
          "hide_input_from_viewers": false,
          "hide_output_from_viewers": false
        },
        "id": "HCJ4xaYhtj-6"
      }
    },
    {
      "cell_type": "markdown",
      "source": [
        "Используя обученную модель для прогнозирования активности движения, при помощи признаков из тестового набора (`test_X`). Прогнозы сохраняем в списке `yhat`."
      ],
      "metadata": {
        "id": "I-UtgVMj1IVj"
      }
    },
    {
      "cell_type": "code",
      "source": [
        "yhat_knn = model_knn.predict(test_X)\n",
        "yhat_gnb = model_gnb.predict(test_X)\n",
        "yhat_svc = model_svc.predict(test_X)"
      ],
      "execution_count": null,
      "outputs": [],
      "metadata": {
        "datalore": {
          "node_id": "6co7FcTwbjXUcBYdxRkCmn",
          "type": "CODE",
          "hide_input_from_viewers": false,
          "hide_output_from_viewers": false
        },
        "id": "bBuqzajvtj-6"
      }
    },
    {
      "cell_type": "markdown",
      "source": [
        "## Результат классификации моделей"
      ],
      "metadata": {
        "datalore": {
          "node_id": "h7NEM5RemUKlwTZEAMA5WQ",
          "type": "MD",
          "hide_input_from_viewers": false,
          "hide_output_from_viewers": false
        },
        "id": "5r1-HZh8tj-7"
      }
    },
    {
      "cell_type": "markdown",
      "source": [
        "Выводим отчет о классификации, сравнив предсказания (`yhat`) с базовой истиной (`test_y`)."
      ],
      "metadata": {
        "id": "Or-WwHJ715Og"
      }
    },
    {
      "cell_type": "code",
      "source": [
        "from sklearn.metrics import classification_report\n",
        "target_names = ['Walking', 'Walking Upstairs', 'Walking Downstairs', 'Sitting', 'Standing', 'Laying']\n",
        "print(\"KNeighborsClassifier:\\n\")\n",
        "print(classification_report(test_y, yhat_knn, target_names=target_names))\n",
        "print(\"\\nGaussianNB:\\n\")\n",
        "print(classification_report(test_y, yhat_gnb, target_names=target_names))\n",
        "print(\"\\nSVC:\\n\")\n",
        "print(classification_report(test_y, yhat_svc, target_names=target_names))"
      ],
      "execution_count": null,
      "outputs": [
        {
          "output_type": "stream",
          "name": "stdout",
          "text": [
            "KNeighborsClassifier:\n",
            "\n",
            "                    precision    recall  f1-score   support\n",
            "\n",
            "           Walking       0.84      0.99      0.91       496\n",
            "  Walking Upstairs       0.89      0.90      0.90       471\n",
            "Walking Downstairs       0.96      0.77      0.85       420\n",
            "           Sitting       0.92      0.82      0.86       491\n",
            "          Standing       0.85      0.93      0.89       532\n",
            "            Laying       1.00      1.00      1.00       537\n",
            "\n",
            "          accuracy                           0.91      2947\n",
            "         macro avg       0.91      0.90      0.90      2947\n",
            "      weighted avg       0.91      0.91      0.90      2947\n",
            "\n",
            "\n",
            "GaussianNB:\n",
            "\n",
            "                    precision    recall  f1-score   support\n",
            "\n",
            "           Walking       0.76      0.91      0.83       496\n",
            "  Walking Upstairs       0.82      0.96      0.88       471\n",
            "Walking Downstairs       0.88      0.51      0.65       420\n",
            "           Sitting       1.00      0.51      0.67       491\n",
            "          Standing       0.69      1.00      0.81       532\n",
            "            Laying       1.00      1.00      1.00       537\n",
            "\n",
            "          accuracy                           0.83      2947\n",
            "         macro avg       0.86      0.81      0.81      2947\n",
            "      weighted avg       0.86      0.83      0.81      2947\n",
            "\n",
            "\n",
            "SVC:\n",
            "\n",
            "                    precision    recall  f1-score   support\n",
            "\n",
            "           Walking       0.96      0.98      0.97       496\n",
            "  Walking Upstairs       0.94      0.97      0.95       471\n",
            "Walking Downstairs       0.99      0.94      0.97       420\n",
            "           Sitting       0.98      0.91      0.94       491\n",
            "          Standing       0.92      0.98      0.95       532\n",
            "            Laying       1.00      1.00      1.00       537\n",
            "\n",
            "          accuracy                           0.96      2947\n",
            "         macro avg       0.97      0.96      0.96      2947\n",
            "      weighted avg       0.97      0.96      0.96      2947\n",
            "\n"
          ]
        }
      ],
      "metadata": {
        "datalore": {
          "node_id": "O1n5AL0m65kfoRsQB5z71P",
          "type": "CODE",
          "hide_input_from_viewers": false,
          "hide_output_from_viewers": false
        },
        "colab": {
          "base_uri": "https://localhost:8080/"
        },
        "id": "SNOl_TnRtj-7",
        "outputId": "ea3b391c-14cb-48a7-a250-86c8800af380"
      }
    },
    {
      "cell_type": "markdown",
      "source": [
        "#####**В чем разница между показателями `precision` и `recall`? Что такое показатель `F1`?**\n",
        "\n",
        "`рrecision` - доля объектов, обозначенных классификатором как положительные и при этом действительно являющимися положительными, а `recall` показывает, какую долю объектов положительного класса из всех объектов положительного класса нашел алгоритм.\n",
        "`recall` - способность алгоритма обнаруживать класс положительных объектов, а `precision` — способность отличать этот класс от других классов.\n",
        "\n",
        "`F1`-мера — среднее гармоническое `precision` и `recall`. `F1`-мера достигает максимума при полноте и точности, равными единице, и близка к нулю, если один из аргументов близок к нулю. `F1` = 2(`recall` * `precision`)/(`recall` + `precision`)"
      ],
      "metadata": {
        "id": "JCnnCazh_6-3"
      }
    }
  ],
  "metadata": {
    "kernelspec": {
      "display_name": "Python",
      "language": "python",
      "name": "python"
    },
    "datalore": {
      "version": 1,
      "computation_mode": "JUPYTER",
      "packages": []
    },
    "colab": {
      "provenance": [],
      "collapsed_sections": []
    }
  },
  "nbformat": 4,
  "nbformat_minor": 0
}