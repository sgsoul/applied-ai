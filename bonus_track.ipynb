{
  "nbformat": 4,
  "nbformat_minor": 0,
  "metadata": {
    "colab": {
      "provenance": [],
      "include_colab_link": true
    },
    "kernelspec": {
      "name": "python3",
      "display_name": "Python 3"
    },
    "language_info": {
      "name": "python"
    }
  },
  "cells": [
    {
      "cell_type": "markdown",
      "metadata": {
        "id": "view-in-github",
        "colab_type": "text"
      },
      "source": [
        "<a href=\"https://colab.research.google.com/github/sgsoul/applied-ai/blob/main/bonus_track.ipynb\" target=\"_parent\"><img src=\"https://colab.research.google.com/assets/colab-badge.svg\" alt=\"Open In Colab\"/></a>"
      ]
    },
    {
      "cell_type": "markdown",
      "source": [
        "# **Предсказание отчисления студентов с потоков дополнительного образования Bonus Track**"
      ],
      "metadata": {
        "id": "rZN6Z9KQDQ9d"
      }
    },
    {
      "cell_type": "markdown",
      "source": [
        "Целью нашего итогового проекта является получение зависимости от различных параметров(Например, образовательная программа, ступень образования, курс обучения) отчисления студентов программы дополнительного образования Bonus Track, а также предсказание этого отчисления с помощью нейронной сети."
      ],
      "metadata": {
        "id": "Nh2KWhQkG0WV"
      }
    },
    {
      "cell_type": "markdown",
      "source": [
        "## Сбор данных\n",
        "\n",
        "Изначально мы собрали информацию об отчисленных с помощью кода ниже. Мы получили список имён и образовательных программ. Потом рандомно добили датасет до 500 неотчисленными студентами и через ИСУ вручную собрали необходимую информацию.\n"
      ],
      "metadata": {
        "id": "R8rrPLTjDjfL"
      }
    },
    {
      "cell_type": "code",
      "source": [
        "# import csv\n",
        "\n",
        "# # открываем файлы содержащие спсики студентов на сентябрь 22 и февраль 23\n",
        "# with open('first.csv', 'r') as f1, open('second.csv', 'r') as f2:\n",
        "#     first_list = list(csv.reader(f1))\n",
        "#     second_list = list(csv.reader(f2))\n",
        "\n",
        "#     diff_list = []\n",
        "\n",
        "#     for item in first_list:\n",
        "#         if item not in second_list:\n",
        "#             diff_list.append(item)\n",
        "\n",
        "#     # записываем список отчисленных студентов в новый файл\n",
        "# with open('third.csv', 'w') as f3:\n",
        "#     writer = csv.writer(f3)\n",
        "#     writer.writerows(diff_list)"
      ],
      "metadata": {
        "id": "NIip3jWsD7zS"
      },
      "execution_count": null,
      "outputs": []
    },
    {
      "cell_type": "markdown",
      "source": [
        "Представленный датасет содержит описание набора 500 студентов Bonus Track’a. Он содержит следующие признаки:\n",
        "\n",
        "1. Образовательная программа (Технологии анализа данных - 0, Методы анализа данных - 1)\n",
        "2. Год обучения в ИТМО (1-4 курсы)\n",
        "3. Степень образования (бакалавр - 0, магистр - 1)\n",
        "4. Факультет в ИТМО:\n",
        "    1. БИТ - Факультет Безопасности информационных технологий,\n",
        "    2. ВИТШ - Институт Высшая инженерно-техническая школа,\n",
        "    3. ИДУ - Институт Дизайна и урбанистики,\n",
        "    4. ИКТ - Факультет Инфокоммуникационных технологии,\n",
        "    5. ИЛТ - Институт Лазерных технологий,\n",
        "    6. ИПСПД - Институт Перспективных систем передачи данных,\n",
        "    7. ИТИП - Факультет Информационных технологий и программирования,\n",
        "    8. МРИП - Институт Международного развития и партнерства,\n",
        "    9. ПИИКТ - Факультет Программной инженерии и компьютерной техники,\n",
        "    10. СУИР - Факультет Систем управления и робототехники,\n",
        "    11. ФБТ - Факультет Биотехнологий,\n",
        "    12. ФИЗФ - Физический факультет,\n",
        "    13. ФИОИ - Фотоника и оптоинформатика,\n",
        "    14. ФТМИ - Факультет Технологического менеджмента и инноваций,\n",
        "    15. ФТМФ - Физико-Технический мегафакультет,\n",
        "    16. ФТФ - Физико-Технический факультет,\n",
        "    17. ФЭТ - Факультет Экотехнологий,\n",
        "    18. ХБК - Химико-Биологический кластер,\n",
        "    19. ХИ - Центр химической инженерии,\n",
        "    20. ЦПО - Центр дополнительного профессионального образования,\n",
        "    21. ЭИС - Образовательный центр Энергоэффективные инженерные системы\n",
        "5. Статус студента (обучается - 0, отчислен - 1)"
      ],
      "metadata": {
        "id": "48txFGLeCXe7"
      }
    },
    {
      "cell_type": "markdown",
      "source": [
        "## Реализация"
      ],
      "metadata": {
        "id": "flkQg4iHGsCG"
      }
    },
    {
      "cell_type": "markdown",
      "source": [
        "Импортируем необходимые нам библиотеки и методы."
      ],
      "metadata": {
        "id": "8yrHlVqCHALm"
      }
    },
    {
      "cell_type": "code",
      "source": [
        "!pip install category_encoders -q\n",
        "import numpy as np\n",
        "import pandas as pd\n",
        "import matplotlib.pyplot as plt\n",
        "from sklearn.model_selection import train_test_split\n",
        "from sklearn.preprocessing import StandardScaler\n",
        "from sklearn.metrics import f1_score\n",
        "from sklearn.svm import SVC\n",
        "import category_encoders as ce\n",
        "from tensorflow import keras\n",
        "from tensorflow.keras import layers, callbacks, backend, optimizers"
      ],
      "metadata": {
        "id": "eWrCtQ6k6us0"
      },
      "execution_count": null,
      "outputs": []
    },
    {
      "cell_type": "markdown",
      "source": [
        "Считываем данные, предварительно загруженные в среду блокнота. Удаляем столбик 'ID', так он нам не пригодится в процессе обучения.\n",
        "\n"
      ],
      "metadata": {
        "id": "Vynay-DAHFiK"
      }
    },
    {
      "cell_type": "code",
      "source": [
        "# Чтение данных из CSV файла\n",
        "df = pd.read_csv('/content/TRAIN.csv')\n",
        "df.describe()"
      ],
      "metadata": {
        "colab": {
          "base_uri": "https://localhost:8080/",
          "height": 300
        },
        "id": "0xhEV4FB6xoz",
        "outputId": "f661dae8-1864-4a40-b8b1-6998e447865f"
      },
      "execution_count": null,
      "outputs": [
        {
          "output_type": "execute_result",
          "data": {
            "text/plain": [
              "               ID     BT_PROG        YEAR      DEGREE      STATUS\n",
              "count  450.000000  450.000000  450.000000  450.000000  450.000000\n",
              "mean   225.500000    0.526667    2.224444    0.295556    0.415556\n",
              "std    130.048068    0.499844    0.929989    0.537442    0.493366\n",
              "min      1.000000    0.000000    1.000000    0.000000    0.000000\n",
              "25%    113.250000    0.000000    2.000000    0.000000    0.000000\n",
              "50%    225.500000    1.000000    2.000000    0.000000    0.000000\n",
              "75%    337.750000    1.000000    3.000000    1.000000    1.000000\n",
              "max    450.000000    1.000000    4.000000    4.000000    1.000000"
            ],
            "text/html": [
              "\n",
              "  <div id=\"df-9b9dbb3f-1fda-4657-8167-27fabc8788de\">\n",
              "    <div class=\"colab-df-container\">\n",
              "      <div>\n",
              "<style scoped>\n",
              "    .dataframe tbody tr th:only-of-type {\n",
              "        vertical-align: middle;\n",
              "    }\n",
              "\n",
              "    .dataframe tbody tr th {\n",
              "        vertical-align: top;\n",
              "    }\n",
              "\n",
              "    .dataframe thead th {\n",
              "        text-align: right;\n",
              "    }\n",
              "</style>\n",
              "<table border=\"1\" class=\"dataframe\">\n",
              "  <thead>\n",
              "    <tr style=\"text-align: right;\">\n",
              "      <th></th>\n",
              "      <th>ID</th>\n",
              "      <th>BT_PROG</th>\n",
              "      <th>YEAR</th>\n",
              "      <th>DEGREE</th>\n",
              "      <th>STATUS</th>\n",
              "    </tr>\n",
              "  </thead>\n",
              "  <tbody>\n",
              "    <tr>\n",
              "      <th>count</th>\n",
              "      <td>450.000000</td>\n",
              "      <td>450.000000</td>\n",
              "      <td>450.000000</td>\n",
              "      <td>450.000000</td>\n",
              "      <td>450.000000</td>\n",
              "    </tr>\n",
              "    <tr>\n",
              "      <th>mean</th>\n",
              "      <td>225.500000</td>\n",
              "      <td>0.526667</td>\n",
              "      <td>2.224444</td>\n",
              "      <td>0.295556</td>\n",
              "      <td>0.415556</td>\n",
              "    </tr>\n",
              "    <tr>\n",
              "      <th>std</th>\n",
              "      <td>130.048068</td>\n",
              "      <td>0.499844</td>\n",
              "      <td>0.929989</td>\n",
              "      <td>0.537442</td>\n",
              "      <td>0.493366</td>\n",
              "    </tr>\n",
              "    <tr>\n",
              "      <th>min</th>\n",
              "      <td>1.000000</td>\n",
              "      <td>0.000000</td>\n",
              "      <td>1.000000</td>\n",
              "      <td>0.000000</td>\n",
              "      <td>0.000000</td>\n",
              "    </tr>\n",
              "    <tr>\n",
              "      <th>25%</th>\n",
              "      <td>113.250000</td>\n",
              "      <td>0.000000</td>\n",
              "      <td>2.000000</td>\n",
              "      <td>0.000000</td>\n",
              "      <td>0.000000</td>\n",
              "    </tr>\n",
              "    <tr>\n",
              "      <th>50%</th>\n",
              "      <td>225.500000</td>\n",
              "      <td>1.000000</td>\n",
              "      <td>2.000000</td>\n",
              "      <td>0.000000</td>\n",
              "      <td>0.000000</td>\n",
              "    </tr>\n",
              "    <tr>\n",
              "      <th>75%</th>\n",
              "      <td>337.750000</td>\n",
              "      <td>1.000000</td>\n",
              "      <td>3.000000</td>\n",
              "      <td>1.000000</td>\n",
              "      <td>1.000000</td>\n",
              "    </tr>\n",
              "    <tr>\n",
              "      <th>max</th>\n",
              "      <td>450.000000</td>\n",
              "      <td>1.000000</td>\n",
              "      <td>4.000000</td>\n",
              "      <td>4.000000</td>\n",
              "      <td>1.000000</td>\n",
              "    </tr>\n",
              "  </tbody>\n",
              "</table>\n",
              "</div>\n",
              "      <button class=\"colab-df-convert\" onclick=\"convertToInteractive('df-9b9dbb3f-1fda-4657-8167-27fabc8788de')\"\n",
              "              title=\"Convert this dataframe to an interactive table.\"\n",
              "              style=\"display:none;\">\n",
              "        \n",
              "  <svg xmlns=\"http://www.w3.org/2000/svg\" height=\"24px\"viewBox=\"0 0 24 24\"\n",
              "       width=\"24px\">\n",
              "    <path d=\"M0 0h24v24H0V0z\" fill=\"none\"/>\n",
              "    <path d=\"M18.56 5.44l.94 2.06.94-2.06 2.06-.94-2.06-.94-.94-2.06-.94 2.06-2.06.94zm-11 1L8.5 8.5l.94-2.06 2.06-.94-2.06-.94L8.5 2.5l-.94 2.06-2.06.94zm10 10l.94 2.06.94-2.06 2.06-.94-2.06-.94-.94-2.06-.94 2.06-2.06.94z\"/><path d=\"M17.41 7.96l-1.37-1.37c-.4-.4-.92-.59-1.43-.59-.52 0-1.04.2-1.43.59L10.3 9.45l-7.72 7.72c-.78.78-.78 2.05 0 2.83L4 21.41c.39.39.9.59 1.41.59.51 0 1.02-.2 1.41-.59l7.78-7.78 2.81-2.81c.8-.78.8-2.07 0-2.86zM5.41 20L4 18.59l7.72-7.72 1.47 1.35L5.41 20z\"/>\n",
              "  </svg>\n",
              "      </button>\n",
              "      \n",
              "  <style>\n",
              "    .colab-df-container {\n",
              "      display:flex;\n",
              "      flex-wrap:wrap;\n",
              "      gap: 12px;\n",
              "    }\n",
              "\n",
              "    .colab-df-convert {\n",
              "      background-color: #E8F0FE;\n",
              "      border: none;\n",
              "      border-radius: 50%;\n",
              "      cursor: pointer;\n",
              "      display: none;\n",
              "      fill: #1967D2;\n",
              "      height: 32px;\n",
              "      padding: 0 0 0 0;\n",
              "      width: 32px;\n",
              "    }\n",
              "\n",
              "    .colab-df-convert:hover {\n",
              "      background-color: #E2EBFA;\n",
              "      box-shadow: 0px 1px 2px rgba(60, 64, 67, 0.3), 0px 1px 3px 1px rgba(60, 64, 67, 0.15);\n",
              "      fill: #174EA6;\n",
              "    }\n",
              "\n",
              "    [theme=dark] .colab-df-convert {\n",
              "      background-color: #3B4455;\n",
              "      fill: #D2E3FC;\n",
              "    }\n",
              "\n",
              "    [theme=dark] .colab-df-convert:hover {\n",
              "      background-color: #434B5C;\n",
              "      box-shadow: 0px 1px 3px 1px rgba(0, 0, 0, 0.15);\n",
              "      filter: drop-shadow(0px 1px 2px rgba(0, 0, 0, 0.3));\n",
              "      fill: #FFFFFF;\n",
              "    }\n",
              "  </style>\n",
              "\n",
              "      <script>\n",
              "        const buttonEl =\n",
              "          document.querySelector('#df-9b9dbb3f-1fda-4657-8167-27fabc8788de button.colab-df-convert');\n",
              "        buttonEl.style.display =\n",
              "          google.colab.kernel.accessAllowed ? 'block' : 'none';\n",
              "\n",
              "        async function convertToInteractive(key) {\n",
              "          const element = document.querySelector('#df-9b9dbb3f-1fda-4657-8167-27fabc8788de');\n",
              "          const dataTable =\n",
              "            await google.colab.kernel.invokeFunction('convertToInteractive',\n",
              "                                                     [key], {});\n",
              "          if (!dataTable) return;\n",
              "\n",
              "          const docLinkHtml = 'Like what you see? Visit the ' +\n",
              "            '<a target=\"_blank\" href=https://colab.research.google.com/notebooks/data_table.ipynb>data table notebook</a>'\n",
              "            + ' to learn more about interactive tables.';\n",
              "          element.innerHTML = '';\n",
              "          dataTable['output_type'] = 'display_data';\n",
              "          await google.colab.output.renderOutput(dataTable, element);\n",
              "          const docLink = document.createElement('div');\n",
              "          docLink.innerHTML = docLinkHtml;\n",
              "          element.appendChild(docLink);\n",
              "        }\n",
              "      </script>\n",
              "    </div>\n",
              "  </div>\n",
              "  "
            ]
          },
          "metadata": {},
          "execution_count": 3
        }
      ]
    },
    {
      "cell_type": "code",
      "source": [
        "df = df.drop('ID', axis=1)"
      ],
      "metadata": {
        "id": "PYizB5rtJ8Bi"
      },
      "execution_count": null,
      "outputs": []
    },
    {
      "cell_type": "markdown",
      "source": [
        "Разделяем данные на обучающую, валидационную и тестовую выборки."
      ],
      "metadata": {
        "id": "NjWDL06VAOyz"
      }
    },
    {
      "cell_type": "code",
      "source": [
        "# Разделение данных на обучающую, валидационную и тестовую выборки с учетом стратификации\n",
        "train_data, test_data = train_test_split(df, test_size=0.2, random_state=35, stratify=df['STATUS'])\n",
        "train_data, val_data = train_test_split(train_data, test_size=0.2, random_state=35, stratify=train_data['STATUS'])"
      ],
      "metadata": {
        "id": "rnADA5ws6zae"
      },
      "execution_count": null,
      "outputs": []
    },
    {
      "cell_type": "markdown",
      "source": [
        "Производим подготовку данных:\n",
        "\n",
        "\n",
        "1.   Определяем категориальные признаки в `cat_features`\n",
        "2.   Примененяем кодировщика `TargetEncoder` из библиотеки `category_encoders` для преобразования категориальных признаков в числовые\n",
        "3. Масштабируем данные с помощью `StandardScaler` из библиотеки `sklearn.preprocessing`\n",
        "4. Подготавливаем целевые переменные\n",
        "\n"
      ],
      "metadata": {
        "id": "RIgDAEpTAQfK"
      }
    },
    {
      "cell_type": "code",
      "source": [
        "# Подготовка данных\n",
        "cat_features = ['BT_PROG', 'YEAR', 'DEGREE', 'FACULTY']\n",
        "\n",
        "encoder = ce.TargetEncoder(cols=cat_features)\n",
        "train_data_encoded = encoder.fit_transform(train_data.drop('STATUS', axis=1), train_data['STATUS'])\n",
        "val_data_encoded = encoder.transform(val_data.drop('STATUS', axis=1))\n",
        "test_data_encoded = encoder.transform(test_data.drop('STATUS', axis=1))\n",
        "\n",
        "scaler = StandardScaler()\n",
        "train_data_encoded[cat_features] = scaler.fit_transform(train_data_encoded[cat_features])\n",
        "val_data_encoded[cat_features] = scaler.transform(val_data_encoded[cat_features])\n",
        "test_data_encoded[cat_features] = scaler.transform(test_data_encoded[cat_features])\n",
        "\n",
        "# Подготовка целевых переменных\n",
        "y_train = train_data['STATUS']\n",
        "y_val = val_data['STATUS']\n",
        "y_test = test_data['STATUS']"
      ],
      "metadata": {
        "id": "vNpnIbooXkcE"
      },
      "execution_count": null,
      "outputs": []
    },
    {
      "cell_type": "markdown",
      "source": [
        "Вычисляем веса классов для взвешивания на основе дисбаланса классов в обучающей выборке."
      ],
      "metadata": {
        "id": "mrcoSNwsA3Da"
      }
    },
    {
      "cell_type": "code",
      "source": [
        "# Вычисление весов классов для взвешивания\n",
        "class_weights = dict(1 / train_data['STATUS'].value_counts())\n",
        "class_weights"
      ],
      "metadata": {
        "colab": {
          "base_uri": "https://localhost:8080/"
        },
        "id": "0G6Wydg0POQT",
        "outputId": "2cc8c047-c5db-4d42-fe1c-54697b8743dc"
      },
      "execution_count": null,
      "outputs": [
        {
          "output_type": "execute_result",
          "data": {
            "text/plain": [
              "{0: 0.005952380952380952, 1: 0.008333333333333333}"
            ]
          },
          "metadata": {},
          "execution_count": 7
        }
      ]
    },
    {
      "cell_type": "markdown",
      "source": [
        "Производим определение метрик `recall_m`, `precision_m` и `f1_m`, которые используются при компиляции модели."
      ],
      "metadata": {
        "id": "1gOQBIhoBBjv"
      }
    },
    {
      "cell_type": "code",
      "source": [
        "# Определение метрик f1, precision и recall\n",
        "def recall_m(y_true, y_pred):\n",
        "    true_positives = backend.sum(backend.round(backend.clip(y_true * y_pred, 0, 1)))\n",
        "    possible_positives = backend.sum(backend.round(backend.clip(y_true, 0, 1)))\n",
        "    recall = true_positives / (possible_positives + backend.epsilon())\n",
        "    return recall\n",
        "\n",
        "def precision_m(y_true, y_pred):\n",
        "    true_positives = backend.sum(backend.round(backend.clip(y_true * y_pred, 0, 1)))\n",
        "    predicted_positives = backend.sum(backend.round(backend.clip(y_pred, 0, 1)))\n",
        "    precision = true_positives / (predicted_positives + backend.epsilon())\n",
        "    return precision\n",
        "\n",
        "def f1_m(y_true, y_pred):\n",
        "    precision = precision_m(y_true, y_pred)\n",
        "    recall = recall_m(y_true, y_pred)\n",
        "    return 2 * ((precision * recall) / (precision + recall + backend.epsilon()))"
      ],
      "metadata": {
        "id": "xSexeC5264ut"
      },
      "execution_count": null,
      "outputs": []
    },
    {
      "cell_type": "markdown",
      "source": [
        "Создаём модель с использованием `keras.Sequential`, в которой определены слои `Dense` с активацией `relu`. И компилируем модель с оптимизатором `Adam`, функцией потерь `МАЕ` и нашими метриками."
      ],
      "metadata": {
        "id": "GuQGC1I5BJFu"
      }
    },
    {
      "cell_type": "code",
      "source": [
        "# Создание модели\n",
        "model = keras.Sequential([\n",
        "    layers.InputLayer(input_shape=(4)),\n",
        "    layers.Dense(512, activation='relu'),\n",
        "    layers.Dense(512, activation='relu'),\n",
        "    layers.Dense(256, activation='relu'),\n",
        "    layers.Dense(256, activation='relu'),\n",
        "    layers.Dense(128, activation='relu'),\n",
        "    layers.Dense(128, activation='relu'),\n",
        "    layers.Dense(1, activation='tanh')\n",
        "])\n",
        "\n",
        "# Компиляция модели с весами классов\n",
        "model.compile(\n",
        "    optimizer=optimizers.Adam(learning_rate=0.01),\n",
        "    loss='MAE',\n",
        "    metrics=[f1_m, precision_m, recall_m]\n",
        ")"
      ],
      "metadata": {
        "id": "IVn4AfaD6-I9"
      },
      "execution_count": null,
      "outputs": []
    },
    {
      "cell_type": "markdown",
      "source": [
        "Обучаем модель с использованием данных обучающей и валидационной выборок, определенных метрик и весов классов.\n",
        "\n",
        "Также создаём обратный вызов `EarlyStopping`, который остановит обучение, если метрика `val_f1_m` не улучшится в течение 3 эпох, и обратный вызов `ModelCheckpoint`, который сохраняет лучшую модель с наилучшей метрикой `val_f1_m`."
      ],
      "metadata": {
        "id": "i8ErhKK-BiMn"
      }
    },
    {
      "cell_type": "code",
      "source": [
        "# Обучение модели с весами классов\n",
        "es_callback = callbacks.EarlyStopping(patience=3)\n",
        "filename = 'model.h5'\n",
        "checkpoint = callbacks.ModelCheckpoint(filename, monitor='val_f1_m', verbose=1, save_best_only=True, mode='max')\n",
        "\n",
        "history = model.fit(\n",
        "    train_data_encoded,\n",
        "    y_train,\n",
        "    epochs=30,\n",
        "    batch_size=64,\n",
        "    callbacks=[checkpoint, es_callback],\n",
        "    validation_data=(val_data_encoded, y_val),\n",
        "    class_weight=class_weights\n",
        ")"
      ],
      "metadata": {
        "colab": {
          "base_uri": "https://localhost:8080/"
        },
        "id": "DZjOumZD7Ehn",
        "outputId": "0cd306d1-8138-4e1d-8d88-189f8d07b494"
      },
      "execution_count": null,
      "outputs": [
        {
          "output_type": "stream",
          "name": "stdout",
          "text": [
            "Epoch 1/30\n",
            "3/5 [=================>............] - ETA: 0s - loss: 0.0041 - f1_m: 0.1500 - precision_m: 0.1017 - recall_m: 0.2857             \n",
            "Epoch 1: val_f1_m improved from -inf to 0.50350, saving model to model.h5\n",
            "5/5 [==============================] - 4s 166ms/step - loss: 0.0037 - f1_m: 0.3257 - precision_m: 0.3062 - recall_m: 0.4132 - val_loss: 0.5548 - val_f1_m: 0.5035 - val_precision_m: 0.4066 - val_recall_m: 0.6635\n",
            "Epoch 2/30\n",
            "1/5 [=====>........................] - ETA: 0s - loss: 0.0025 - f1_m: 0.6774 - precision_m: 0.5833 - recall_m: 0.8077\n",
            "Epoch 2: val_f1_m did not improve from 0.50350\n",
            "5/5 [==============================] - 0s 21ms/step - loss: 0.0025 - f1_m: 0.6389 - precision_m: 0.5513 - recall_m: 0.7654 - val_loss: 0.5253 - val_f1_m: 0.5022 - val_precision_m: 0.4143 - val_recall_m: 0.6442\n",
            "Epoch 3/30\n",
            "5/5 [==============================] - ETA: 0s - loss: 0.0023 - f1_m: 0.6509 - precision_m: 0.5639 - recall_m: 0.7799\n",
            "Epoch 3: val_f1_m improved from 0.50350 to 0.51801, saving model to model.h5\n",
            "5/5 [==============================] - 0s 36ms/step - loss: 0.0023 - f1_m: 0.6509 - precision_m: 0.5639 - recall_m: 0.7799 - val_loss: 0.4499 - val_f1_m: 0.5180 - val_precision_m: 0.4550 - val_recall_m: 0.6250\n",
            "Epoch 4/30\n",
            "5/5 [==============================] - ETA: 0s - loss: 0.0023 - f1_m: 0.6380 - precision_m: 0.5703 - recall_m: 0.7281\n",
            "Epoch 4: val_f1_m did not improve from 0.51801\n",
            "5/5 [==============================] - 0s 27ms/step - loss: 0.0023 - f1_m: 0.6380 - precision_m: 0.5703 - recall_m: 0.7281 - val_loss: 0.5319 - val_f1_m: 0.5022 - val_precision_m: 0.4143 - val_recall_m: 0.6442\n",
            "Epoch 5/30\n",
            "5/5 [==============================] - ETA: 0s - loss: 0.0023 - f1_m: 0.6468 - precision_m: 0.5661 - recall_m: 0.7623\n",
            "Epoch 5: val_f1_m improved from 0.51801 to 0.55208, saving model to model.h5\n",
            "5/5 [==============================] - 0s 36ms/step - loss: 0.0023 - f1_m: 0.6468 - precision_m: 0.5661 - recall_m: 0.7623 - val_loss: 0.5584 - val_f1_m: 0.5521 - val_precision_m: 0.4342 - val_recall_m: 0.7692\n",
            "Epoch 6/30\n",
            "4/5 [=======================>......] - ETA: 0s - loss: 0.0024 - f1_m: 0.6329 - precision_m: 0.5551 - recall_m: 0.7491\n",
            "Epoch 6: val_f1_m did not improve from 0.55208\n",
            "5/5 [==============================] - 0s 47ms/step - loss: 0.0025 - f1_m: 0.6188 - precision_m: 0.5388 - recall_m: 0.7378 - val_loss: 0.5293 - val_f1_m: 0.5108 - val_precision_m: 0.4170 - val_recall_m: 0.6635\n"
          ]
        }
      ]
    },
    {
      "cell_type": "markdown",
      "source": [
        "Загрузка лучшей модели с помощью `keras.models.load_model`. Предсказываем целевые переменные для тестовой выборки и вычисляем F1-меру с использованием функции `f1_score` из библиотеки `sklearn.metrics`."
      ],
      "metadata": {
        "id": "LBzhg60VCA8S"
      }
    },
    {
      "cell_type": "code",
      "source": [
        "# Загрузка лучшей модели\n",
        "model = keras.models.load_model('model.h5', custom_objects={'f1_m': f1_m, 'precision_m': precision_m, 'recall_m': recall_m})\n",
        "\n",
        "# Предсказание и вычисление F1-меры\n",
        "predictions = model.predict(test_data_encoded)\n",
        "f1 = f1_score(y_test, predictions >= 0.8)\n",
        "print(f\"F1-score: {f1}\")"
      ],
      "metadata": {
        "colab": {
          "base_uri": "https://localhost:8080/"
        },
        "id": "cOPnAz-p7H6U",
        "outputId": "8dd4fdf1-1425-46f9-a3f0-942cdf0fb356"
      },
      "execution_count": null,
      "outputs": [
        {
          "output_type": "stream",
          "name": "stdout",
          "text": [
            "3/3 [==============================] - 0s 10ms/step\n",
            "F1-score: 0.5714285714285715\n"
          ]
        }
      ]
    },
    {
      "cell_type": "markdown",
      "source": [
        "Загружаем зарезервироанные данные для предсказания отчисления студентов. Также отбрасываем столбец 'ID'."
      ],
      "metadata": {
        "id": "ANk35R5xCV9Z"
      }
    },
    {
      "cell_type": "code",
      "source": [
        "df1 = pd.read_csv('/content/PRED.csv')\n",
        "df_new = df1.drop(['ID', 'STATUS'], axis = 1 )\n"
      ],
      "metadata": {
        "id": "yt4B-MzaRo14"
      },
      "execution_count": null,
      "outputs": []
    },
    {
      "cell_type": "markdown",
      "source": [
        "Преобразуем категориальные признаки в числовые и масштабируем данные."
      ],
      "metadata": {
        "id": "bemjPLATCqQL"
      }
    },
    {
      "cell_type": "code",
      "source": [
        "ds_pred = encoder.transform(df_new)\n",
        "ds_pred[cat_features] = scaler.transform(ds_pred[cat_features])"
      ],
      "metadata": {
        "id": "vKbOq8yyoQ3s"
      },
      "execution_count": null,
      "outputs": []
    },
    {
      "cell_type": "markdown",
      "source": [
        "Выполним предсказания для зарезервированной части."
      ],
      "metadata": {
        "id": "grIWjLATiFC2"
      }
    },
    {
      "cell_type": "code",
      "source": [
        "pred_platform = model.predict(ds_pred[cat_features])\n",
        "predictions = np.array([1 if pred_platform[_] >= 0.8 else 0 for _ in range(len(pred_platform))])\n",
        "predictions"
      ],
      "metadata": {
        "colab": {
          "base_uri": "https://localhost:8080/"
        },
        "id": "jVU9rQ2-oRKH",
        "outputId": "5c796242-a62a-40d9-f149-83422870bafa"
      },
      "execution_count": null,
      "outputs": [
        {
          "output_type": "stream",
          "name": "stdout",
          "text": [
            "2/2 [==============================] - 0s 6ms/step\n"
          ]
        },
        {
          "output_type": "execute_result",
          "data": {
            "text/plain": [
              "array([1, 1, 0, 1, 1, 1, 1, 1, 1, 1, 1, 1, 0, 1, 1, 1, 1, 0, 0, 1, 1, 1,\n",
              "       1, 1, 0, 1, 1, 1, 1, 1, 1, 1, 1, 0, 0, 0, 0, 0, 1, 0, 1, 1, 0, 0,\n",
              "       1, 0, 1, 0, 0, 1])"
            ]
          },
          "metadata": {},
          "execution_count": 14
        }
      ]
    },
    {
      "cell_type": "markdown",
      "source": [
        "Выведем более информативное отображение результата предсказания."
      ],
      "metadata": {
        "id": "i1NwNRC8DjJh"
      }
    },
    {
      "cell_type": "code",
      "source": [
        "output = pd.DataFrame({'ID':df1['ID'],'STATUS': np.squeeze(predictions)})\n",
        "output"
      ],
      "metadata": {
        "colab": {
          "base_uri": "https://localhost:8080/",
          "height": 1000
        },
        "id": "DJt95nRxqZPu",
        "outputId": "b9ef4d2b-0b6a-4c43-9e84-82bc786c070d"
      },
      "execution_count": null,
      "outputs": [
        {
          "output_type": "execute_result",
          "data": {
            "text/plain": [
              "     ID  STATUS\n",
              "0   451       1\n",
              "1   452       1\n",
              "2   453       0\n",
              "3   454       1\n",
              "4   455       1\n",
              "5   456       1\n",
              "6   457       1\n",
              "7   458       1\n",
              "8   459       1\n",
              "9   460       1\n",
              "10  461       1\n",
              "11  462       1\n",
              "12  463       0\n",
              "13  464       1\n",
              "14  465       1\n",
              "15  466       1\n",
              "16  467       1\n",
              "17  468       0\n",
              "18  469       0\n",
              "19  470       1\n",
              "20  471       1\n",
              "21  472       1\n",
              "22  473       1\n",
              "23  474       1\n",
              "24  475       0\n",
              "25  476       1\n",
              "26  477       1\n",
              "27  478       1\n",
              "28  479       1\n",
              "29  480       1\n",
              "30  481       1\n",
              "31  482       1\n",
              "32  483       1\n",
              "33  484       0\n",
              "34  485       0\n",
              "35  486       0\n",
              "36  487       0\n",
              "37  488       0\n",
              "38  489       1\n",
              "39  490       0\n",
              "40  491       1\n",
              "41  492       1\n",
              "42  493       0\n",
              "43  494       0\n",
              "44  495       1\n",
              "45  496       0\n",
              "46  497       1\n",
              "47  498       0\n",
              "48  499       0\n",
              "49  500       1"
            ],
            "text/html": [
              "\n",
              "  <div id=\"df-198be543-d8d8-4071-9a66-f5e861753a15\">\n",
              "    <div class=\"colab-df-container\">\n",
              "      <div>\n",
              "<style scoped>\n",
              "    .dataframe tbody tr th:only-of-type {\n",
              "        vertical-align: middle;\n",
              "    }\n",
              "\n",
              "    .dataframe tbody tr th {\n",
              "        vertical-align: top;\n",
              "    }\n",
              "\n",
              "    .dataframe thead th {\n",
              "        text-align: right;\n",
              "    }\n",
              "</style>\n",
              "<table border=\"1\" class=\"dataframe\">\n",
              "  <thead>\n",
              "    <tr style=\"text-align: right;\">\n",
              "      <th></th>\n",
              "      <th>ID</th>\n",
              "      <th>STATUS</th>\n",
              "    </tr>\n",
              "  </thead>\n",
              "  <tbody>\n",
              "    <tr>\n",
              "      <th>0</th>\n",
              "      <td>451</td>\n",
              "      <td>1</td>\n",
              "    </tr>\n",
              "    <tr>\n",
              "      <th>1</th>\n",
              "      <td>452</td>\n",
              "      <td>1</td>\n",
              "    </tr>\n",
              "    <tr>\n",
              "      <th>2</th>\n",
              "      <td>453</td>\n",
              "      <td>0</td>\n",
              "    </tr>\n",
              "    <tr>\n",
              "      <th>3</th>\n",
              "      <td>454</td>\n",
              "      <td>1</td>\n",
              "    </tr>\n",
              "    <tr>\n",
              "      <th>4</th>\n",
              "      <td>455</td>\n",
              "      <td>1</td>\n",
              "    </tr>\n",
              "    <tr>\n",
              "      <th>5</th>\n",
              "      <td>456</td>\n",
              "      <td>1</td>\n",
              "    </tr>\n",
              "    <tr>\n",
              "      <th>6</th>\n",
              "      <td>457</td>\n",
              "      <td>1</td>\n",
              "    </tr>\n",
              "    <tr>\n",
              "      <th>7</th>\n",
              "      <td>458</td>\n",
              "      <td>1</td>\n",
              "    </tr>\n",
              "    <tr>\n",
              "      <th>8</th>\n",
              "      <td>459</td>\n",
              "      <td>1</td>\n",
              "    </tr>\n",
              "    <tr>\n",
              "      <th>9</th>\n",
              "      <td>460</td>\n",
              "      <td>1</td>\n",
              "    </tr>\n",
              "    <tr>\n",
              "      <th>10</th>\n",
              "      <td>461</td>\n",
              "      <td>1</td>\n",
              "    </tr>\n",
              "    <tr>\n",
              "      <th>11</th>\n",
              "      <td>462</td>\n",
              "      <td>1</td>\n",
              "    </tr>\n",
              "    <tr>\n",
              "      <th>12</th>\n",
              "      <td>463</td>\n",
              "      <td>0</td>\n",
              "    </tr>\n",
              "    <tr>\n",
              "      <th>13</th>\n",
              "      <td>464</td>\n",
              "      <td>1</td>\n",
              "    </tr>\n",
              "    <tr>\n",
              "      <th>14</th>\n",
              "      <td>465</td>\n",
              "      <td>1</td>\n",
              "    </tr>\n",
              "    <tr>\n",
              "      <th>15</th>\n",
              "      <td>466</td>\n",
              "      <td>1</td>\n",
              "    </tr>\n",
              "    <tr>\n",
              "      <th>16</th>\n",
              "      <td>467</td>\n",
              "      <td>1</td>\n",
              "    </tr>\n",
              "    <tr>\n",
              "      <th>17</th>\n",
              "      <td>468</td>\n",
              "      <td>0</td>\n",
              "    </tr>\n",
              "    <tr>\n",
              "      <th>18</th>\n",
              "      <td>469</td>\n",
              "      <td>0</td>\n",
              "    </tr>\n",
              "    <tr>\n",
              "      <th>19</th>\n",
              "      <td>470</td>\n",
              "      <td>1</td>\n",
              "    </tr>\n",
              "    <tr>\n",
              "      <th>20</th>\n",
              "      <td>471</td>\n",
              "      <td>1</td>\n",
              "    </tr>\n",
              "    <tr>\n",
              "      <th>21</th>\n",
              "      <td>472</td>\n",
              "      <td>1</td>\n",
              "    </tr>\n",
              "    <tr>\n",
              "      <th>22</th>\n",
              "      <td>473</td>\n",
              "      <td>1</td>\n",
              "    </tr>\n",
              "    <tr>\n",
              "      <th>23</th>\n",
              "      <td>474</td>\n",
              "      <td>1</td>\n",
              "    </tr>\n",
              "    <tr>\n",
              "      <th>24</th>\n",
              "      <td>475</td>\n",
              "      <td>0</td>\n",
              "    </tr>\n",
              "    <tr>\n",
              "      <th>25</th>\n",
              "      <td>476</td>\n",
              "      <td>1</td>\n",
              "    </tr>\n",
              "    <tr>\n",
              "      <th>26</th>\n",
              "      <td>477</td>\n",
              "      <td>1</td>\n",
              "    </tr>\n",
              "    <tr>\n",
              "      <th>27</th>\n",
              "      <td>478</td>\n",
              "      <td>1</td>\n",
              "    </tr>\n",
              "    <tr>\n",
              "      <th>28</th>\n",
              "      <td>479</td>\n",
              "      <td>1</td>\n",
              "    </tr>\n",
              "    <tr>\n",
              "      <th>29</th>\n",
              "      <td>480</td>\n",
              "      <td>1</td>\n",
              "    </tr>\n",
              "    <tr>\n",
              "      <th>30</th>\n",
              "      <td>481</td>\n",
              "      <td>1</td>\n",
              "    </tr>\n",
              "    <tr>\n",
              "      <th>31</th>\n",
              "      <td>482</td>\n",
              "      <td>1</td>\n",
              "    </tr>\n",
              "    <tr>\n",
              "      <th>32</th>\n",
              "      <td>483</td>\n",
              "      <td>1</td>\n",
              "    </tr>\n",
              "    <tr>\n",
              "      <th>33</th>\n",
              "      <td>484</td>\n",
              "      <td>0</td>\n",
              "    </tr>\n",
              "    <tr>\n",
              "      <th>34</th>\n",
              "      <td>485</td>\n",
              "      <td>0</td>\n",
              "    </tr>\n",
              "    <tr>\n",
              "      <th>35</th>\n",
              "      <td>486</td>\n",
              "      <td>0</td>\n",
              "    </tr>\n",
              "    <tr>\n",
              "      <th>36</th>\n",
              "      <td>487</td>\n",
              "      <td>0</td>\n",
              "    </tr>\n",
              "    <tr>\n",
              "      <th>37</th>\n",
              "      <td>488</td>\n",
              "      <td>0</td>\n",
              "    </tr>\n",
              "    <tr>\n",
              "      <th>38</th>\n",
              "      <td>489</td>\n",
              "      <td>1</td>\n",
              "    </tr>\n",
              "    <tr>\n",
              "      <th>39</th>\n",
              "      <td>490</td>\n",
              "      <td>0</td>\n",
              "    </tr>\n",
              "    <tr>\n",
              "      <th>40</th>\n",
              "      <td>491</td>\n",
              "      <td>1</td>\n",
              "    </tr>\n",
              "    <tr>\n",
              "      <th>41</th>\n",
              "      <td>492</td>\n",
              "      <td>1</td>\n",
              "    </tr>\n",
              "    <tr>\n",
              "      <th>42</th>\n",
              "      <td>493</td>\n",
              "      <td>0</td>\n",
              "    </tr>\n",
              "    <tr>\n",
              "      <th>43</th>\n",
              "      <td>494</td>\n",
              "      <td>0</td>\n",
              "    </tr>\n",
              "    <tr>\n",
              "      <th>44</th>\n",
              "      <td>495</td>\n",
              "      <td>1</td>\n",
              "    </tr>\n",
              "    <tr>\n",
              "      <th>45</th>\n",
              "      <td>496</td>\n",
              "      <td>0</td>\n",
              "    </tr>\n",
              "    <tr>\n",
              "      <th>46</th>\n",
              "      <td>497</td>\n",
              "      <td>1</td>\n",
              "    </tr>\n",
              "    <tr>\n",
              "      <th>47</th>\n",
              "      <td>498</td>\n",
              "      <td>0</td>\n",
              "    </tr>\n",
              "    <tr>\n",
              "      <th>48</th>\n",
              "      <td>499</td>\n",
              "      <td>0</td>\n",
              "    </tr>\n",
              "    <tr>\n",
              "      <th>49</th>\n",
              "      <td>500</td>\n",
              "      <td>1</td>\n",
              "    </tr>\n",
              "  </tbody>\n",
              "</table>\n",
              "</div>\n",
              "      <button class=\"colab-df-convert\" onclick=\"convertToInteractive('df-198be543-d8d8-4071-9a66-f5e861753a15')\"\n",
              "              title=\"Convert this dataframe to an interactive table.\"\n",
              "              style=\"display:none;\">\n",
              "        \n",
              "  <svg xmlns=\"http://www.w3.org/2000/svg\" height=\"24px\"viewBox=\"0 0 24 24\"\n",
              "       width=\"24px\">\n",
              "    <path d=\"M0 0h24v24H0V0z\" fill=\"none\"/>\n",
              "    <path d=\"M18.56 5.44l.94 2.06.94-2.06 2.06-.94-2.06-.94-.94-2.06-.94 2.06-2.06.94zm-11 1L8.5 8.5l.94-2.06 2.06-.94-2.06-.94L8.5 2.5l-.94 2.06-2.06.94zm10 10l.94 2.06.94-2.06 2.06-.94-2.06-.94-.94-2.06-.94 2.06-2.06.94z\"/><path d=\"M17.41 7.96l-1.37-1.37c-.4-.4-.92-.59-1.43-.59-.52 0-1.04.2-1.43.59L10.3 9.45l-7.72 7.72c-.78.78-.78 2.05 0 2.83L4 21.41c.39.39.9.59 1.41.59.51 0 1.02-.2 1.41-.59l7.78-7.78 2.81-2.81c.8-.78.8-2.07 0-2.86zM5.41 20L4 18.59l7.72-7.72 1.47 1.35L5.41 20z\"/>\n",
              "  </svg>\n",
              "      </button>\n",
              "      \n",
              "  <style>\n",
              "    .colab-df-container {\n",
              "      display:flex;\n",
              "      flex-wrap:wrap;\n",
              "      gap: 12px;\n",
              "    }\n",
              "\n",
              "    .colab-df-convert {\n",
              "      background-color: #E8F0FE;\n",
              "      border: none;\n",
              "      border-radius: 50%;\n",
              "      cursor: pointer;\n",
              "      display: none;\n",
              "      fill: #1967D2;\n",
              "      height: 32px;\n",
              "      padding: 0 0 0 0;\n",
              "      width: 32px;\n",
              "    }\n",
              "\n",
              "    .colab-df-convert:hover {\n",
              "      background-color: #E2EBFA;\n",
              "      box-shadow: 0px 1px 2px rgba(60, 64, 67, 0.3), 0px 1px 3px 1px rgba(60, 64, 67, 0.15);\n",
              "      fill: #174EA6;\n",
              "    }\n",
              "\n",
              "    [theme=dark] .colab-df-convert {\n",
              "      background-color: #3B4455;\n",
              "      fill: #D2E3FC;\n",
              "    }\n",
              "\n",
              "    [theme=dark] .colab-df-convert:hover {\n",
              "      background-color: #434B5C;\n",
              "      box-shadow: 0px 1px 3px 1px rgba(0, 0, 0, 0.15);\n",
              "      filter: drop-shadow(0px 1px 2px rgba(0, 0, 0, 0.3));\n",
              "      fill: #FFFFFF;\n",
              "    }\n",
              "  </style>\n",
              "\n",
              "      <script>\n",
              "        const buttonEl =\n",
              "          document.querySelector('#df-198be543-d8d8-4071-9a66-f5e861753a15 button.colab-df-convert');\n",
              "        buttonEl.style.display =\n",
              "          google.colab.kernel.accessAllowed ? 'block' : 'none';\n",
              "\n",
              "        async function convertToInteractive(key) {\n",
              "          const element = document.querySelector('#df-198be543-d8d8-4071-9a66-f5e861753a15');\n",
              "          const dataTable =\n",
              "            await google.colab.kernel.invokeFunction('convertToInteractive',\n",
              "                                                     [key], {});\n",
              "          if (!dataTable) return;\n",
              "\n",
              "          const docLinkHtml = 'Like what you see? Visit the ' +\n",
              "            '<a target=\"_blank\" href=https://colab.research.google.com/notebooks/data_table.ipynb>data table notebook</a>'\n",
              "            + ' to learn more about interactive tables.';\n",
              "          element.innerHTML = '';\n",
              "          dataTable['output_type'] = 'display_data';\n",
              "          await google.colab.output.renderOutput(dataTable, element);\n",
              "          const docLink = document.createElement('div');\n",
              "          docLink.innerHTML = docLinkHtml;\n",
              "          element.appendChild(docLink);\n",
              "        }\n",
              "      </script>\n",
              "    </div>\n",
              "  </div>\n",
              "  "
            ]
          },
          "metadata": {},
          "execution_count": 15
        }
      ]
    },
    {
      "cell_type": "markdown",
      "source": [
        "## Метод опорных векторов"
      ],
      "metadata": {
        "id": "ITjfoeJah7L3"
      }
    },
    {
      "cell_type": "markdown",
      "source": [
        "Теперь обучим модель `SVC()` на тренировочном наборе данных с подобранными параметрами, чтобы сравнить и подобрать лучшую модель для наших данных."
      ],
      "metadata": {
        "id": "3-L0u-brI0SU"
      }
    },
    {
      "cell_type": "code",
      "source": [
        "# Создание модели SVM\n",
        "model = SVC(random_state=42, gamma = 0.001, kernel ='rbf', C = 10, class_weight = 'balanced')\n",
        "\n",
        "# Обучение модели\n",
        "model.fit(train_data_encoded, y_train)\n",
        "\n",
        "# Предсказание и вычисление F1-меры на тестовых данных\n",
        "predictions = model.predict(test_data_encoded)\n",
        "f1 = f1_score(y_test, predictions)\n",
        "\n",
        "print(\"F1-score:\", f1)"
      ],
      "metadata": {
        "colab": {
          "base_uri": "https://localhost:8080/"
        },
        "id": "QLmb2gu5TUn0",
        "outputId": "ef992968-870f-42cd-dd3d-47a94e2ceca0"
      },
      "execution_count": null,
      "outputs": [
        {
          "output_type": "stream",
          "name": "stdout",
          "text": [
            "F1-score: 0.5833333333333333\n"
          ]
        }
      ]
    },
    {
      "cell_type": "markdown",
      "source": [
        "Используя `GridSearchCV()`, осуществляем подбор гиперпараметров."
      ],
      "metadata": {
        "id": "FDFd5oI4IqRT"
      }
    },
    {
      "cell_type": "code",
      "source": [
        "# from sklearn.model_selection import GridSearchCV\n",
        "\n",
        "\n",
        "# tuned_parameters = [{'kernel': ['linear', 'poly', 'rbf', 'sigmoid'], 'gamma': [1e-3, 1e-4],\n",
        "#                      'C': [1, 10, 100, 1000, 10000], 'class_weight': [None, 'balanced'], 'random_state':[42]}]\n",
        "\n",
        "\n",
        "# cv = GridSearchCV(SVC(), tuned_parameters, refit=True, verbose=3).fit(train_data_encoded, y_train)\n"
      ],
      "metadata": {
        "id": "1QoqGTHYVzW-"
      },
      "execution_count": null,
      "outputs": []
    },
    {
      "cell_type": "markdown",
      "source": [
        "Выводим лучшие параметры после обучения."
      ],
      "metadata": {
        "id": "PZKzY-LDJGen"
      }
    },
    {
      "cell_type": "code",
      "source": [
        "#cv.best_params_"
      ],
      "metadata": {
        "id": "M3iDnPZCWG63"
      },
      "execution_count": null,
      "outputs": []
    },
    {
      "cell_type": "markdown",
      "source": [
        "Подставляем \"лучшие параметры\" в модель и смотрим на полученное значение F1- меры."
      ],
      "metadata": {
        "id": "E7LQJYNKJhac"
      }
    },
    {
      "cell_type": "code",
      "source": [
        "# Создание модели SVM\n",
        "model = SVC(class_weight='balanced', random_state=42, gamma = 'scale', C = 100)\n",
        "\n",
        "# Обучение модели\n",
        "model.fit(train_data_encoded, y_train)\n",
        "\n",
        "# Предсказание и вычисление F1-меры на тестовых данных\n",
        "predictions = model.predict(test_data_encoded)\n",
        "f1 = f1_score(y_test, predictions)\n",
        "\n",
        "print(\"F1-score:\", f1)"
      ],
      "metadata": {
        "colab": {
          "base_uri": "https://localhost:8080/"
        },
        "id": "i1-PpeEFWMCV",
        "outputId": "07101ecf-2c97-44e1-e792-1076a0130c6b"
      },
      "execution_count": null,
      "outputs": [
        {
          "output_type": "stream",
          "name": "stdout",
          "text": [
            "F1-score: 0.6097560975609757\n"
          ]
        }
      ]
    },
    {
      "cell_type": "markdown",
      "source": [
        "Показания улучшились! Теперь предскажем наши отчисления студентов по этой модели."
      ],
      "metadata": {
        "id": "XwT-mwX9iP5R"
      }
    },
    {
      "cell_type": "code",
      "source": [
        "pred_platform = model.predict(ds_pred[cat_features])\n",
        "predictions = np.array([1 if pred_platform[_] >= 0.8 else 0 for _ in range(len(pred_platform))])\n",
        "predictions"
      ],
      "metadata": {
        "colab": {
          "base_uri": "https://localhost:8080/"
        },
        "id": "w2mqqppPg8hI",
        "outputId": "c6dc5f31-5b22-45ca-da02-ae4fd58e36dd"
      },
      "execution_count": null,
      "outputs": [
        {
          "output_type": "execute_result",
          "data": {
            "text/plain": [
              "array([0, 1, 0, 1, 1, 1, 1, 0, 1, 1, 1, 1, 0, 0, 1, 1, 1, 0, 0, 1, 0, 1,\n",
              "       0, 1, 0, 1, 1, 1, 1, 1, 1, 1, 1, 0, 0, 0, 0, 0, 1, 0, 0, 1, 0, 0,\n",
              "       1, 0, 1, 0, 0, 0])"
            ]
          },
          "metadata": {},
          "execution_count": 20
        }
      ]
    },
    {
      "cell_type": "markdown",
      "source": [
        "##Свёрточная нейронная сеть"
      ],
      "metadata": {
        "id": "LNkNrfBEmu6I"
      }
    },
    {
      "cell_type": "markdown",
      "source": [
        "Теперь попробуем обучить нашу модель с помощью свёрточной нейронной сети. Для начала загрузим необходимые библиотеки."
      ],
      "metadata": {
        "id": "RAx7m7kdnGHN"
      }
    },
    {
      "cell_type": "code",
      "source": [
        "import torchvision\n",
        "import numpy as np\n",
        "import tensorflow as tf\n",
        "from tensorflow.keras.models import Sequential\n",
        "from tensorflow.keras.layers import Conv1D, MaxPooling1D, Flatten, Dense, Dropout\n",
        "from sklearn.metrics import f1_score\n",
        "\n",
        "# Создание модели\n",
        "model = Sequential()\n",
        "model.add(Conv1D(1024, kernel_size=3, activation='PReLU', input_shape=(4, 1)))  # Update input shape here\n",
        "model.add(MaxPooling1D(pool_size=2))  # Update pool_size here\n",
        "model.add(Flatten())\n",
        "model.add(Dense(512, activation='PReLU'))\n",
        "model.add(Dense(512, activation='PReLU'))\n",
        "model.add(Dense(256, activation='PReLU'))\n",
        "model.add(Dense(256, activation='PReLU'))\n",
        "model.add(Dense(128, activation='PReLU'))\n",
        "model.add(Dense(128, activation='PReLU'))\n",
        "model.add(Dropout(0.5))\n",
        "model.add(Dense(1, activation='tanh'))\n",
        "\n",
        "\n",
        "# Компиляция модели\n",
        "model.compile(optimizer='adam', loss='MAE', metrics=['accuracy'])\n",
        "\n",
        "# В данном случае данные будут разделены на блоки по 3 значения, создавая 286 сэмплов, каждый с 3 временными шагами и 1 признаком\n",
        "data = df.values\n",
        "data = np.reshape(data, (data.shape[0], data.shape[1], 1))\n",
        "\n",
        "X_train = train_data_encoded\n",
        "X_test = test_data_encoded\n",
        "\n",
        "# Обучение модели\n",
        "model.fit(X_train, y_train, epochs= 10, batch_size=64, validation_data=(X_test, y_test))\n",
        "\n",
        "# Предсказания на тестовых данных\n",
        "y_pred = model.predict(X_test)\n",
        "y_pred = (y_pred > 0.8).astype(int)\n",
        "\n",
        "# Вычисление F1-метрики\n",
        "f1 = f1_score(y_test, y_pred)\n",
        "\n",
        "print(\"F1 Score:\", f1)\n"
      ],
      "metadata": {
        "colab": {
          "base_uri": "https://localhost:8080/"
        },
        "id": "RFB4PipF8ux1",
        "outputId": "786dac20-768d-43d3-b411-fa407090b4a9"
      },
      "execution_count": null,
      "outputs": [
        {
          "output_type": "stream",
          "name": "stdout",
          "text": [
            "Epoch 1/10\n",
            "5/5 [==============================] - 5s 268ms/step - loss: 0.4218 - accuracy: 0.5833 - val_loss: 0.4233 - val_accuracy: 0.5889\n",
            "Epoch 2/10\n",
            "5/5 [==============================] - 1s 116ms/step - loss: 0.4159 - accuracy: 0.5868 - val_loss: 0.3895 - val_accuracy: 0.5889\n",
            "Epoch 3/10\n",
            "5/5 [==============================] - 0s 104ms/step - loss: 0.3967 - accuracy: 0.6285 - val_loss: 0.3697 - val_accuracy: 0.6556\n",
            "Epoch 4/10\n",
            "5/5 [==============================] - 1s 112ms/step - loss: 0.3638 - accuracy: 0.6458 - val_loss: 0.3480 - val_accuracy: 0.6778\n",
            "Epoch 5/10\n",
            "5/5 [==============================] - 1s 116ms/step - loss: 0.3470 - accuracy: 0.6493 - val_loss: 0.4143 - val_accuracy: 0.6111\n",
            "Epoch 6/10\n",
            "5/5 [==============================] - 0s 89ms/step - loss: 0.3317 - accuracy: 0.6875 - val_loss: 0.3574 - val_accuracy: 0.6444\n",
            "Epoch 7/10\n",
            "5/5 [==============================] - 0s 96ms/step - loss: 0.3202 - accuracy: 0.6944 - val_loss: 0.3511 - val_accuracy: 0.6556\n",
            "Epoch 8/10\n",
            "5/5 [==============================] - 0s 62ms/step - loss: 0.3265 - accuracy: 0.6875 - val_loss: 0.3445 - val_accuracy: 0.6556\n",
            "Epoch 9/10\n",
            "5/5 [==============================] - 0s 76ms/step - loss: 0.3138 - accuracy: 0.6910 - val_loss: 0.3472 - val_accuracy: 0.6556\n",
            "Epoch 10/10\n",
            "5/5 [==============================] - 0s 75ms/step - loss: 0.3082 - accuracy: 0.6910 - val_loss: 0.3397 - val_accuracy: 0.6667\n",
            "3/3 [==============================] - 0s 11ms/step\n",
            "F1 Score: 0.5833333333333333\n"
          ]
        }
      ]
    },
    {
      "cell_type": "code",
      "source": [
        "pred_platform = model.predict(ds_pred[cat_features])\n",
        "predictions = np.array([1 if pred_platform[_] >= 0.8 else 0 for _ in range(len(pred_platform))])\n",
        "predictions"
      ],
      "metadata": {
        "colab": {
          "base_uri": "https://localhost:8080/"
        },
        "id": "tiGKh8fwg93N",
        "outputId": "ebe9ea22-5c3a-4460-c3d8-945ae1542e28"
      },
      "execution_count": null,
      "outputs": [
        {
          "output_type": "stream",
          "name": "stdout",
          "text": [
            "2/2 [==============================] - 0s 17ms/step\n"
          ]
        },
        {
          "output_type": "execute_result",
          "data": {
            "text/plain": [
              "array([0, 1, 0, 1, 0, 1, 1, 0, 1, 1, 1, 1, 0, 0, 0, 1, 1, 0, 0, 0, 0, 1,\n",
              "       0, 1, 0, 0, 1, 1, 1, 1, 1, 1, 0, 0, 0, 0, 0, 0, 1, 0, 0, 1, 0, 0,\n",
              "       1, 0, 1, 0, 0, 0])"
            ]
          },
          "metadata": {},
          "execution_count": 22
        }
      ]
    },
    {
      "cell_type": "markdown",
      "source": [
        "## Классификатор MLPClassifier"
      ],
      "metadata": {
        "id": "r2CDB8GWnREt"
      }
    },
    {
      "cell_type": "markdown",
      "source": [
        "Тут мы решили попробовать самый простой известный нам вариант - просто обучить классификатор и всё!)"
      ],
      "metadata": {
        "id": "iI8KkH3OnYoE"
      }
    },
    {
      "cell_type": "code",
      "source": [
        "from sklearn.neural_network import MLPClassifier\n",
        "from sklearn.metrics import precision_score, recall_score, f1_score\n",
        "\n",
        "# Обучение\n",
        "classifier = MLPClassifier(random_state=65, hidden_layer_sizes=(31, 10), activation='logistic', max_iter=1000)\n",
        "classifier.fit(train_data_encoded, y_train)\n",
        "\n",
        "# Оценка модели на тестовых данных\n",
        "y_pred = classifier.predict(test_data_encoded)\n",
        "f1 = f1_score(y_test, y_pred, average='macro')\n",
        "\n",
        "# Вывод f1 метрики\n",
        "print(\"F1-score:\", f1)"
      ],
      "metadata": {
        "colab": {
          "base_uri": "https://localhost:8080/"
        },
        "id": "LuvbbQqGlJM_",
        "outputId": "bf7df8f7-828a-4359-b790-90505a211e6e"
      },
      "execution_count": null,
      "outputs": [
        {
          "output_type": "stream",
          "name": "stdout",
          "text": [
            "F1-score: 0.6309458720612356\n"
          ]
        }
      ]
    },
    {
      "cell_type": "markdown",
      "source": [
        "Вуа-ля! Самый высокий результат на этих данных готов."
      ],
      "metadata": {
        "id": "Kx6KPrkgnpMs"
      }
    },
    {
      "cell_type": "code",
      "source": [
        "pred_platform = classifier.predict(ds_pred[cat_features])\n",
        "predictions = np.array([1 if pred_platform[_] >= 0.8 else 0 for _ in range(len(pred_platform))])\n",
        "predictions"
      ],
      "metadata": {
        "colab": {
          "base_uri": "https://localhost:8080/"
        },
        "id": "J8rh5tgApGro",
        "outputId": "667af83b-672e-4034-cbe2-5d48e012d086"
      },
      "execution_count": null,
      "outputs": [
        {
          "output_type": "execute_result",
          "data": {
            "text/plain": [
              "array([0, 1, 0, 1, 0, 1, 1, 0, 1, 1, 0, 0, 0, 0, 1, 1, 1, 0, 0, 1, 0, 1,\n",
              "       1, 1, 0, 1, 0, 1, 1, 1, 0, 1, 1, 0, 0, 0, 0, 0, 0, 0, 0, 1, 0, 0,\n",
              "       1, 0, 0, 0, 0, 0])"
            ]
          },
          "metadata": {},
          "execution_count": 24
        }
      ]
    },
    {
      "cell_type": "markdown",
      "source": [
        "## Получение зависимости отчисления от различных параметров"
      ],
      "metadata": {
        "id": "qZo3IT1JyU2E"
      }
    },
    {
      "cell_type": "code",
      "source": [
        "# Группировка данных по образовательной программе, ступени образования и курсу обучения\n",
        "grouped_data = df.groupby(['BT_PROG', 'DEGREE', 'YEAR', 'FACULTY'])\n",
        "\n",
        "# Подсчет количества отчисленных студентов в каждой группе\n",
        "dropout_count = grouped_data['STATUS'].sum()\n",
        "\n",
        "# Подсчет общего количества студентов в каждой группе\n",
        "total_count = grouped_data['STATUS'].count()\n",
        "\n",
        "# Вычисление доли отчисленных студентов в каждой группе\n",
        "dropout_rate = dropout_count / total_count\n",
        "\n",
        "# Сортировка групп по убыванию доли отчисленных студентов\n",
        "sorted_groups = dropout_rate.sort_values(ascending=False)\n",
        "\n",
        "# Вывод топ-N групп с наивысшей долей отчисленных студентов\n",
        "top_n = 30\n",
        "top_groups = sorted_groups.head(top_n)\n",
        "print(\"Топ-{} групп с наивысшей долей отчисленных студентов:\".format(top_n))\n",
        "print(top_groups)\n"
      ],
      "metadata": {
        "colab": {
          "base_uri": "https://localhost:8080/"
        },
        "id": "fyELLFDNvmwh",
        "outputId": "bc23b570-c91a-4291-bafd-54bb5c684b9e"
      },
      "execution_count": null,
      "outputs": [
        {
          "output_type": "stream",
          "name": "stdout",
          "text": [
            "Топ-30 групп с наивысшей долей отчисленных студентов:\n",
            "BT_PROG  DEGREE  YEAR  FACULTY\n",
            "1        1       1     ХИ         1.000000\n",
            "0        0       2     ЭИС        1.000000\n",
            "         1       2     ФТМИ       1.000000\n",
            "1        0       2     ИЛТ        1.000000\n",
            "0        1       1     МРИП       1.000000\n",
            "                       ИЛТ        1.000000\n",
            "                       БИТ        1.000000\n",
            "         0       4     ИЛТ        1.000000\n",
            "                       ИКТ        1.000000\n",
            "1        0       4     ИТИП       1.000000\n",
            "0        0       3     ИТИП       1.000000\n",
            "                 4     ФТМИ       1.000000\n",
            "1        1       1     ИКТ        1.000000\n",
            "0        0       2     ФЭТ        1.000000\n",
            "                       ИТИП       1.000000\n",
            "                       ФБТ        0.857143\n",
            "                       ФИЗФ       0.800000\n",
            "1        0       2     ИТИП       0.782609\n",
            "0        0       2     ЦПО        0.666667\n",
            "                 3     ПИИКТ      0.666667\n",
            "         1       2     ФБТ        0.666667\n",
            "1        0       3     ИТИП       0.666667\n",
            "0        0       4     ПИИКТ      0.666667\n",
            "1        0       3     ФТМИ       0.647059\n",
            "                 4     ФТМИ       0.571429\n",
            "                       ПИИКТ      0.571429\n",
            "0        0       2     ХИ         0.555556\n",
            "1        0       3     ПИИКТ      0.523810\n",
            "0        0       2     СУИР       0.500000\n",
            "         1       1     ВИТШ       0.500000\n",
            "Name: STATUS, dtype: float64\n"
          ]
        }
      ]
    },
    {
      "cell_type": "markdown",
      "source": [
        "Тут мы учитываем факультет студентов, однако в силу того что многие вариации атрибутов были представлены только в одном студенте, мы получили результат в котором 15 наборов отчислятся в 100% случаях. Это не совсем корректно, поэтому попробуем не учитывать факультеты студентов и посмотрим на результаты."
      ],
      "metadata": {
        "id": "UOkGyfXp0ca7"
      }
    },
    {
      "cell_type": "code",
      "source": [
        "# Группировка данных по образовательной программе, ступени образования и курсу обучения\n",
        "grouped_data = df.groupby(['BT_PROG', 'DEGREE', 'YEAR'])\n",
        "\n",
        "# Подсчет количества отчисленных студентов в каждой группе\n",
        "dropout_count = grouped_data['STATUS'].sum()\n",
        "\n",
        "# Подсчет общего количества студентов в каждой группе\n",
        "total_count = grouped_data['STATUS'].count()\n",
        "\n",
        "# Вычисление доли отчисленных студентов в каждой группе\n",
        "dropout_rate = dropout_count / total_count\n",
        "\n",
        "# Сортировка групп по убыванию доли отчисленных студентов\n",
        "sorted_groups = dropout_rate.sort_values(ascending=False)\n",
        "\n",
        "# Вывод топ-N групп с наивысшей долей отчисленных студентов\n",
        "top_n = 5\n",
        "top_groups = sorted_groups.head(top_n)\n",
        "print(\"Топ-{} групп с наивысшей долей отчисленных студентов:\".format(top_n))\n",
        "print(top_groups)"
      ],
      "metadata": {
        "colab": {
          "base_uri": "https://localhost:8080/"
        },
        "id": "9o4SMF6Tzt1H",
        "outputId": "cf2c17c2-af87-4680-edd3-dbcbb29ddf7c"
      },
      "execution_count": null,
      "outputs": [
        {
          "output_type": "stream",
          "name": "stdout",
          "text": [
            "Топ-5 групп с наивысшей долей отчисленных студентов:\n",
            "BT_PROG  DEGREE  YEAR\n",
            "1        1       1       0.750000\n",
            "0        0       4       0.600000\n",
            "                 2       0.596154\n",
            "1        0       4       0.512821\n",
            "                 3       0.507246\n",
            "Name: STATUS, dtype: float64\n"
          ]
        }
      ]
    },
    {
      "cell_type": "markdown",
      "source": [
        "Получаем, такой список для самых частых отчислений:\n",
        "\n",
        "1.   Методы анализа данных, магистры, 1 курс - 75.0%\n",
        "2.   Технологии анализа данных, бакалавры, 4 курс - 60.0%\n",
        "3.   Технологии анализа данных, бакалавры, 2 курс - 59.6%\n",
        "4.   Методы анализа данных, бакалавры, 4 курс - 51.2%\n",
        "3.   Методы анализа данных, бакалавры, 3 курс - 50.7%\n",
        "\n",
        "\n",
        "\n"
      ],
      "metadata": {
        "id": "732qUqsoyfKO"
      }
    },
    {
      "cell_type": "markdown",
      "source": [
        "## Выводы"
      ],
      "metadata": {
        "id": "hnvyIEM_oHPm"
      }
    },
    {
      "cell_type": "markdown",
      "source": [
        "Обучая нейронные сети для предсказаний мы добивались разных резултатов. Где-то они были выше, а где-то значительно ниже. Самый высокий результат на данный момент (0.63) был достигнут с помощью алгоритма многослойного перцептрона. К сожалению, результаты всё ещё не настолько точные, какими мы бы хотели их видеть, но это уже проблема ограниченности нашего датасета:( Подобрать ещё одни атрибуты у нас нет возможности и дата сама по себе не очень большая.\n",
        "\n",
        "Что же касается статистики, то чаще всего отчисляются магистры \"методов\" на первом курсе."
      ],
      "metadata": {
        "id": "X8K8V51HK6E9"
      }
    },
    {
      "cell_type": "markdown",
      "source": [
        "\n",
        "\n",
        "---\n",
        "\n",
        "Алексеева Елизавета, К32202\n",
        "\n",
        "Лоскутова Ирина, К32202\n",
        "\n",
        "Рогозина Вероника, К32202"
      ],
      "metadata": {
        "id": "gSz-VcGZ4Kwn"
      }
    }
  ]
}