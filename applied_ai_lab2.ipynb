{
  "cells": [
    {
      "cell_type": "markdown",
      "metadata": {
        "id": "view-in-github",
        "colab_type": "text"
      },
      "source": [
        "<a href=\"https://colab.research.google.com/github/sgsoul/applied-ai/blob/main/applied_ai_lab2.ipynb\" target=\"_parent\"><img src=\"https://colab.research.google.com/assets/colab-badge.svg\" alt=\"Open In Colab\"/></a>"
      ]
    },
    {
      "cell_type": "markdown",
      "source": [
        "## Прогнозирование цен на жилье с помощью нейросетевой регрессионной модели\n",
        "\n",
        "Необходимо по имеющимся данным о ценах на жильё предсказать окончательную цену каждого дома с учетом характеристик домов с использованием нейронной сети. Описание набора данных  содержит 80 классов (набор переменых) классификации оценки типа жилья, и находится в файле `data_description.txt`.\n",
        "\n",
        "В работе требуется дополнить раздел «Моделирование» в подразделе «Построение и обучение модели» создать и инициализировать последовательную модель нейронной сети с помощью фрэймворков тренировки нейронных сетей как: Torch или Tensorflow. Скомпилировать нейронную сеть выбрав функцию потерь и оптимизатор соответственно. Оценить точность полученных результатов. Вывести предсказанные данные о продаже. \n",
        "\n",
        "\n",
        "### Импорт библиотек\n",
        "Импортируем необходимые библиотеки:"
      ],
      "metadata": {
        "datalore": {
          "node_id": "CFxNZVf0hbNxeCop4nIN2T",
          "type": "MD",
          "hide_input_from_viewers": false,
          "hide_output_from_viewers": false
        },
        "id": "xNdqmsg81VQ3"
      }
    },
    {
      "cell_type": "code",
      "source": [
        "import numpy as np\n",
        "import pandas as pd\n",
        "import matplotlib.pyplot as plt\n",
        "from sklearn.model_selection import train_test_split"
      ],
      "execution_count": 84,
      "outputs": [],
      "metadata": {
        "datalore": {
          "node_id": "BuwU26gdC1ZUAFRZo5cgMp",
          "type": "CODE",
          "hide_input_from_viewers": false,
          "hide_output_from_viewers": false
        },
        "id": "WqKgNN1J1VQ8"
      }
    },
    {
      "cell_type": "markdown",
      "source": [
        "### Считываем набор данных\n",
        "\n",
        "\n",
        "Загрузим набор данных и присвоим следующими переменные:\n",
        "\n",
        "* `train_data`: данные, используемые для обучения модели\n",
        "* `test_data`: данные, используемые для проверки модели"
      ],
      "metadata": {
        "datalore": {
          "node_id": "yDvlZr4HAkGEmZYhi0oxLW",
          "type": "MD",
          "hide_input_from_viewers": false,
          "hide_output_from_viewers": false
        },
        "id": "uw9OQnZN1VQ9"
      }
    },
    {
      "cell_type": "code",
      "source": [
        "train_data = pd.read_csv('/content/train.csv')\n",
        "test_data = pd.read_csv('/content/test.csv')"
      ],
      "execution_count": 85,
      "outputs": [],
      "metadata": {
        "datalore": {
          "node_id": "cv3SeTOL5K6waszFLFVrHV",
          "type": "CODE",
          "hide_input_from_viewers": false,
          "hide_output_from_viewers": false
        },
        "id": "km1tRjgE1VQ-"
      }
    },
    {
      "cell_type": "markdown",
      "source": [
        "## Подготовка данных\n",
        "### Отобразим обучающие и проверочные данные:"
      ],
      "metadata": {
        "datalore": {
          "node_id": "OkRocMZR6KzqkfMDYArdLj",
          "type": "MD",
          "hide_input_from_viewers": false,
          "hide_output_from_viewers": false
        },
        "id": "YKPoKUfx1VQ_"
      }
    },
    {
      "cell_type": "code",
      "source": [
        "train_data.head()"
      ],
      "execution_count": 86,
      "outputs": [
        {
          "output_type": "execute_result",
          "data": {
            "text/plain": [
              "   Id  MSSubClass MSZoning  LotFrontage  LotArea Street Alley LotShape  \\\n",
              "0   1          60       RL         65.0     8450   Pave   NaN      Reg   \n",
              "1   2          20       RL         80.0     9600   Pave   NaN      Reg   \n",
              "2   3          60       RL         68.0    11250   Pave   NaN      IR1   \n",
              "3   4          70       RL         60.0     9550   Pave   NaN      IR1   \n",
              "4   5          60       RL         84.0    14260   Pave   NaN      IR1   \n",
              "\n",
              "  LandContour Utilities  ... PoolArea PoolQC Fence MiscFeature MiscVal MoSold  \\\n",
              "0         Lvl    AllPub  ...        0    NaN   NaN         NaN       0      2   \n",
              "1         Lvl    AllPub  ...        0    NaN   NaN         NaN       0      5   \n",
              "2         Lvl    AllPub  ...        0    NaN   NaN         NaN       0      9   \n",
              "3         Lvl    AllPub  ...        0    NaN   NaN         NaN       0      2   \n",
              "4         Lvl    AllPub  ...        0    NaN   NaN         NaN       0     12   \n",
              "\n",
              "  YrSold  SaleType  SaleCondition  SalePrice  \n",
              "0   2008        WD         Normal     208500  \n",
              "1   2007        WD         Normal     181500  \n",
              "2   2008        WD         Normal     223500  \n",
              "3   2006        WD        Abnorml     140000  \n",
              "4   2008        WD         Normal     250000  \n",
              "\n",
              "[5 rows x 81 columns]"
            ],
            "text/html": [
              "\n",
              "  <div id=\"df-3c9fe32a-d29f-42e0-89c3-4726d1d4f481\">\n",
              "    <div class=\"colab-df-container\">\n",
              "      <div>\n",
              "<style scoped>\n",
              "    .dataframe tbody tr th:only-of-type {\n",
              "        vertical-align: middle;\n",
              "    }\n",
              "\n",
              "    .dataframe tbody tr th {\n",
              "        vertical-align: top;\n",
              "    }\n",
              "\n",
              "    .dataframe thead th {\n",
              "        text-align: right;\n",
              "    }\n",
              "</style>\n",
              "<table border=\"1\" class=\"dataframe\">\n",
              "  <thead>\n",
              "    <tr style=\"text-align: right;\">\n",
              "      <th></th>\n",
              "      <th>Id</th>\n",
              "      <th>MSSubClass</th>\n",
              "      <th>MSZoning</th>\n",
              "      <th>LotFrontage</th>\n",
              "      <th>LotArea</th>\n",
              "      <th>Street</th>\n",
              "      <th>Alley</th>\n",
              "      <th>LotShape</th>\n",
              "      <th>LandContour</th>\n",
              "      <th>Utilities</th>\n",
              "      <th>...</th>\n",
              "      <th>PoolArea</th>\n",
              "      <th>PoolQC</th>\n",
              "      <th>Fence</th>\n",
              "      <th>MiscFeature</th>\n",
              "      <th>MiscVal</th>\n",
              "      <th>MoSold</th>\n",
              "      <th>YrSold</th>\n",
              "      <th>SaleType</th>\n",
              "      <th>SaleCondition</th>\n",
              "      <th>SalePrice</th>\n",
              "    </tr>\n",
              "  </thead>\n",
              "  <tbody>\n",
              "    <tr>\n",
              "      <th>0</th>\n",
              "      <td>1</td>\n",
              "      <td>60</td>\n",
              "      <td>RL</td>\n",
              "      <td>65.0</td>\n",
              "      <td>8450</td>\n",
              "      <td>Pave</td>\n",
              "      <td>NaN</td>\n",
              "      <td>Reg</td>\n",
              "      <td>Lvl</td>\n",
              "      <td>AllPub</td>\n",
              "      <td>...</td>\n",
              "      <td>0</td>\n",
              "      <td>NaN</td>\n",
              "      <td>NaN</td>\n",
              "      <td>NaN</td>\n",
              "      <td>0</td>\n",
              "      <td>2</td>\n",
              "      <td>2008</td>\n",
              "      <td>WD</td>\n",
              "      <td>Normal</td>\n",
              "      <td>208500</td>\n",
              "    </tr>\n",
              "    <tr>\n",
              "      <th>1</th>\n",
              "      <td>2</td>\n",
              "      <td>20</td>\n",
              "      <td>RL</td>\n",
              "      <td>80.0</td>\n",
              "      <td>9600</td>\n",
              "      <td>Pave</td>\n",
              "      <td>NaN</td>\n",
              "      <td>Reg</td>\n",
              "      <td>Lvl</td>\n",
              "      <td>AllPub</td>\n",
              "      <td>...</td>\n",
              "      <td>0</td>\n",
              "      <td>NaN</td>\n",
              "      <td>NaN</td>\n",
              "      <td>NaN</td>\n",
              "      <td>0</td>\n",
              "      <td>5</td>\n",
              "      <td>2007</td>\n",
              "      <td>WD</td>\n",
              "      <td>Normal</td>\n",
              "      <td>181500</td>\n",
              "    </tr>\n",
              "    <tr>\n",
              "      <th>2</th>\n",
              "      <td>3</td>\n",
              "      <td>60</td>\n",
              "      <td>RL</td>\n",
              "      <td>68.0</td>\n",
              "      <td>11250</td>\n",
              "      <td>Pave</td>\n",
              "      <td>NaN</td>\n",
              "      <td>IR1</td>\n",
              "      <td>Lvl</td>\n",
              "      <td>AllPub</td>\n",
              "      <td>...</td>\n",
              "      <td>0</td>\n",
              "      <td>NaN</td>\n",
              "      <td>NaN</td>\n",
              "      <td>NaN</td>\n",
              "      <td>0</td>\n",
              "      <td>9</td>\n",
              "      <td>2008</td>\n",
              "      <td>WD</td>\n",
              "      <td>Normal</td>\n",
              "      <td>223500</td>\n",
              "    </tr>\n",
              "    <tr>\n",
              "      <th>3</th>\n",
              "      <td>4</td>\n",
              "      <td>70</td>\n",
              "      <td>RL</td>\n",
              "      <td>60.0</td>\n",
              "      <td>9550</td>\n",
              "      <td>Pave</td>\n",
              "      <td>NaN</td>\n",
              "      <td>IR1</td>\n",
              "      <td>Lvl</td>\n",
              "      <td>AllPub</td>\n",
              "      <td>...</td>\n",
              "      <td>0</td>\n",
              "      <td>NaN</td>\n",
              "      <td>NaN</td>\n",
              "      <td>NaN</td>\n",
              "      <td>0</td>\n",
              "      <td>2</td>\n",
              "      <td>2006</td>\n",
              "      <td>WD</td>\n",
              "      <td>Abnorml</td>\n",
              "      <td>140000</td>\n",
              "    </tr>\n",
              "    <tr>\n",
              "      <th>4</th>\n",
              "      <td>5</td>\n",
              "      <td>60</td>\n",
              "      <td>RL</td>\n",
              "      <td>84.0</td>\n",
              "      <td>14260</td>\n",
              "      <td>Pave</td>\n",
              "      <td>NaN</td>\n",
              "      <td>IR1</td>\n",
              "      <td>Lvl</td>\n",
              "      <td>AllPub</td>\n",
              "      <td>...</td>\n",
              "      <td>0</td>\n",
              "      <td>NaN</td>\n",
              "      <td>NaN</td>\n",
              "      <td>NaN</td>\n",
              "      <td>0</td>\n",
              "      <td>12</td>\n",
              "      <td>2008</td>\n",
              "      <td>WD</td>\n",
              "      <td>Normal</td>\n",
              "      <td>250000</td>\n",
              "    </tr>\n",
              "  </tbody>\n",
              "</table>\n",
              "<p>5 rows × 81 columns</p>\n",
              "</div>\n",
              "      <button class=\"colab-df-convert\" onclick=\"convertToInteractive('df-3c9fe32a-d29f-42e0-89c3-4726d1d4f481')\"\n",
              "              title=\"Convert this dataframe to an interactive table.\"\n",
              "              style=\"display:none;\">\n",
              "        \n",
              "  <svg xmlns=\"http://www.w3.org/2000/svg\" height=\"24px\"viewBox=\"0 0 24 24\"\n",
              "       width=\"24px\">\n",
              "    <path d=\"M0 0h24v24H0V0z\" fill=\"none\"/>\n",
              "    <path d=\"M18.56 5.44l.94 2.06.94-2.06 2.06-.94-2.06-.94-.94-2.06-.94 2.06-2.06.94zm-11 1L8.5 8.5l.94-2.06 2.06-.94-2.06-.94L8.5 2.5l-.94 2.06-2.06.94zm10 10l.94 2.06.94-2.06 2.06-.94-2.06-.94-.94-2.06-.94 2.06-2.06.94z\"/><path d=\"M17.41 7.96l-1.37-1.37c-.4-.4-.92-.59-1.43-.59-.52 0-1.04.2-1.43.59L10.3 9.45l-7.72 7.72c-.78.78-.78 2.05 0 2.83L4 21.41c.39.39.9.59 1.41.59.51 0 1.02-.2 1.41-.59l7.78-7.78 2.81-2.81c.8-.78.8-2.07 0-2.86zM5.41 20L4 18.59l7.72-7.72 1.47 1.35L5.41 20z\"/>\n",
              "  </svg>\n",
              "      </button>\n",
              "      \n",
              "  <style>\n",
              "    .colab-df-container {\n",
              "      display:flex;\n",
              "      flex-wrap:wrap;\n",
              "      gap: 12px;\n",
              "    }\n",
              "\n",
              "    .colab-df-convert {\n",
              "      background-color: #E8F0FE;\n",
              "      border: none;\n",
              "      border-radius: 50%;\n",
              "      cursor: pointer;\n",
              "      display: none;\n",
              "      fill: #1967D2;\n",
              "      height: 32px;\n",
              "      padding: 0 0 0 0;\n",
              "      width: 32px;\n",
              "    }\n",
              "\n",
              "    .colab-df-convert:hover {\n",
              "      background-color: #E2EBFA;\n",
              "      box-shadow: 0px 1px 2px rgba(60, 64, 67, 0.3), 0px 1px 3px 1px rgba(60, 64, 67, 0.15);\n",
              "      fill: #174EA6;\n",
              "    }\n",
              "\n",
              "    [theme=dark] .colab-df-convert {\n",
              "      background-color: #3B4455;\n",
              "      fill: #D2E3FC;\n",
              "    }\n",
              "\n",
              "    [theme=dark] .colab-df-convert:hover {\n",
              "      background-color: #434B5C;\n",
              "      box-shadow: 0px 1px 3px 1px rgba(0, 0, 0, 0.15);\n",
              "      filter: drop-shadow(0px 1px 2px rgba(0, 0, 0, 0.3));\n",
              "      fill: #FFFFFF;\n",
              "    }\n",
              "  </style>\n",
              "\n",
              "      <script>\n",
              "        const buttonEl =\n",
              "          document.querySelector('#df-3c9fe32a-d29f-42e0-89c3-4726d1d4f481 button.colab-df-convert');\n",
              "        buttonEl.style.display =\n",
              "          google.colab.kernel.accessAllowed ? 'block' : 'none';\n",
              "\n",
              "        async function convertToInteractive(key) {\n",
              "          const element = document.querySelector('#df-3c9fe32a-d29f-42e0-89c3-4726d1d4f481');\n",
              "          const dataTable =\n",
              "            await google.colab.kernel.invokeFunction('convertToInteractive',\n",
              "                                                     [key], {});\n",
              "          if (!dataTable) return;\n",
              "\n",
              "          const docLinkHtml = 'Like what you see? Visit the ' +\n",
              "            '<a target=\"_blank\" href=https://colab.research.google.com/notebooks/data_table.ipynb>data table notebook</a>'\n",
              "            + ' to learn more about interactive tables.';\n",
              "          element.innerHTML = '';\n",
              "          dataTable['output_type'] = 'display_data';\n",
              "          await google.colab.output.renderOutput(dataTable, element);\n",
              "          const docLink = document.createElement('div');\n",
              "          docLink.innerHTML = docLinkHtml;\n",
              "          element.appendChild(docLink);\n",
              "        }\n",
              "      </script>\n",
              "    </div>\n",
              "  </div>\n",
              "  "
            ]
          },
          "metadata": {},
          "execution_count": 86
        }
      ],
      "metadata": {
        "datalore": {
          "node_id": "FeQpLhWFiCUvkwKTZJGt77",
          "type": "CODE",
          "hide_input_from_viewers": false,
          "hide_output_from_viewers": false
        },
        "colab": {
          "base_uri": "https://localhost:8080/",
          "height": 299
        },
        "id": "WIonJpGA1VQ_",
        "outputId": "0a0fe7f1-889b-4c89-c17e-7c1a5f2a9749"
      }
    },
    {
      "cell_type": "code",
      "source": [
        "test_data.head()"
      ],
      "execution_count": 87,
      "outputs": [
        {
          "output_type": "execute_result",
          "data": {
            "text/plain": [
              "     Id  MSSubClass MSZoning  LotFrontage  LotArea Street Alley LotShape  \\\n",
              "0  1461          20       RH         80.0    11622   Pave   NaN      Reg   \n",
              "1  1462          20       RL         81.0    14267   Pave   NaN      IR1   \n",
              "2  1463          60       RL         74.0    13830   Pave   NaN      IR1   \n",
              "3  1464          60       RL         78.0     9978   Pave   NaN      IR1   \n",
              "4  1465         120       RL         43.0     5005   Pave   NaN      IR1   \n",
              "\n",
              "  LandContour Utilities  ... ScreenPorch PoolArea PoolQC  Fence MiscFeature  \\\n",
              "0         Lvl    AllPub  ...         120        0    NaN  MnPrv         NaN   \n",
              "1         Lvl    AllPub  ...           0        0    NaN    NaN        Gar2   \n",
              "2         Lvl    AllPub  ...           0        0    NaN  MnPrv         NaN   \n",
              "3         Lvl    AllPub  ...           0        0    NaN    NaN         NaN   \n",
              "4         HLS    AllPub  ...         144        0    NaN    NaN         NaN   \n",
              "\n",
              "  MiscVal MoSold  YrSold  SaleType  SaleCondition  \n",
              "0       0      6    2010        WD         Normal  \n",
              "1   12500      6    2010        WD         Normal  \n",
              "2       0      3    2010        WD         Normal  \n",
              "3       0      6    2010        WD         Normal  \n",
              "4       0      1    2010        WD         Normal  \n",
              "\n",
              "[5 rows x 80 columns]"
            ],
            "text/html": [
              "\n",
              "  <div id=\"df-3dadd095-b843-4a2d-8e45-9d1b071e27d3\">\n",
              "    <div class=\"colab-df-container\">\n",
              "      <div>\n",
              "<style scoped>\n",
              "    .dataframe tbody tr th:only-of-type {\n",
              "        vertical-align: middle;\n",
              "    }\n",
              "\n",
              "    .dataframe tbody tr th {\n",
              "        vertical-align: top;\n",
              "    }\n",
              "\n",
              "    .dataframe thead th {\n",
              "        text-align: right;\n",
              "    }\n",
              "</style>\n",
              "<table border=\"1\" class=\"dataframe\">\n",
              "  <thead>\n",
              "    <tr style=\"text-align: right;\">\n",
              "      <th></th>\n",
              "      <th>Id</th>\n",
              "      <th>MSSubClass</th>\n",
              "      <th>MSZoning</th>\n",
              "      <th>LotFrontage</th>\n",
              "      <th>LotArea</th>\n",
              "      <th>Street</th>\n",
              "      <th>Alley</th>\n",
              "      <th>LotShape</th>\n",
              "      <th>LandContour</th>\n",
              "      <th>Utilities</th>\n",
              "      <th>...</th>\n",
              "      <th>ScreenPorch</th>\n",
              "      <th>PoolArea</th>\n",
              "      <th>PoolQC</th>\n",
              "      <th>Fence</th>\n",
              "      <th>MiscFeature</th>\n",
              "      <th>MiscVal</th>\n",
              "      <th>MoSold</th>\n",
              "      <th>YrSold</th>\n",
              "      <th>SaleType</th>\n",
              "      <th>SaleCondition</th>\n",
              "    </tr>\n",
              "  </thead>\n",
              "  <tbody>\n",
              "    <tr>\n",
              "      <th>0</th>\n",
              "      <td>1461</td>\n",
              "      <td>20</td>\n",
              "      <td>RH</td>\n",
              "      <td>80.0</td>\n",
              "      <td>11622</td>\n",
              "      <td>Pave</td>\n",
              "      <td>NaN</td>\n",
              "      <td>Reg</td>\n",
              "      <td>Lvl</td>\n",
              "      <td>AllPub</td>\n",
              "      <td>...</td>\n",
              "      <td>120</td>\n",
              "      <td>0</td>\n",
              "      <td>NaN</td>\n",
              "      <td>MnPrv</td>\n",
              "      <td>NaN</td>\n",
              "      <td>0</td>\n",
              "      <td>6</td>\n",
              "      <td>2010</td>\n",
              "      <td>WD</td>\n",
              "      <td>Normal</td>\n",
              "    </tr>\n",
              "    <tr>\n",
              "      <th>1</th>\n",
              "      <td>1462</td>\n",
              "      <td>20</td>\n",
              "      <td>RL</td>\n",
              "      <td>81.0</td>\n",
              "      <td>14267</td>\n",
              "      <td>Pave</td>\n",
              "      <td>NaN</td>\n",
              "      <td>IR1</td>\n",
              "      <td>Lvl</td>\n",
              "      <td>AllPub</td>\n",
              "      <td>...</td>\n",
              "      <td>0</td>\n",
              "      <td>0</td>\n",
              "      <td>NaN</td>\n",
              "      <td>NaN</td>\n",
              "      <td>Gar2</td>\n",
              "      <td>12500</td>\n",
              "      <td>6</td>\n",
              "      <td>2010</td>\n",
              "      <td>WD</td>\n",
              "      <td>Normal</td>\n",
              "    </tr>\n",
              "    <tr>\n",
              "      <th>2</th>\n",
              "      <td>1463</td>\n",
              "      <td>60</td>\n",
              "      <td>RL</td>\n",
              "      <td>74.0</td>\n",
              "      <td>13830</td>\n",
              "      <td>Pave</td>\n",
              "      <td>NaN</td>\n",
              "      <td>IR1</td>\n",
              "      <td>Lvl</td>\n",
              "      <td>AllPub</td>\n",
              "      <td>...</td>\n",
              "      <td>0</td>\n",
              "      <td>0</td>\n",
              "      <td>NaN</td>\n",
              "      <td>MnPrv</td>\n",
              "      <td>NaN</td>\n",
              "      <td>0</td>\n",
              "      <td>3</td>\n",
              "      <td>2010</td>\n",
              "      <td>WD</td>\n",
              "      <td>Normal</td>\n",
              "    </tr>\n",
              "    <tr>\n",
              "      <th>3</th>\n",
              "      <td>1464</td>\n",
              "      <td>60</td>\n",
              "      <td>RL</td>\n",
              "      <td>78.0</td>\n",
              "      <td>9978</td>\n",
              "      <td>Pave</td>\n",
              "      <td>NaN</td>\n",
              "      <td>IR1</td>\n",
              "      <td>Lvl</td>\n",
              "      <td>AllPub</td>\n",
              "      <td>...</td>\n",
              "      <td>0</td>\n",
              "      <td>0</td>\n",
              "      <td>NaN</td>\n",
              "      <td>NaN</td>\n",
              "      <td>NaN</td>\n",
              "      <td>0</td>\n",
              "      <td>6</td>\n",
              "      <td>2010</td>\n",
              "      <td>WD</td>\n",
              "      <td>Normal</td>\n",
              "    </tr>\n",
              "    <tr>\n",
              "      <th>4</th>\n",
              "      <td>1465</td>\n",
              "      <td>120</td>\n",
              "      <td>RL</td>\n",
              "      <td>43.0</td>\n",
              "      <td>5005</td>\n",
              "      <td>Pave</td>\n",
              "      <td>NaN</td>\n",
              "      <td>IR1</td>\n",
              "      <td>HLS</td>\n",
              "      <td>AllPub</td>\n",
              "      <td>...</td>\n",
              "      <td>144</td>\n",
              "      <td>0</td>\n",
              "      <td>NaN</td>\n",
              "      <td>NaN</td>\n",
              "      <td>NaN</td>\n",
              "      <td>0</td>\n",
              "      <td>1</td>\n",
              "      <td>2010</td>\n",
              "      <td>WD</td>\n",
              "      <td>Normal</td>\n",
              "    </tr>\n",
              "  </tbody>\n",
              "</table>\n",
              "<p>5 rows × 80 columns</p>\n",
              "</div>\n",
              "      <button class=\"colab-df-convert\" onclick=\"convertToInteractive('df-3dadd095-b843-4a2d-8e45-9d1b071e27d3')\"\n",
              "              title=\"Convert this dataframe to an interactive table.\"\n",
              "              style=\"display:none;\">\n",
              "        \n",
              "  <svg xmlns=\"http://www.w3.org/2000/svg\" height=\"24px\"viewBox=\"0 0 24 24\"\n",
              "       width=\"24px\">\n",
              "    <path d=\"M0 0h24v24H0V0z\" fill=\"none\"/>\n",
              "    <path d=\"M18.56 5.44l.94 2.06.94-2.06 2.06-.94-2.06-.94-.94-2.06-.94 2.06-2.06.94zm-11 1L8.5 8.5l.94-2.06 2.06-.94-2.06-.94L8.5 2.5l-.94 2.06-2.06.94zm10 10l.94 2.06.94-2.06 2.06-.94-2.06-.94-.94-2.06-.94 2.06-2.06.94z\"/><path d=\"M17.41 7.96l-1.37-1.37c-.4-.4-.92-.59-1.43-.59-.52 0-1.04.2-1.43.59L10.3 9.45l-7.72 7.72c-.78.78-.78 2.05 0 2.83L4 21.41c.39.39.9.59 1.41.59.51 0 1.02-.2 1.41-.59l7.78-7.78 2.81-2.81c.8-.78.8-2.07 0-2.86zM5.41 20L4 18.59l7.72-7.72 1.47 1.35L5.41 20z\"/>\n",
              "  </svg>\n",
              "      </button>\n",
              "      \n",
              "  <style>\n",
              "    .colab-df-container {\n",
              "      display:flex;\n",
              "      flex-wrap:wrap;\n",
              "      gap: 12px;\n",
              "    }\n",
              "\n",
              "    .colab-df-convert {\n",
              "      background-color: #E8F0FE;\n",
              "      border: none;\n",
              "      border-radius: 50%;\n",
              "      cursor: pointer;\n",
              "      display: none;\n",
              "      fill: #1967D2;\n",
              "      height: 32px;\n",
              "      padding: 0 0 0 0;\n",
              "      width: 32px;\n",
              "    }\n",
              "\n",
              "    .colab-df-convert:hover {\n",
              "      background-color: #E2EBFA;\n",
              "      box-shadow: 0px 1px 2px rgba(60, 64, 67, 0.3), 0px 1px 3px 1px rgba(60, 64, 67, 0.15);\n",
              "      fill: #174EA6;\n",
              "    }\n",
              "\n",
              "    [theme=dark] .colab-df-convert {\n",
              "      background-color: #3B4455;\n",
              "      fill: #D2E3FC;\n",
              "    }\n",
              "\n",
              "    [theme=dark] .colab-df-convert:hover {\n",
              "      background-color: #434B5C;\n",
              "      box-shadow: 0px 1px 3px 1px rgba(0, 0, 0, 0.15);\n",
              "      filter: drop-shadow(0px 1px 2px rgba(0, 0, 0, 0.3));\n",
              "      fill: #FFFFFF;\n",
              "    }\n",
              "  </style>\n",
              "\n",
              "      <script>\n",
              "        const buttonEl =\n",
              "          document.querySelector('#df-3dadd095-b843-4a2d-8e45-9d1b071e27d3 button.colab-df-convert');\n",
              "        buttonEl.style.display =\n",
              "          google.colab.kernel.accessAllowed ? 'block' : 'none';\n",
              "\n",
              "        async function convertToInteractive(key) {\n",
              "          const element = document.querySelector('#df-3dadd095-b843-4a2d-8e45-9d1b071e27d3');\n",
              "          const dataTable =\n",
              "            await google.colab.kernel.invokeFunction('convertToInteractive',\n",
              "                                                     [key], {});\n",
              "          if (!dataTable) return;\n",
              "\n",
              "          const docLinkHtml = 'Like what you see? Visit the ' +\n",
              "            '<a target=\"_blank\" href=https://colab.research.google.com/notebooks/data_table.ipynb>data table notebook</a>'\n",
              "            + ' to learn more about interactive tables.';\n",
              "          element.innerHTML = '';\n",
              "          dataTable['output_type'] = 'display_data';\n",
              "          await google.colab.output.renderOutput(dataTable, element);\n",
              "          const docLink = document.createElement('div');\n",
              "          docLink.innerHTML = docLinkHtml;\n",
              "          element.appendChild(docLink);\n",
              "        }\n",
              "      </script>\n",
              "    </div>\n",
              "  </div>\n",
              "  "
            ]
          },
          "metadata": {},
          "execution_count": 87
        }
      ],
      "metadata": {
        "datalore": {
          "node_id": "PtlgCCQ1tenYmqz4uqrL0r",
          "type": "CODE",
          "hide_input_from_viewers": false,
          "hide_output_from_viewers": false
        },
        "colab": {
          "base_uri": "https://localhost:8080/",
          "height": 299
        },
        "id": "KAU1r3MC1VQ_",
        "outputId": "dce7e70a-9566-4cfa-f2f7-cddc9beece48"
      }
    },
    {
      "cell_type": "markdown",
      "source": [
        "Как можно видеть, `train_data` имеет на один столбец больше, чем `test_data`, это столбец `SalePrice`, для обучения модели перед применением ее для предсказания меток в test_data."
      ],
      "metadata": {
        "datalore": {
          "node_id": "m2HZ1ayKDr8MOHpK2TtCFB",
          "type": "MD",
          "hide_input_from_viewers": false,
          "hide_output_from_viewers": false
        },
        "id": "V4TZOndv1VRA"
      }
    },
    {
      "cell_type": "markdown",
      "source": [
        "### Проверяем нет ли тестовые данные пустых значений значений (Nan)\n",
        "\n",
        "Построим функцию `def missing_value_checker` для проверки и подсчёта пропущеных значений в test_data. А также выведем тип данных этих значений.\n"
      ],
      "metadata": {
        "datalore": {
          "node_id": "LvA8hUPBQzVxQWBqcatifj",
          "type": "MD",
          "hide_input_from_viewers": false,
          "hide_output_from_viewers": false
        },
        "id": "xdg5lfoX1VRB"
      }
    },
    {
      "cell_type": "code",
      "source": [
        "def missing_value_checker(data):\n",
        "    list = []\n",
        "    for feature, content in data.items():\n",
        "        if data[feature].isnull().values.any():\n",
        "            \n",
        "            sum = data[feature].isna().sum()\n",
        "\n",
        "            type = data[feature].dtype\n",
        "\n",
        "            print (f'{feature}: {sum}, type: {type}')\n",
        "            \n",
        "            list.append(feature)\n",
        "    print(list)\n",
        "\n",
        "    print(len(list))\n",
        "\n",
        "missing_value_checker(test_data)"
      ],
      "execution_count": 88,
      "outputs": [
        {
          "output_type": "stream",
          "name": "stdout",
          "text": [
            "MSZoning: 4, type: object\n",
            "LotFrontage: 227, type: float64\n",
            "Alley: 1352, type: object\n",
            "Utilities: 2, type: object\n",
            "Exterior1st: 1, type: object\n",
            "Exterior2nd: 1, type: object\n",
            "MasVnrType: 16, type: object\n",
            "MasVnrArea: 15, type: float64\n",
            "BsmtQual: 44, type: object\n",
            "BsmtCond: 45, type: object\n",
            "BsmtExposure: 44, type: object\n",
            "BsmtFinType1: 42, type: object\n",
            "BsmtFinSF1: 1, type: float64\n",
            "BsmtFinType2: 42, type: object\n",
            "BsmtFinSF2: 1, type: float64\n",
            "BsmtUnfSF: 1, type: float64\n",
            "TotalBsmtSF: 1, type: float64\n",
            "BsmtFullBath: 2, type: float64\n",
            "BsmtHalfBath: 2, type: float64\n",
            "KitchenQual: 1, type: object\n",
            "Functional: 2, type: object\n",
            "FireplaceQu: 730, type: object\n",
            "GarageType: 76, type: object\n",
            "GarageYrBlt: 78, type: float64\n",
            "GarageFinish: 78, type: object\n",
            "GarageCars: 1, type: float64\n",
            "GarageArea: 1, type: float64\n",
            "GarageQual: 78, type: object\n",
            "GarageCond: 78, type: object\n",
            "PoolQC: 1456, type: object\n",
            "Fence: 1169, type: object\n",
            "MiscFeature: 1408, type: object\n",
            "SaleType: 1, type: object\n",
            "['MSZoning', 'LotFrontage', 'Alley', 'Utilities', 'Exterior1st', 'Exterior2nd', 'MasVnrType', 'MasVnrArea', 'BsmtQual', 'BsmtCond', 'BsmtExposure', 'BsmtFinType1', 'BsmtFinSF1', 'BsmtFinType2', 'BsmtFinSF2', 'BsmtUnfSF', 'TotalBsmtSF', 'BsmtFullBath', 'BsmtHalfBath', 'KitchenQual', 'Functional', 'FireplaceQu', 'GarageType', 'GarageYrBlt', 'GarageFinish', 'GarageCars', 'GarageArea', 'GarageQual', 'GarageCond', 'PoolQC', 'Fence', 'MiscFeature', 'SaleType']\n",
            "33\n"
          ]
        }
      ],
      "metadata": {
        "datalore": {
          "node_id": "pxUQWKUmcS70sX8fsExVI9",
          "type": "CODE",
          "hide_input_from_viewers": false,
          "hide_output_from_viewers": false
        },
        "colab": {
          "base_uri": "https://localhost:8080/"
        },
        "id": "I0WoP-1B1VRB",
        "outputId": "89f30dbf-a980-4957-d027-3a4fdbbcbf0d"
      }
    },
    {
      "cell_type": "markdown",
      "source": [
        "Проверяем какие признаки в таблице можно оставить, а какие удалить. Если пропущенных значений слишком много, то удалим признак. Если их небольшое количество, то заполним `mean` или `median` для чисел, новая категория `missing` для строковых объектов.\n",
        "\n",
        "В соответствии с этим:\n",
        "\n",
        "– удалим ['Alley', 'FireplaceQu', 'PoolQC', 'Fence', 'MiscFeature'];\n",
        "\n",
        "– заполним числовое отсутствующее значение значением `mean`;\n",
        "\n",
        "– заполним строковое отсутствующее значение значением `missing`."
      ],
      "metadata": {
        "datalore": {
          "node_id": "U2c2Jm8OgAYtZqUCaBITi4",
          "type": "MD",
          "hide_input_from_viewers": false,
          "hide_output_from_viewers": false
        },
        "id": "IUJQKA361VRC"
      }
    },
    {
      "cell_type": "code",
      "source": [
        "test_edited = test_data.drop(['Alley','FireplaceQu','PoolQC', 'Fence', 'MiscFeature'], axis=1)\n",
        "train_edited = train_data.drop(['Alley','FireplaceQu','PoolQC', 'Fence', 'MiscFeature'], axis=1)\n",
        "\n",
        "def nan_filler(data):\n",
        "    for label, content in data.items():\n",
        "        if pd.api.types.is_numeric_dtype(content):\n",
        "            data[label] = content.fillna(content.median())\n",
        "        else:\n",
        "            data[label] = content.astype(\"category\").cat.as_ordered()\n",
        "            data[label] = pd.Categorical(content).codes+1\n",
        "\n",
        "nan_filler(test_edited)\n",
        "nan_filler(train_edited)"
      ],
      "execution_count": 89,
      "outputs": [],
      "metadata": {
        "datalore": {
          "node_id": "2KCsgKLRNIzdZGdZDJavSo",
          "type": "CODE",
          "hide_input_from_viewers": false,
          "hide_output_from_viewers": false
        },
        "id": "t4SocUF41VRC"
      }
    },
    {
      "cell_type": "markdown",
      "source": [
        "### Перепроверим наши данные:"
      ],
      "metadata": {
        "datalore": {
          "node_id": "at2x2hjP7J2ggCGjl4bDdp",
          "type": "MD",
          "hide_input_from_viewers": false,
          "hide_output_from_viewers": false
        },
        "id": "_4zfpVTm1VRD"
      }
    },
    {
      "cell_type": "code",
      "source": [
        "missing_value_checker(test_edited)"
      ],
      "execution_count": 90,
      "outputs": [
        {
          "output_type": "stream",
          "name": "stdout",
          "text": [
            "[]\n",
            "0\n"
          ]
        }
      ],
      "metadata": {
        "datalore": {
          "node_id": "ndeDW0XUjTNQZbl08hStGd",
          "type": "CODE",
          "hide_input_from_viewers": false,
          "hide_output_from_viewers": false
        },
        "colab": {
          "base_uri": "https://localhost:8080/"
        },
        "id": "KxyJgZ1Q1VRD",
        "outputId": "c1beae31-75ea-4828-e6a1-8f6c43f9fb99"
      }
    },
    {
      "cell_type": "code",
      "source": [
        "missing_value_checker(train_edited)"
      ],
      "execution_count": 91,
      "outputs": [
        {
          "output_type": "stream",
          "name": "stdout",
          "text": [
            "[]\n",
            "0\n"
          ]
        }
      ],
      "metadata": {
        "datalore": {
          "node_id": "wLLxXh3dPBZhWswJRtePAF",
          "type": "CODE",
          "hide_input_from_viewers": false,
          "hide_output_from_viewers": false
        },
        "colab": {
          "base_uri": "https://localhost:8080/"
        },
        "id": "jyYEcZzt1VRD",
        "outputId": "d3efdf50-1e53-425a-8fc5-573e0b0105e1"
      }
    },
    {
      "cell_type": "code",
      "source": [
        "train_edited.shape, test_edited.shape"
      ],
      "execution_count": 92,
      "outputs": [
        {
          "output_type": "execute_result",
          "data": {
            "text/plain": [
              "((1460, 76), (1459, 75))"
            ]
          },
          "metadata": {},
          "execution_count": 92
        }
      ],
      "metadata": {
        "datalore": {
          "node_id": "uun8jPN10ZuxbG043ZksEJ",
          "type": "CODE",
          "hide_input_from_viewers": false,
          "hide_output_from_viewers": false
        },
        "colab": {
          "base_uri": "https://localhost:8080/"
        },
        "id": "PkPF-Uiy1VRE",
        "outputId": "788ced12-e7fa-4629-8364-387a672a83aa"
      }
    },
    {
      "cell_type": "code",
      "source": [
        "test_edited.info()"
      ],
      "execution_count": 93,
      "outputs": [
        {
          "output_type": "stream",
          "name": "stdout",
          "text": [
            "<class 'pandas.core.frame.DataFrame'>\n",
            "RangeIndex: 1459 entries, 0 to 1458\n",
            "Data columns (total 75 columns):\n",
            " #   Column         Non-Null Count  Dtype  \n",
            "---  ------         --------------  -----  \n",
            " 0   Id             1459 non-null   int64  \n",
            " 1   MSSubClass     1459 non-null   int64  \n",
            " 2   MSZoning       1459 non-null   int8   \n",
            " 3   LotFrontage    1459 non-null   float64\n",
            " 4   LotArea        1459 non-null   int64  \n",
            " 5   Street         1459 non-null   int8   \n",
            " 6   LotShape       1459 non-null   int8   \n",
            " 7   LandContour    1459 non-null   int8   \n",
            " 8   Utilities      1459 non-null   int8   \n",
            " 9   LotConfig      1459 non-null   int8   \n",
            " 10  LandSlope      1459 non-null   int8   \n",
            " 11  Neighborhood   1459 non-null   int8   \n",
            " 12  Condition1     1459 non-null   int8   \n",
            " 13  Condition2     1459 non-null   int8   \n",
            " 14  BldgType       1459 non-null   int8   \n",
            " 15  HouseStyle     1459 non-null   int8   \n",
            " 16  OverallQual    1459 non-null   int64  \n",
            " 17  OverallCond    1459 non-null   int64  \n",
            " 18  YearBuilt      1459 non-null   int64  \n",
            " 19  YearRemodAdd   1459 non-null   int64  \n",
            " 20  RoofStyle      1459 non-null   int8   \n",
            " 21  RoofMatl       1459 non-null   int8   \n",
            " 22  Exterior1st    1459 non-null   int8   \n",
            " 23  Exterior2nd    1459 non-null   int8   \n",
            " 24  MasVnrType     1459 non-null   int8   \n",
            " 25  MasVnrArea     1459 non-null   float64\n",
            " 26  ExterQual      1459 non-null   int8   \n",
            " 27  ExterCond      1459 non-null   int8   \n",
            " 28  Foundation     1459 non-null   int8   \n",
            " 29  BsmtQual       1459 non-null   int8   \n",
            " 30  BsmtCond       1459 non-null   int8   \n",
            " 31  BsmtExposure   1459 non-null   int8   \n",
            " 32  BsmtFinType1   1459 non-null   int8   \n",
            " 33  BsmtFinSF1     1459 non-null   float64\n",
            " 34  BsmtFinType2   1459 non-null   int8   \n",
            " 35  BsmtFinSF2     1459 non-null   float64\n",
            " 36  BsmtUnfSF      1459 non-null   float64\n",
            " 37  TotalBsmtSF    1459 non-null   float64\n",
            " 38  Heating        1459 non-null   int8   \n",
            " 39  HeatingQC      1459 non-null   int8   \n",
            " 40  CentralAir     1459 non-null   int8   \n",
            " 41  Electrical     1459 non-null   int8   \n",
            " 42  1stFlrSF       1459 non-null   int64  \n",
            " 43  2ndFlrSF       1459 non-null   int64  \n",
            " 44  LowQualFinSF   1459 non-null   int64  \n",
            " 45  GrLivArea      1459 non-null   int64  \n",
            " 46  BsmtFullBath   1459 non-null   float64\n",
            " 47  BsmtHalfBath   1459 non-null   float64\n",
            " 48  FullBath       1459 non-null   int64  \n",
            " 49  HalfBath       1459 non-null   int64  \n",
            " 50  BedroomAbvGr   1459 non-null   int64  \n",
            " 51  KitchenAbvGr   1459 non-null   int64  \n",
            " 52  KitchenQual    1459 non-null   int8   \n",
            " 53  TotRmsAbvGrd   1459 non-null   int64  \n",
            " 54  Functional     1459 non-null   int8   \n",
            " 55  Fireplaces     1459 non-null   int64  \n",
            " 56  GarageType     1459 non-null   int8   \n",
            " 57  GarageYrBlt    1459 non-null   float64\n",
            " 58  GarageFinish   1459 non-null   int8   \n",
            " 59  GarageCars     1459 non-null   float64\n",
            " 60  GarageArea     1459 non-null   float64\n",
            " 61  GarageQual     1459 non-null   int8   \n",
            " 62  GarageCond     1459 non-null   int8   \n",
            " 63  PavedDrive     1459 non-null   int8   \n",
            " 64  WoodDeckSF     1459 non-null   int64  \n",
            " 65  OpenPorchSF    1459 non-null   int64  \n",
            " 66  EnclosedPorch  1459 non-null   int64  \n",
            " 67  3SsnPorch      1459 non-null   int64  \n",
            " 68  ScreenPorch    1459 non-null   int64  \n",
            " 69  PoolArea       1459 non-null   int64  \n",
            " 70  MiscVal        1459 non-null   int64  \n",
            " 71  MoSold         1459 non-null   int64  \n",
            " 72  YrSold         1459 non-null   int64  \n",
            " 73  SaleType       1459 non-null   int8   \n",
            " 74  SaleCondition  1459 non-null   int8   \n",
            "dtypes: float64(11), int64(26), int8(38)\n",
            "memory usage: 476.0 KB\n"
          ]
        }
      ],
      "metadata": {
        "datalore": {
          "node_id": "Rlx0t4SQFyHXlcaeU5CL3e",
          "type": "CODE",
          "hide_input_from_viewers": false,
          "hide_output_from_viewers": false
        },
        "colab": {
          "base_uri": "https://localhost:8080/"
        },
        "id": "iVqYd4lN1VRE",
        "outputId": "fddc3e98-32f2-4b2a-c692-b941754ac158"
      }
    },
    {
      "cell_type": "code",
      "source": [
        "train_edited.info()"
      ],
      "execution_count": 94,
      "outputs": [
        {
          "output_type": "stream",
          "name": "stdout",
          "text": [
            "<class 'pandas.core.frame.DataFrame'>\n",
            "RangeIndex: 1460 entries, 0 to 1459\n",
            "Data columns (total 76 columns):\n",
            " #   Column         Non-Null Count  Dtype  \n",
            "---  ------         --------------  -----  \n",
            " 0   Id             1460 non-null   int64  \n",
            " 1   MSSubClass     1460 non-null   int64  \n",
            " 2   MSZoning       1460 non-null   int8   \n",
            " 3   LotFrontage    1460 non-null   float64\n",
            " 4   LotArea        1460 non-null   int64  \n",
            " 5   Street         1460 non-null   int8   \n",
            " 6   LotShape       1460 non-null   int8   \n",
            " 7   LandContour    1460 non-null   int8   \n",
            " 8   Utilities      1460 non-null   int8   \n",
            " 9   LotConfig      1460 non-null   int8   \n",
            " 10  LandSlope      1460 non-null   int8   \n",
            " 11  Neighborhood   1460 non-null   int8   \n",
            " 12  Condition1     1460 non-null   int8   \n",
            " 13  Condition2     1460 non-null   int8   \n",
            " 14  BldgType       1460 non-null   int8   \n",
            " 15  HouseStyle     1460 non-null   int8   \n",
            " 16  OverallQual    1460 non-null   int64  \n",
            " 17  OverallCond    1460 non-null   int64  \n",
            " 18  YearBuilt      1460 non-null   int64  \n",
            " 19  YearRemodAdd   1460 non-null   int64  \n",
            " 20  RoofStyle      1460 non-null   int8   \n",
            " 21  RoofMatl       1460 non-null   int8   \n",
            " 22  Exterior1st    1460 non-null   int8   \n",
            " 23  Exterior2nd    1460 non-null   int8   \n",
            " 24  MasVnrType     1460 non-null   int8   \n",
            " 25  MasVnrArea     1460 non-null   float64\n",
            " 26  ExterQual      1460 non-null   int8   \n",
            " 27  ExterCond      1460 non-null   int8   \n",
            " 28  Foundation     1460 non-null   int8   \n",
            " 29  BsmtQual       1460 non-null   int8   \n",
            " 30  BsmtCond       1460 non-null   int8   \n",
            " 31  BsmtExposure   1460 non-null   int8   \n",
            " 32  BsmtFinType1   1460 non-null   int8   \n",
            " 33  BsmtFinSF1     1460 non-null   int64  \n",
            " 34  BsmtFinType2   1460 non-null   int8   \n",
            " 35  BsmtFinSF2     1460 non-null   int64  \n",
            " 36  BsmtUnfSF      1460 non-null   int64  \n",
            " 37  TotalBsmtSF    1460 non-null   int64  \n",
            " 38  Heating        1460 non-null   int8   \n",
            " 39  HeatingQC      1460 non-null   int8   \n",
            " 40  CentralAir     1460 non-null   int8   \n",
            " 41  Electrical     1460 non-null   int8   \n",
            " 42  1stFlrSF       1460 non-null   int64  \n",
            " 43  2ndFlrSF       1460 non-null   int64  \n",
            " 44  LowQualFinSF   1460 non-null   int64  \n",
            " 45  GrLivArea      1460 non-null   int64  \n",
            " 46  BsmtFullBath   1460 non-null   int64  \n",
            " 47  BsmtHalfBath   1460 non-null   int64  \n",
            " 48  FullBath       1460 non-null   int64  \n",
            " 49  HalfBath       1460 non-null   int64  \n",
            " 50  BedroomAbvGr   1460 non-null   int64  \n",
            " 51  KitchenAbvGr   1460 non-null   int64  \n",
            " 52  KitchenQual    1460 non-null   int8   \n",
            " 53  TotRmsAbvGrd   1460 non-null   int64  \n",
            " 54  Functional     1460 non-null   int8   \n",
            " 55  Fireplaces     1460 non-null   int64  \n",
            " 56  GarageType     1460 non-null   int8   \n",
            " 57  GarageYrBlt    1460 non-null   float64\n",
            " 58  GarageFinish   1460 non-null   int8   \n",
            " 59  GarageCars     1460 non-null   int64  \n",
            " 60  GarageArea     1460 non-null   int64  \n",
            " 61  GarageQual     1460 non-null   int8   \n",
            " 62  GarageCond     1460 non-null   int8   \n",
            " 63  PavedDrive     1460 non-null   int8   \n",
            " 64  WoodDeckSF     1460 non-null   int64  \n",
            " 65  OpenPorchSF    1460 non-null   int64  \n",
            " 66  EnclosedPorch  1460 non-null   int64  \n",
            " 67  3SsnPorch      1460 non-null   int64  \n",
            " 68  ScreenPorch    1460 non-null   int64  \n",
            " 69  PoolArea       1460 non-null   int64  \n",
            " 70  MiscVal        1460 non-null   int64  \n",
            " 71  MoSold         1460 non-null   int64  \n",
            " 72  YrSold         1460 non-null   int64  \n",
            " 73  SaleType       1460 non-null   int8   \n",
            " 74  SaleCondition  1460 non-null   int8   \n",
            " 75  SalePrice      1460 non-null   int64  \n",
            "dtypes: float64(3), int64(35), int8(38)\n",
            "memory usage: 487.7 KB\n"
          ]
        }
      ],
      "metadata": {
        "datalore": {
          "node_id": "F2soDeOs0hu9vFpzLvQWtO",
          "type": "CODE",
          "hide_input_from_viewers": false,
          "hide_output_from_viewers": false
        },
        "colab": {
          "base_uri": "https://localhost:8080/"
        },
        "id": "6hSluxnc1VRE",
        "outputId": "5527c28a-4d1e-41d3-fbac-fa852a4a1447"
      }
    },
    {
      "cell_type": "markdown",
      "source": [
        "### Разделим данные\n",
        "\n",
        "Поскольку мы не знаем метку (Цена) тестовых данных, для оценки модели, чтобы получить лучшую модель перед прогнозированием тестовых данных, разделим данные в файле train.scv на обучающие и проверочные данные, соотношение составляет 20%."
      ],
      "metadata": {
        "datalore": {
          "node_id": "sctXpXpVAyHpq6e2u72Jit",
          "type": "MD",
          "hide_input_from_viewers": false,
          "hide_output_from_viewers": false
        },
        "id": "OlUJ2E341VRE"
      }
    },
    {
      "cell_type": "code",
      "source": [
        "X = train_edited.drop('SalePrice', axis=1)\n",
        "y = train_edited['SalePrice']\n",
        "\n",
        "X_train, X_val, y_train, y_val = train_test_split(X, y, test_size = 0.2)"
      ],
      "execution_count": 95,
      "outputs": [],
      "metadata": {
        "datalore": {
          "node_id": "t8LurcYSC79LJFUQFBR6IP",
          "type": "CODE",
          "hide_input_from_viewers": false,
          "hide_output_from_viewers": false
        },
        "id": "Kxs7fPss1VRF"
      }
    },
    {
      "cell_type": "code",
      "source": [
        "X_train.shape, test_edited.shape"
      ],
      "execution_count": 96,
      "outputs": [
        {
          "output_type": "execute_result",
          "data": {
            "text/plain": [
              "((1168, 75), (1459, 75))"
            ]
          },
          "metadata": {},
          "execution_count": 96
        }
      ],
      "metadata": {
        "datalore": {
          "node_id": "i93j4GwqcU1GyQ4VPlqVfO",
          "type": "CODE",
          "hide_input_from_viewers": false,
          "hide_output_from_viewers": false
        },
        "colab": {
          "base_uri": "https://localhost:8080/"
        },
        "id": "WQkCJIdV1VRF",
        "outputId": "1a9adf8f-3e5c-4fc0-8323-f849ee13a6cf"
      }
    },
    {
      "cell_type": "markdown",
      "source": [
        "## Моделирование"
      ],
      "metadata": {
        "datalore": {
          "node_id": "rwifuS2QgPW48EMtsBXdFH",
          "type": "MD",
          "hide_input_from_viewers": false,
          "hide_output_from_viewers": false
        },
        "id": "y4dWgEVY1VRF"
      }
    },
    {
      "cell_type": "markdown",
      "source": [
        "### Построение и обучение модели"
      ],
      "metadata": {
        "datalore": {
          "node_id": "ZV0KjiWMU6QB7jLp3j5yc8",
          "type": "MD",
          "hide_input_from_viewers": false,
          "hide_output_from_viewers": false
        },
        "id": "W1a0Tg3D1VRF"
      }
    },
    {
      "cell_type": "markdown",
      "source": [
        "\n",
        "Создайте последовательную модель нейронной сети с помощью фрэймворков тренировки нейронных сетей как: Torch или Tensorflow. "
      ],
      "metadata": {
        "datalore": {
          "node_id": "G277rUWTnvZaphr9V2bwEz",
          "type": "MD",
          "hide_input_from_viewers": false,
          "hide_output_from_viewers": false
        },
        "id": "xz8hMEvM1VRG"
      }
    },
    {
      "cell_type": "code",
      "source": [
        "import tensorflow as tf\n",
        "from tensorflow import keras\n",
        "from keras import layers\n",
        "\n",
        "# замените None на колличество входных полносвязных слоёв, колличество нейронов, колличество выходов\n",
        "model = keras.models.Sequential()\n",
        "model.add(keras.layers.Dense(units=80, activation = 'relu',  input_shape=[75])) #вс\n",
        "model.add(keras.layers.Dense(units=50, activation = 'relu')) #cc\n",
        "model.add(layers.Dense(1, activation='linear'))\n",
        "\n",
        "\n",
        "tf.random.set_seed(40) #для обеспечения воспроизводимости результатов уст функц seed"
      ],
      "execution_count": 97,
      "outputs": [],
      "metadata": {
        "datalore": {
          "node_id": "MpU8VN6DOjpBNi6I834Lpu",
          "type": "CODE",
          "hide_input_from_viewers": false,
          "hide_output_from_viewers": false
        },
        "id": "imxCYYdR1VRG"
      }
    },
    {
      "cell_type": "markdown",
      "source": [
        "Скомпилируйте нейронную сеть, выбрав функцию потерь и оптимизатор соответственно."
      ],
      "metadata": {
        "datalore": {
          "node_id": "TuMuPzKI9mkpXMfMOnK1LA",
          "type": "MD",
          "hide_input_from_viewers": false,
          "hide_output_from_viewers": false
        },
        "id": "AWoWPrKA1VRG"
      }
    },
    {
      "cell_type": "code",
      "source": [
        "model.compile(loss='mean_squared_error', optimizer='adam', metrics=['mse', 'mae']) #Для оценки потерь и метрики используем метрики и функции потерь для регрессии."
      ],
      "execution_count": 98,
      "outputs": [],
      "metadata": {
        "datalore": {
          "node_id": "Qxs8obrnFlj2CqfZz7kIHz",
          "type": "CODE",
          "hide_input_from_viewers": false,
          "hide_output_from_viewers": false
        },
        "id": "Tv9Xyq8I1VRG"
      }
    },
    {
      "cell_type": "markdown",
      "source": [
        "Обучите модель на обучающих данных `X_train` и `y_train` задав гиперпараметры вашей модели нейронной сети, например количество эпох (epochs), размер мини-выборки (batch_size) и другие."
      ],
      "metadata": {
        "datalore": {
          "node_id": "wUdHBe7xu6vMejIXVhekbo",
          "type": "MD",
          "hide_input_from_viewers": false,
          "hide_output_from_viewers": false
        },
        "id": "3Sx0Y7AD1VRG"
      }
    },
    {
      "cell_type": "code",
      "source": [
        "history = model.fit(X_train, y_train, batch_size = 5, epochs=100)\n",
        "model.metrics_names"
      ],
      "execution_count": 99,
      "outputs": [
        {
          "output_type": "stream",
          "name": "stdout",
          "text": [
            "Epoch 1/100\n",
            "234/234 [==============================] - 1s 4ms/step - loss: 14305369088.0000 - mse: 14305369088.0000 - mae: 73849.3047\n",
            "Epoch 2/100\n",
            "234/234 [==============================] - 1s 3ms/step - loss: 4506664448.0000 - mse: 4506664448.0000 - mae: 44617.7227\n",
            "Epoch 3/100\n",
            "234/234 [==============================] - 1s 3ms/step - loss: 3259440896.0000 - mse: 3259440896.0000 - mae: 38183.8906\n",
            "Epoch 4/100\n",
            "234/234 [==============================] - 1s 3ms/step - loss: 2568989440.0000 - mse: 2568989440.0000 - mae: 33212.8047\n",
            "Epoch 5/100\n",
            "234/234 [==============================] - 1s 3ms/step - loss: 2282729216.0000 - mse: 2282729216.0000 - mae: 30500.1602\n",
            "Epoch 6/100\n",
            "234/234 [==============================] - 1s 3ms/step - loss: 2185568256.0000 - mse: 2185568256.0000 - mae: 29969.3047\n",
            "Epoch 7/100\n",
            "234/234 [==============================] - 1s 3ms/step - loss: 2153672192.0000 - mse: 2153671936.0000 - mae: 29609.2227\n",
            "Epoch 8/100\n",
            "234/234 [==============================] - 1s 3ms/step - loss: 2048572800.0000 - mse: 2048572800.0000 - mae: 28770.5957\n",
            "Epoch 9/100\n",
            "234/234 [==============================] - 1s 3ms/step - loss: 2217986816.0000 - mse: 2217986816.0000 - mae: 30752.7012\n",
            "Epoch 10/100\n",
            "234/234 [==============================] - 1s 3ms/step - loss: 2036039424.0000 - mse: 2036039168.0000 - mae: 28990.3828\n",
            "Epoch 11/100\n",
            "234/234 [==============================] - 1s 3ms/step - loss: 1999778304.0000 - mse: 1999778304.0000 - mae: 28795.2422\n",
            "Epoch 12/100\n",
            "234/234 [==============================] - 1s 3ms/step - loss: 1959268480.0000 - mse: 1959268480.0000 - mae: 28324.1445\n",
            "Epoch 13/100\n",
            "234/234 [==============================] - 1s 3ms/step - loss: 1968566144.0000 - mse: 1968566144.0000 - mae: 28204.8887\n",
            "Epoch 14/100\n",
            "234/234 [==============================] - 1s 3ms/step - loss: 1935747584.0000 - mse: 1935747584.0000 - mae: 28667.9531\n",
            "Epoch 15/100\n",
            "234/234 [==============================] - 1s 3ms/step - loss: 2085476992.0000 - mse: 2085476992.0000 - mae: 29324.1914\n",
            "Epoch 16/100\n",
            "234/234 [==============================] - 1s 3ms/step - loss: 1896332416.0000 - mse: 1896332416.0000 - mae: 28538.5000\n",
            "Epoch 17/100\n",
            "234/234 [==============================] - 1s 3ms/step - loss: 1899009792.0000 - mse: 1899009792.0000 - mae: 27910.5430\n",
            "Epoch 18/100\n",
            "234/234 [==============================] - 1s 3ms/step - loss: 1934181504.0000 - mse: 1934181504.0000 - mae: 28142.3320\n",
            "Epoch 19/100\n",
            "234/234 [==============================] - 1s 3ms/step - loss: 1803445504.0000 - mse: 1803445504.0000 - mae: 26779.1934\n",
            "Epoch 20/100\n",
            "234/234 [==============================] - 1s 3ms/step - loss: 1758940416.0000 - mse: 1758940416.0000 - mae: 27419.5625\n",
            "Epoch 21/100\n",
            "234/234 [==============================] - 1s 3ms/step - loss: 1708997248.0000 - mse: 1708997248.0000 - mae: 26786.6523\n",
            "Epoch 22/100\n",
            "234/234 [==============================] - 1s 3ms/step - loss: 1790136192.0000 - mse: 1790136192.0000 - mae: 27123.9043\n",
            "Epoch 23/100\n",
            "234/234 [==============================] - 1s 3ms/step - loss: 1788953856.0000 - mse: 1788953856.0000 - mae: 27713.7031\n",
            "Epoch 24/100\n",
            "234/234 [==============================] - 1s 3ms/step - loss: 1694754304.0000 - mse: 1694754304.0000 - mae: 26484.9277\n",
            "Epoch 25/100\n",
            "234/234 [==============================] - 1s 3ms/step - loss: 1658920448.0000 - mse: 1658920448.0000 - mae: 26551.9434\n",
            "Epoch 26/100\n",
            "234/234 [==============================] - 1s 3ms/step - loss: 1692114304.0000 - mse: 1692114304.0000 - mae: 26687.1426\n",
            "Epoch 27/100\n",
            "234/234 [==============================] - 1s 3ms/step - loss: 1545397632.0000 - mse: 1545397632.0000 - mae: 25772.5000\n",
            "Epoch 28/100\n",
            "234/234 [==============================] - 1s 3ms/step - loss: 1590003968.0000 - mse: 1590003968.0000 - mae: 26606.7129\n",
            "Epoch 29/100\n",
            "234/234 [==============================] - 1s 3ms/step - loss: 1581380480.0000 - mse: 1581380480.0000 - mae: 26551.9492\n",
            "Epoch 30/100\n",
            "234/234 [==============================] - 1s 3ms/step - loss: 1566820096.0000 - mse: 1566820096.0000 - mae: 26154.4492\n",
            "Epoch 31/100\n",
            "234/234 [==============================] - 1s 3ms/step - loss: 1578370048.0000 - mse: 1578370048.0000 - mae: 25823.6289\n",
            "Epoch 32/100\n",
            "234/234 [==============================] - 1s 3ms/step - loss: 1526471552.0000 - mse: 1526471552.0000 - mae: 25383.9668\n",
            "Epoch 33/100\n",
            "234/234 [==============================] - 1s 3ms/step - loss: 1544153088.0000 - mse: 1544153088.0000 - mae: 25459.9336\n",
            "Epoch 34/100\n",
            "234/234 [==============================] - 1s 3ms/step - loss: 1503136000.0000 - mse: 1503136000.0000 - mae: 25506.7695\n",
            "Epoch 35/100\n",
            "234/234 [==============================] - 1s 3ms/step - loss: 1499780864.0000 - mse: 1499780864.0000 - mae: 25626.3145\n",
            "Epoch 36/100\n",
            "234/234 [==============================] - 1s 3ms/step - loss: 1436498304.0000 - mse: 1436498304.0000 - mae: 24984.5449\n",
            "Epoch 37/100\n",
            "234/234 [==============================] - 1s 3ms/step - loss: 1416618112.0000 - mse: 1416618112.0000 - mae: 25131.7617\n",
            "Epoch 38/100\n",
            "234/234 [==============================] - 1s 3ms/step - loss: 1473155456.0000 - mse: 1473155456.0000 - mae: 25553.5996\n",
            "Epoch 39/100\n",
            "234/234 [==============================] - 1s 3ms/step - loss: 1534247424.0000 - mse: 1534247424.0000 - mae: 26532.3828\n",
            "Epoch 40/100\n",
            "234/234 [==============================] - 1s 3ms/step - loss: 1413126784.0000 - mse: 1413126784.0000 - mae: 25511.5156\n",
            "Epoch 41/100\n",
            "234/234 [==============================] - 1s 3ms/step - loss: 1334557824.0000 - mse: 1334557824.0000 - mae: 24430.4668\n",
            "Epoch 42/100\n",
            "234/234 [==============================] - 1s 3ms/step - loss: 1353638656.0000 - mse: 1353638656.0000 - mae: 24336.3496\n",
            "Epoch 43/100\n",
            "234/234 [==============================] - 1s 3ms/step - loss: 1326504576.0000 - mse: 1326504576.0000 - mae: 24122.7969\n",
            "Epoch 44/100\n",
            "234/234 [==============================] - 1s 3ms/step - loss: 1312854016.0000 - mse: 1312854016.0000 - mae: 24519.5527\n",
            "Epoch 45/100\n",
            "234/234 [==============================] - 1s 3ms/step - loss: 1270652928.0000 - mse: 1270652928.0000 - mae: 23876.4590\n",
            "Epoch 46/100\n",
            "234/234 [==============================] - 1s 3ms/step - loss: 1334785792.0000 - mse: 1334785792.0000 - mae: 24146.8066\n",
            "Epoch 47/100\n",
            "234/234 [==============================] - 1s 3ms/step - loss: 1312817152.0000 - mse: 1312817280.0000 - mae: 24691.8379\n",
            "Epoch 48/100\n",
            "234/234 [==============================] - 1s 3ms/step - loss: 1389395712.0000 - mse: 1389395712.0000 - mae: 25197.6641\n",
            "Epoch 49/100\n",
            "234/234 [==============================] - 1s 3ms/step - loss: 1290035712.0000 - mse: 1290035712.0000 - mae: 24010.2988\n",
            "Epoch 50/100\n",
            "234/234 [==============================] - 1s 3ms/step - loss: 1231482752.0000 - mse: 1231482752.0000 - mae: 23307.8262\n",
            "Epoch 51/100\n",
            "234/234 [==============================] - 1s 3ms/step - loss: 1274167808.0000 - mse: 1274167808.0000 - mae: 24224.6816\n",
            "Epoch 52/100\n",
            "234/234 [==============================] - 1s 3ms/step - loss: 1249954816.0000 - mse: 1249954816.0000 - mae: 23680.7695\n",
            "Epoch 53/100\n",
            "234/234 [==============================] - 1s 3ms/step - loss: 1197862144.0000 - mse: 1197862016.0000 - mae: 23489.9219\n",
            "Epoch 54/100\n",
            "234/234 [==============================] - 1s 3ms/step - loss: 1259251584.0000 - mse: 1259251584.0000 - mae: 23892.9844\n",
            "Epoch 55/100\n",
            "234/234 [==============================] - 1s 3ms/step - loss: 1243114496.0000 - mse: 1243114496.0000 - mae: 23870.8574\n",
            "Epoch 56/100\n",
            "234/234 [==============================] - 1s 3ms/step - loss: 1212325376.0000 - mse: 1212325376.0000 - mae: 23935.0996\n",
            "Epoch 57/100\n",
            "234/234 [==============================] - 1s 3ms/step - loss: 1229866624.0000 - mse: 1229866624.0000 - mae: 23697.0059\n",
            "Epoch 58/100\n",
            "234/234 [==============================] - 1s 3ms/step - loss: 1168885632.0000 - mse: 1168885632.0000 - mae: 23467.3047\n",
            "Epoch 59/100\n",
            "234/234 [==============================] - 1s 3ms/step - loss: 1236195200.0000 - mse: 1236195200.0000 - mae: 24041.5488\n",
            "Epoch 60/100\n",
            "234/234 [==============================] - 1s 3ms/step - loss: 1139655552.0000 - mse: 1139655552.0000 - mae: 23350.8750\n",
            "Epoch 61/100\n",
            "234/234 [==============================] - 1s 3ms/step - loss: 1141523840.0000 - mse: 1141523840.0000 - mae: 22782.9922\n",
            "Epoch 62/100\n",
            "234/234 [==============================] - 1s 3ms/step - loss: 1126779904.0000 - mse: 1126779904.0000 - mae: 23169.6875\n",
            "Epoch 63/100\n",
            "234/234 [==============================] - 1s 3ms/step - loss: 1141877504.0000 - mse: 1141877504.0000 - mae: 23327.0801\n",
            "Epoch 64/100\n",
            "234/234 [==============================] - 1s 3ms/step - loss: 1237683584.0000 - mse: 1237683584.0000 - mae: 24144.5625\n",
            "Epoch 65/100\n",
            "234/234 [==============================] - 1s 3ms/step - loss: 1080344960.0000 - mse: 1080344960.0000 - mae: 23013.3887\n",
            "Epoch 66/100\n",
            "234/234 [==============================] - 1s 3ms/step - loss: 1106641280.0000 - mse: 1106641280.0000 - mae: 22855.1211\n",
            "Epoch 67/100\n",
            "234/234 [==============================] - 1s 3ms/step - loss: 1102490112.0000 - mse: 1102490112.0000 - mae: 22550.6934\n",
            "Epoch 68/100\n",
            "234/234 [==============================] - 1s 3ms/step - loss: 1149682176.0000 - mse: 1149682176.0000 - mae: 23275.8555\n",
            "Epoch 69/100\n",
            "234/234 [==============================] - 1s 3ms/step - loss: 1111881472.0000 - mse: 1111881472.0000 - mae: 23068.6875\n",
            "Epoch 70/100\n",
            "234/234 [==============================] - 1s 3ms/step - loss: 980379840.0000 - mse: 980379840.0000 - mae: 21815.7227\n",
            "Epoch 71/100\n",
            "234/234 [==============================] - 1s 3ms/step - loss: 1118171136.0000 - mse: 1118171264.0000 - mae: 23011.5469\n",
            "Epoch 72/100\n",
            "234/234 [==============================] - 1s 3ms/step - loss: 1072239744.0000 - mse: 1072239744.0000 - mae: 22687.6230\n",
            "Epoch 73/100\n",
            "234/234 [==============================] - 1s 3ms/step - loss: 1099107200.0000 - mse: 1099107200.0000 - mae: 22681.2715\n",
            "Epoch 74/100\n",
            "234/234 [==============================] - 1s 3ms/step - loss: 1111614848.0000 - mse: 1111614848.0000 - mae: 23405.5840\n",
            "Epoch 75/100\n",
            "234/234 [==============================] - 1s 3ms/step - loss: 984767488.0000 - mse: 984767488.0000 - mae: 22048.6152\n",
            "Epoch 76/100\n",
            "234/234 [==============================] - 1s 3ms/step - loss: 1031692288.0000 - mse: 1031692288.0000 - mae: 22129.9355\n",
            "Epoch 77/100\n",
            "234/234 [==============================] - 1s 3ms/step - loss: 967641280.0000 - mse: 967641280.0000 - mae: 21386.0820\n",
            "Epoch 78/100\n",
            "234/234 [==============================] - 1s 3ms/step - loss: 1012795904.0000 - mse: 1012795904.0000 - mae: 22068.8848\n",
            "Epoch 79/100\n",
            "234/234 [==============================] - 1s 3ms/step - loss: 1023143680.0000 - mse: 1023143680.0000 - mae: 22384.4668\n",
            "Epoch 80/100\n",
            "234/234 [==============================] - 1s 4ms/step - loss: 997514688.0000 - mse: 997514688.0000 - mae: 22272.0488\n",
            "Epoch 81/100\n",
            "234/234 [==============================] - 1s 3ms/step - loss: 991705216.0000 - mse: 991705216.0000 - mae: 21944.2598\n",
            "Epoch 82/100\n",
            "234/234 [==============================] - 1s 4ms/step - loss: 935396928.0000 - mse: 935396928.0000 - mae: 21398.3223\n",
            "Epoch 83/100\n",
            "234/234 [==============================] - 1s 3ms/step - loss: 993657280.0000 - mse: 993657280.0000 - mae: 21450.2637\n",
            "Epoch 84/100\n",
            "234/234 [==============================] - 1s 4ms/step - loss: 969254528.0000 - mse: 969254528.0000 - mae: 22084.5098\n",
            "Epoch 85/100\n",
            "234/234 [==============================] - 1s 3ms/step - loss: 923831296.0000 - mse: 923831232.0000 - mae: 21705.1055\n",
            "Epoch 86/100\n",
            "234/234 [==============================] - 1s 3ms/step - loss: 999104064.0000 - mse: 999104064.0000 - mae: 22158.2422\n",
            "Epoch 87/100\n",
            "234/234 [==============================] - 1s 3ms/step - loss: 952643392.0000 - mse: 952643392.0000 - mae: 21933.2715\n",
            "Epoch 88/100\n",
            "234/234 [==============================] - 1s 3ms/step - loss: 900795904.0000 - mse: 900795904.0000 - mae: 21127.8516\n",
            "Epoch 89/100\n",
            "234/234 [==============================] - 1s 3ms/step - loss: 943348544.0000 - mse: 943348608.0000 - mae: 21376.3867\n",
            "Epoch 90/100\n",
            "234/234 [==============================] - 1s 3ms/step - loss: 1012444800.0000 - mse: 1012444800.0000 - mae: 21784.3457\n",
            "Epoch 91/100\n",
            "234/234 [==============================] - 1s 3ms/step - loss: 929943808.0000 - mse: 929943808.0000 - mae: 21690.4004\n",
            "Epoch 92/100\n",
            "234/234 [==============================] - 1s 4ms/step - loss: 929741824.0000 - mse: 929741824.0000 - mae: 21390.0684\n",
            "Epoch 93/100\n",
            "234/234 [==============================] - 1s 3ms/step - loss: 836160832.0000 - mse: 836160832.0000 - mae: 20124.4199\n",
            "Epoch 94/100\n",
            "234/234 [==============================] - 1s 3ms/step - loss: 906886464.0000 - mse: 906886464.0000 - mae: 21359.0977\n",
            "Epoch 95/100\n",
            "234/234 [==============================] - 1s 3ms/step - loss: 927984128.0000 - mse: 927984128.0000 - mae: 21406.7871\n",
            "Epoch 96/100\n",
            "234/234 [==============================] - 1s 3ms/step - loss: 825621376.0000 - mse: 825621376.0000 - mae: 19910.7188\n",
            "Epoch 97/100\n",
            "234/234 [==============================] - 1s 3ms/step - loss: 836217280.0000 - mse: 836217280.0000 - mae: 20347.5703\n",
            "Epoch 98/100\n",
            "234/234 [==============================] - 1s 3ms/step - loss: 904181376.0000 - mse: 904181376.0000 - mae: 21409.3770\n",
            "Epoch 99/100\n",
            "234/234 [==============================] - 1s 3ms/step - loss: 841210560.0000 - mse: 841210560.0000 - mae: 20439.4512\n",
            "Epoch 100/100\n",
            "234/234 [==============================] - 1s 3ms/step - loss: 870027520.0000 - mse: 870027520.0000 - mae: 21383.9336\n"
          ]
        },
        {
          "output_type": "execute_result",
          "data": {
            "text/plain": [
              "['loss', 'mse', 'mae']"
            ]
          },
          "metadata": {},
          "execution_count": 99
        }
      ],
      "metadata": {
        "datalore": {
          "node_id": "3vAX3eHvqUuLLDkTWRLTni",
          "type": "CODE",
          "hide_input_from_viewers": false,
          "hide_output_from_viewers": false
        },
        "colab": {
          "base_uri": "https://localhost:8080/"
        },
        "id": "m8WSr0oT1VRH",
        "outputId": "679042a9-154f-4869-9023-51cb261b4779"
      }
    },
    {
      "cell_type": "markdown",
      "source": [
        "**Оцените полученные результаты**"
      ],
      "metadata": {
        "datalore": {
          "node_id": "LZFQS0AKCW5TXjLQTrI0OR",
          "type": "MD",
          "hide_input_from_viewers": false,
          "hide_output_from_viewers": false
        },
        "id": "h5ZeZbQX1VRH"
      }
    },
    {
      "cell_type": "code",
      "source": [
        "plt.plot(pd.DataFrame(history.history['mae']), label='mae')\n",
        "plt.title('MAE graphic')\n",
        "plt.ylabel('epoch')\n",
        "plt.xlabel('value')\n",
        "print(history.history)"
      ],
      "execution_count": 104,
      "outputs": [
        {
          "output_type": "stream",
          "name": "stdout",
          "text": [
            "{'loss': [14305369088.0, 4506664448.0, 3259440896.0, 2568989440.0, 2282729216.0, 2185568256.0, 2153672192.0, 2048572800.0, 2217986816.0, 2036039424.0, 1999778304.0, 1959268480.0, 1968566144.0, 1935747584.0, 2085476992.0, 1896332416.0, 1899009792.0, 1934181504.0, 1803445504.0, 1758940416.0, 1708997248.0, 1790136192.0, 1788953856.0, 1694754304.0, 1658920448.0, 1692114304.0, 1545397632.0, 1590003968.0, 1581380480.0, 1566820096.0, 1578370048.0, 1526471552.0, 1544153088.0, 1503136000.0, 1499780864.0, 1436498304.0, 1416618112.0, 1473155456.0, 1534247424.0, 1413126784.0, 1334557824.0, 1353638656.0, 1326504576.0, 1312854016.0, 1270652928.0, 1334785792.0, 1312817152.0, 1389395712.0, 1290035712.0, 1231482752.0, 1274167808.0, 1249954816.0, 1197862144.0, 1259251584.0, 1243114496.0, 1212325376.0, 1229866624.0, 1168885632.0, 1236195200.0, 1139655552.0, 1141523840.0, 1126779904.0, 1141877504.0, 1237683584.0, 1080344960.0, 1106641280.0, 1102490112.0, 1149682176.0, 1111881472.0, 980379840.0, 1118171136.0, 1072239744.0, 1099107200.0, 1111614848.0, 984767488.0, 1031692288.0, 967641280.0, 1012795904.0, 1023143680.0, 997514688.0, 991705216.0, 935396928.0, 993657280.0, 969254528.0, 923831296.0, 999104064.0, 952643392.0, 900795904.0, 943348544.0, 1012444800.0, 929943808.0, 929741824.0, 836160832.0, 906886464.0, 927984128.0, 825621376.0, 836217280.0, 904181376.0, 841210560.0, 870027520.0], 'mse': [14305369088.0, 4506664448.0, 3259440896.0, 2568989440.0, 2282729216.0, 2185568256.0, 2153671936.0, 2048572800.0, 2217986816.0, 2036039168.0, 1999778304.0, 1959268480.0, 1968566144.0, 1935747584.0, 2085476992.0, 1896332416.0, 1899009792.0, 1934181504.0, 1803445504.0, 1758940416.0, 1708997248.0, 1790136192.0, 1788953856.0, 1694754304.0, 1658920448.0, 1692114304.0, 1545397632.0, 1590003968.0, 1581380480.0, 1566820096.0, 1578370048.0, 1526471552.0, 1544153088.0, 1503136000.0, 1499780864.0, 1436498304.0, 1416618112.0, 1473155456.0, 1534247424.0, 1413126784.0, 1334557824.0, 1353638656.0, 1326504576.0, 1312854016.0, 1270652928.0, 1334785792.0, 1312817280.0, 1389395712.0, 1290035712.0, 1231482752.0, 1274167808.0, 1249954816.0, 1197862016.0, 1259251584.0, 1243114496.0, 1212325376.0, 1229866624.0, 1168885632.0, 1236195200.0, 1139655552.0, 1141523840.0, 1126779904.0, 1141877504.0, 1237683584.0, 1080344960.0, 1106641280.0, 1102490112.0, 1149682176.0, 1111881472.0, 980379840.0, 1118171264.0, 1072239744.0, 1099107200.0, 1111614848.0, 984767488.0, 1031692288.0, 967641280.0, 1012795904.0, 1023143680.0, 997514688.0, 991705216.0, 935396928.0, 993657280.0, 969254528.0, 923831232.0, 999104064.0, 952643392.0, 900795904.0, 943348608.0, 1012444800.0, 929943808.0, 929741824.0, 836160832.0, 906886464.0, 927984128.0, 825621376.0, 836217280.0, 904181376.0, 841210560.0, 870027520.0], 'mae': [73849.3046875, 44617.72265625, 38183.890625, 33212.8046875, 30500.16015625, 29969.3046875, 29609.22265625, 28770.595703125, 30752.701171875, 28990.3828125, 28795.2421875, 28324.14453125, 28204.888671875, 28667.953125, 29324.19140625, 28538.5, 27910.54296875, 28142.33203125, 26779.193359375, 27419.5625, 26786.65234375, 27123.904296875, 27713.703125, 26484.927734375, 26551.943359375, 26687.142578125, 25772.5, 26606.712890625, 26551.94921875, 26154.44921875, 25823.62890625, 25383.966796875, 25459.93359375, 25506.76953125, 25626.314453125, 24984.544921875, 25131.76171875, 25553.599609375, 26532.3828125, 25511.515625, 24430.466796875, 24336.349609375, 24122.796875, 24519.552734375, 23876.458984375, 24146.806640625, 24691.837890625, 25197.6640625, 24010.298828125, 23307.826171875, 24224.681640625, 23680.76953125, 23489.921875, 23892.984375, 23870.857421875, 23935.099609375, 23697.005859375, 23467.3046875, 24041.548828125, 23350.875, 22782.9921875, 23169.6875, 23327.080078125, 24144.5625, 23013.388671875, 22855.12109375, 22550.693359375, 23275.85546875, 23068.6875, 21815.72265625, 23011.546875, 22687.623046875, 22681.271484375, 23405.583984375, 22048.615234375, 22129.935546875, 21386.08203125, 22068.884765625, 22384.466796875, 22272.048828125, 21944.259765625, 21398.322265625, 21450.263671875, 22084.509765625, 21705.10546875, 22158.2421875, 21933.271484375, 21127.8515625, 21376.38671875, 21784.345703125, 21690.400390625, 21390.068359375, 20124.419921875, 21359.09765625, 21406.787109375, 19910.71875, 20347.5703125, 21409.376953125, 20439.451171875, 21383.93359375]}\n"
          ]
        },
        {
          "output_type": "display_data",
          "data": {
            "text/plain": [
              "<Figure size 432x288 with 1 Axes>"
            ],
            "image/png": "[encoded data removed]"
          },
          "metadata": {
            "needs_background": "light"
          }
        }
      ],
      "metadata": {
        "datalore": {
          "node_id": "wZBd4zSZSgFw6r0HmnY5NE",
          "type": "CODE",
          "hide_input_from_viewers": false,
          "hide_output_from_viewers": false
        },
        "colab": {
          "base_uri": "https://localhost:8080/",
          "height": 332
        },
        "id": "6bKR9bFj1VRH",
        "outputId": "b501d909-c72f-45e4-dcaf-c209c8659da5"
      }
    },
    {
      "cell_type": "code",
      "source": [
        "plt.plot(pd.DataFrame(history.history['loss']), label='loss')\n",
        "plt.title('loss graphic')\n",
        "plt.ylabel('accuracy')\n",
        "plt.xlabel('epoch')\n",
        "plt.show"
      ],
      "metadata": {
        "colab": {
          "base_uri": "https://localhost:8080/",
          "height": 312
        },
        "id": "KCrb8R41p25k",
        "outputId": "718d394f-19b0-4961-f644-54b064390dc2"
      },
      "execution_count": 106,
      "outputs": [
        {
          "output_type": "execute_result",
          "data": {
            "text/plain": [
              "<function matplotlib.pyplot.show(*args, **kw)>"
            ]
          },
          "metadata": {},
          "execution_count": 106
        },
        {
          "output_type": "display_data",
          "data": {
            "text/plain": [
              "<Figure size 432x288 with 1 Axes>"
            ],
            "image/png": "[encoded data removed]"
          },
          "metadata": {
            "needs_background": "light"
          }
        }
      ]
    },
    {
      "cell_type": "code",
      "source": [
        "scores = model.evaluate(X_val, y_val, verbose=1)"
      ],
      "execution_count": 107,
      "outputs": [
        {
          "output_type": "stream",
          "name": "stdout",
          "text": [
            "10/10 [==============================] - 0s 2ms/step - loss: 770751936.0000 - mse: 770751936.0000 - mae: 18924.1074\n"
          ]
        }
      ],
      "metadata": {
        "datalore": {
          "node_id": "lMG4cd8mpOR6KHAh9Azgoo",
          "type": "CODE",
          "hide_input_from_viewers": false,
          "hide_output_from_viewers": false
        },
        "colab": {
          "base_uri": "https://localhost:8080/"
        },
        "id": "mbfeBOou1VRH",
        "outputId": "f7123bf5-c3e3-4d69-bce4-d536093971b4"
      }
    },
    {
      "cell_type": "markdown",
      "source": [
        "### Предсказание"
      ],
      "metadata": {
        "datalore": {
          "node_id": "WHgYPYiiXxd2J3kqISUUbA",
          "type": "MD",
          "hide_input_from_viewers": false,
          "hide_output_from_viewers": false
        },
        "id": "SFhHvbPC1VRH"
      }
    },
    {
      "cell_type": "code",
      "source": [
        "preds = model.predict(test_edited)\n",
        "preds"
      ],
      "execution_count": 102,
      "outputs": [
        {
          "output_type": "stream",
          "name": "stdout",
          "text": [
            "46/46 [==============================] - 0s 2ms/step\n"
          ]
        },
        {
          "output_type": "execute_result",
          "data": {
            "text/plain": [
              "array([[141029.08 ],\n",
              "       [238988.9  ],\n",
              "       [191053.06 ],\n",
              "       ...,\n",
              "       [183295.36 ],\n",
              "       [128118.586],\n",
              "       [221855.17 ]], dtype=float32)"
            ]
          },
          "metadata": {},
          "execution_count": 102
        }
      ],
      "metadata": {
        "datalore": {
          "node_id": "aiGNSLedTFos5pjgz0KiMg",
          "type": "CODE",
          "hide_input_from_viewers": false,
          "hide_output_from_viewers": false
        },
        "colab": {
          "base_uri": "https://localhost:8080/"
        },
        "id": "EH8VQldH1VRI",
        "outputId": "93068460-70ee-4d6a-9944-3418e5d99ecb"
      }
    },
    {
      "cell_type": "code",
      "source": [
        "#Эту часть рекомендуется дополнить вам, для более информативного отображения результата предсказания.\n",
        "output = pd.DataFrame(\n",
        "{\n",
        "    'Id':test_data['Id'],\n",
        "    'SalePrice': np.squeeze(preds)\n",
        "})\n",
        "output"
      ],
      "execution_count": 108,
      "outputs": [
        {
          "output_type": "execute_result",
          "data": {
            "text/plain": [
              "        Id      SalePrice\n",
              "0     1461  141029.078125\n",
              "1     1462  238988.906250\n",
              "2     1463  191053.062500\n",
              "3     1464  181207.640625\n",
              "4     1465  194523.265625\n",
              "...    ...            ...\n",
              "1454  2915   88308.062500\n",
              "1455  2916  102718.906250\n",
              "1456  2917  183295.359375\n",
              "1457  2918  128118.585938\n",
              "1458  2919  221855.171875\n",
              "\n",
              "[1459 rows x 2 columns]"
            ],
            "text/html": [
              "\n",
              "  <div id=\"df-93a55292-84f9-46b1-bd08-5e8683d27544\">\n",
              "    <div class=\"colab-df-container\">\n",
              "      <div>\n",
              "<style scoped>\n",
              "    .dataframe tbody tr th:only-of-type {\n",
              "        vertical-align: middle;\n",
              "    }\n",
              "\n",
              "    .dataframe tbody tr th {\n",
              "        vertical-align: top;\n",
              "    }\n",
              "\n",
              "    .dataframe thead th {\n",
              "        text-align: right;\n",
              "    }\n",
              "</style>\n",
              "<table border=\"1\" class=\"dataframe\">\n",
              "  <thead>\n",
              "    <tr style=\"text-align: right;\">\n",
              "      <th></th>\n",
              "      <th>Id</th>\n",
              "      <th>SalePrice</th>\n",
              "    </tr>\n",
              "  </thead>\n",
              "  <tbody>\n",
              "    <tr>\n",
              "      <th>0</th>\n",
              "      <td>1461</td>\n",
              "      <td>141029.078125</td>\n",
              "    </tr>\n",
              "    <tr>\n",
              "      <th>1</th>\n",
              "      <td>1462</td>\n",
              "      <td>238988.906250</td>\n",
              "    </tr>\n",
              "    <tr>\n",
              "      <th>2</th>\n",
              "      <td>1463</td>\n",
              "      <td>191053.062500</td>\n",
              "    </tr>\n",
              "    <tr>\n",
              "      <th>3</th>\n",
              "      <td>1464</td>\n",
              "      <td>181207.640625</td>\n",
              "    </tr>\n",
              "    <tr>\n",
              "      <th>4</th>\n",
              "      <td>1465</td>\n",
              "      <td>194523.265625</td>\n",
              "    </tr>\n",
              "    <tr>\n",
              "      <th>...</th>\n",
              "      <td>...</td>\n",
              "      <td>...</td>\n",
              "    </tr>\n",
              "    <tr>\n",
              "      <th>1454</th>\n",
              "      <td>2915</td>\n",
              "      <td>88308.062500</td>\n",
              "    </tr>\n",
              "    <tr>\n",
              "      <th>1455</th>\n",
              "      <td>2916</td>\n",
              "      <td>102718.906250</td>\n",
              "    </tr>\n",
              "    <tr>\n",
              "      <th>1456</th>\n",
              "      <td>2917</td>\n",
              "      <td>183295.359375</td>\n",
              "    </tr>\n",
              "    <tr>\n",
              "      <th>1457</th>\n",
              "      <td>2918</td>\n",
              "      <td>128118.585938</td>\n",
              "    </tr>\n",
              "    <tr>\n",
              "      <th>1458</th>\n",
              "      <td>2919</td>\n",
              "      <td>221855.171875</td>\n",
              "    </tr>\n",
              "  </tbody>\n",
              "</table>\n",
              "<p>1459 rows × 2 columns</p>\n",
              "</div>\n",
              "      <button class=\"colab-df-convert\" onclick=\"convertToInteractive('df-93a55292-84f9-46b1-bd08-5e8683d27544')\"\n",
              "              title=\"Convert this dataframe to an interactive table.\"\n",
              "              style=\"display:none;\">\n",
              "        \n",
              "  <svg xmlns=\"http://www.w3.org/2000/svg\" height=\"24px\"viewBox=\"0 0 24 24\"\n",
              "       width=\"24px\">\n",
              "    <path d=\"M0 0h24v24H0V0z\" fill=\"none\"/>\n",
              "    <path d=\"M18.56 5.44l.94 2.06.94-2.06 2.06-.94-2.06-.94-.94-2.06-.94 2.06-2.06.94zm-11 1L8.5 8.5l.94-2.06 2.06-.94-2.06-.94L8.5 2.5l-.94 2.06-2.06.94zm10 10l.94 2.06.94-2.06 2.06-.94-2.06-.94-.94-2.06-.94 2.06-2.06.94z\"/><path d=\"M17.41 7.96l-1.37-1.37c-.4-.4-.92-.59-1.43-.59-.52 0-1.04.2-1.43.59L10.3 9.45l-7.72 7.72c-.78.78-.78 2.05 0 2.83L4 21.41c.39.39.9.59 1.41.59.51 0 1.02-.2 1.41-.59l7.78-7.78 2.81-2.81c.8-.78.8-2.07 0-2.86zM5.41 20L4 18.59l7.72-7.72 1.47 1.35L5.41 20z\"/>\n",
              "  </svg>\n",
              "      </button>\n",
              "      \n",
              "  <style>\n",
              "    .colab-df-container {\n",
              "      display:flex;\n",
              "      flex-wrap:wrap;\n",
              "      gap: 12px;\n",
              "    }\n",
              "\n",
              "    .colab-df-convert {\n",
              "      background-color: #E8F0FE;\n",
              "      border: none;\n",
              "      border-radius: 50%;\n",
              "      cursor: pointer;\n",
              "      display: none;\n",
              "      fill: #1967D2;\n",
              "      height: 32px;\n",
              "      padding: 0 0 0 0;\n",
              "      width: 32px;\n",
              "    }\n",
              "\n",
              "    .colab-df-convert:hover {\n",
              "      background-color: #E2EBFA;\n",
              "      box-shadow: 0px 1px 2px rgba(60, 64, 67, 0.3), 0px 1px 3px 1px rgba(60, 64, 67, 0.15);\n",
              "      fill: #174EA6;\n",
              "    }\n",
              "\n",
              "    [theme=dark] .colab-df-convert {\n",
              "      background-color: #3B4455;\n",
              "      fill: #D2E3FC;\n",
              "    }\n",
              "\n",
              "    [theme=dark] .colab-df-convert:hover {\n",
              "      background-color: #434B5C;\n",
              "      box-shadow: 0px 1px 3px 1px rgba(0, 0, 0, 0.15);\n",
              "      filter: drop-shadow(0px 1px 2px rgba(0, 0, 0, 0.3));\n",
              "      fill: #FFFFFF;\n",
              "    }\n",
              "  </style>\n",
              "\n",
              "      <script>\n",
              "        const buttonEl =\n",
              "          document.querySelector('#df-93a55292-84f9-46b1-bd08-5e8683d27544 button.colab-df-convert');\n",
              "        buttonEl.style.display =\n",
              "          google.colab.kernel.accessAllowed ? 'block' : 'none';\n",
              "\n",
              "        async function convertToInteractive(key) {\n",
              "          const element = document.querySelector('#df-93a55292-84f9-46b1-bd08-5e8683d27544');\n",
              "          const dataTable =\n",
              "            await google.colab.kernel.invokeFunction('convertToInteractive',\n",
              "                                                     [key], {});\n",
              "          if (!dataTable) return;\n",
              "\n",
              "          const docLinkHtml = 'Like what you see? Visit the ' +\n",
              "            '<a target=\"_blank\" href=https://colab.research.google.com/notebooks/data_table.ipynb>data table notebook</a>'\n",
              "            + ' to learn more about interactive tables.';\n",
              "          element.innerHTML = '';\n",
              "          dataTable['output_type'] = 'display_data';\n",
              "          await google.colab.output.renderOutput(dataTable, element);\n",
              "          const docLink = document.createElement('div');\n",
              "          docLink.innerHTML = docLinkHtml;\n",
              "          element.appendChild(docLink);\n",
              "        }\n",
              "      </script>\n",
              "    </div>\n",
              "  </div>\n",
              "  "
            ]
          },
          "metadata": {},
          "execution_count": 108
        }
      ],
      "metadata": {
        "datalore": {
          "node_id": "NvP6Ro1j8jijcQa8KEVbbS",
          "type": "CODE",
          "hide_input_from_viewers": false,
          "hide_output_from_viewers": false
        },
        "colab": {
          "base_uri": "https://localhost:8080/",
          "height": 424
        },
        "id": "kStxt_691VRI",
        "outputId": "a49f0fcb-18a2-44ba-efc9-b5c765ceb59b"
      }
    },
    {
      "cell_type": "markdown",
      "source": [
        "\n",
        "**При выполнении:**\n",
        "\n",
        "Выведите отчет нейросетевой регрессионной модели, для  прогнозирование цен на жилье. \n",
        "\n",
        "\n",
        "Подберите  разные комбинации гиперпараметров таким образом, чтобы получить лучший результат на тестовом наборе данных.\n",
        "\n",
        "Попробуйте использовать разное количество нейронов на входном слое, **например** 100, 150, 200 300.\n",
        "\n",
        "Добавьте в нейронную сеть скрытый слой с разным количеством нейронов.\n",
        "\n",
        "Используйте разное количество эпох, **например** 10, 15, 20, 25, 30.\n",
        "\n",
        "Используйте разные размеры мини-выборки (batch_size), **например** 10, 50, 100, 200.\n",
        "\n",
        "Попробуйте использовать разные значения оптимизатора `optimizers` и функции потерь `loss`. Сравните полученные результаты.\n",
        "\n",
        "**Вопросы:**\n",
        "\n",
        "Как выше перечисленные параметры влияют на полученный вами результат? \n",
        "\n",
        "Что такое эпоха (Epoch)? В чем отличие от итерации (Iteration)?\n",
        "\n",
        "Что такое функция активации? Какие вам известны? Как и зачем используются в нейронной сети?\n",
        "- Функция активации – это такая функция, которая определяет выходное значение нейрона в зависимости от результата взвешенной суммы входов и порогового значения. (Своебразная надстройка над весами, чтобы вместить значение в дипазон , обычно от 0 до 1) Мне известны linear function, sigmoid, tanh, ReLU, Leaky ReLu, MaxOut\n",
        "\n",
        "Что такое MSE(Mean Squared Error) - Средняя квадратичная ошибка? Что такое MAE(Mean Absolute Error)? Для чего используются.\n",
        "- MAE во многом похожа на MSE, но она отличается меньшей чувствительностью к выбросам значений (так как не берётся квадрат отклонения). MSE в значительной мере чувствителен к выбросам в выборке, или к выборкам где разброс значений очень большой. В основном, данная функция применяется для переменных, распределение которых близко к распределению Гаусса."
      ],
      "metadata": {
        "datalore": {
          "node_id": "zhCfqTBB30trs93oPG12Rz",
          "type": "MD",
          "hide_input_from_viewers": false,
          "hide_output_from_viewers": false
        },
        "id": "D9gGlH7e1VRI"
      }
    }
  ],
  "metadata": {
    "kernelspec": {
      "display_name": "Python",
      "language": "python",
      "name": "python"
    },
    "datalore": {
      "version": 1,
      "computation_mode": "JUPYTER",
      "packages": []
    },
    "colab": {
      "provenance": [],
      "include_colab_link": true
    }
  },
  "nbformat": 4,
  "nbformat_minor": 0
}