{
  "cells": [
    {
      "cell_type": "markdown",
      "metadata": {
        "id": "view-in-github",
        "colab_type": "text"
      },
      "source": [
        "<a href=\"https://colab.research.google.com/github/sgsoul/applied-ai/blob/main/applied_ai_lab2.ipynb\" target=\"_parent\"><img src=\"https://colab.research.google.com/assets/colab-badge.svg\" alt=\"Open In Colab\"/></a>"
      ]
    },
    {
      "cell_type": "markdown",
      "source": [
        "## Прогнозирование цен на жилье с помощью нейросетевой регрессионной модели\n",
        "\n",
        "Необходимо по имеющимся данным о ценах на жильё предсказать окончательную цену каждого дома с учетом характеристик домов с использованием нейронной сети. Описание набора данных  содержит 80 классов (набор переменых) классификации оценки типа жилья, и находится в файле `data_description.txt`.\n",
        "\n",
        "В работе требуется дополнить раздел «Моделирование» в подразделе «Построение и обучение модели» создать и инициализировать последовательную модель нейронной сети с помощью фрэймворков тренировки нейронных сетей как: Torch или Tensorflow. Скомпилировать нейронную сеть выбрав функцию потерь и оптимизатор соответственно. Оценить точность полученных результатов. Вывести предсказанные данные о продаже. \n",
        "\n",
        "\n",
        "### Импорт библиотек\n",
        "Импортируем необходимые библиотеки:"
      ],
      "metadata": {
        "datalore": {
          "node_id": "CFxNZVf0hbNxeCop4nIN2T",
          "type": "MD",
          "hide_input_from_viewers": false,
          "hide_output_from_viewers": false
        },
        "id": "xNdqmsg81VQ3"
      }
    },
    {
      "cell_type": "code",
      "source": [
        "import numpy as np\n",
        "import pandas as pd\n",
        "import matplotlib.pyplot as plt\n",
        "from sklearn.model_selection import train_test_split"
      ],
      "execution_count": 117,
      "outputs": [],
      "metadata": {
        "datalore": {
          "node_id": "BuwU26gdC1ZUAFRZo5cgMp",
          "type": "CODE",
          "hide_input_from_viewers": false,
          "hide_output_from_viewers": false
        },
        "id": "WqKgNN1J1VQ8"
      }
    },
    {
      "cell_type": "markdown",
      "source": [
        "### Считываем набор данных\n",
        "\n",
        "\n",
        "Загрузим набор данных и присвоим следующими переменные:\n",
        "\n",
        "* `train_data`: данные, используемые для обучения модели\n",
        "* `test_data`: данные, используемые для проверки модели"
      ],
      "metadata": {
        "datalore": {
          "node_id": "yDvlZr4HAkGEmZYhi0oxLW",
          "type": "MD",
          "hide_input_from_viewers": false,
          "hide_output_from_viewers": false
        },
        "id": "uw9OQnZN1VQ9"
      }
    },
    {
      "cell_type": "code",
      "source": [
        "train_data = pd.read_csv('/content/train.csv')\n",
        "test_data = pd.read_csv('/content/test.csv')"
      ],
      "execution_count": 118,
      "outputs": [],
      "metadata": {
        "datalore": {
          "node_id": "cv3SeTOL5K6waszFLFVrHV",
          "type": "CODE",
          "hide_input_from_viewers": false,
          "hide_output_from_viewers": false
        },
        "id": "km1tRjgE1VQ-"
      }
    },
    {
      "cell_type": "markdown",
      "source": [
        "## Подготовка данных\n",
        "### Отобразим обучающие и проверочные данные:"
      ],
      "metadata": {
        "datalore": {
          "node_id": "OkRocMZR6KzqkfMDYArdLj",
          "type": "MD",
          "hide_input_from_viewers": false,
          "hide_output_from_viewers": false
        },
        "id": "YKPoKUfx1VQ_"
      }
    },
    {
      "cell_type": "code",
      "source": [
        "train_data.head()"
      ],
      "execution_count": 119,
      "outputs": [
        {
          "output_type": "execute_result",
          "data": {
            "text/plain": [
              "   Id  MSSubClass MSZoning  LotFrontage  LotArea Street Alley LotShape  \\\n",
              "0   1          60       RL         65.0     8450   Pave   NaN      Reg   \n",
              "1   2          20       RL         80.0     9600   Pave   NaN      Reg   \n",
              "2   3          60       RL         68.0    11250   Pave   NaN      IR1   \n",
              "3   4          70       RL         60.0     9550   Pave   NaN      IR1   \n",
              "4   5          60       RL         84.0    14260   Pave   NaN      IR1   \n",
              "\n",
              "  LandContour Utilities  ... PoolArea PoolQC Fence MiscFeature MiscVal MoSold  \\\n",
              "0         Lvl    AllPub  ...        0    NaN   NaN         NaN       0      2   \n",
              "1         Lvl    AllPub  ...        0    NaN   NaN         NaN       0      5   \n",
              "2         Lvl    AllPub  ...        0    NaN   NaN         NaN       0      9   \n",
              "3         Lvl    AllPub  ...        0    NaN   NaN         NaN       0      2   \n",
              "4         Lvl    AllPub  ...        0    NaN   NaN         NaN       0     12   \n",
              "\n",
              "  YrSold  SaleType  SaleCondition  SalePrice  \n",
              "0   2008        WD         Normal     208500  \n",
              "1   2007        WD         Normal     181500  \n",
              "2   2008        WD         Normal     223500  \n",
              "3   2006        WD        Abnorml     140000  \n",
              "4   2008        WD         Normal     250000  \n",
              "\n",
              "[5 rows x 81 columns]"
            ],
            "text/html": [
              "\n",
              "  <div id=\"df-b2a5ad0a-f7b4-4e33-a918-d8171b699b3e\">\n",
              "    <div class=\"colab-df-container\">\n",
              "      <div>\n",
              "<style scoped>\n",
              "    .dataframe tbody tr th:only-of-type {\n",
              "        vertical-align: middle;\n",
              "    }\n",
              "\n",
              "    .dataframe tbody tr th {\n",
              "        vertical-align: top;\n",
              "    }\n",
              "\n",
              "    .dataframe thead th {\n",
              "        text-align: right;\n",
              "    }\n",
              "</style>\n",
              "<table border=\"1\" class=\"dataframe\">\n",
              "  <thead>\n",
              "    <tr style=\"text-align: right;\">\n",
              "      <th></th>\n",
              "      <th>Id</th>\n",
              "      <th>MSSubClass</th>\n",
              "      <th>MSZoning</th>\n",
              "      <th>LotFrontage</th>\n",
              "      <th>LotArea</th>\n",
              "      <th>Street</th>\n",
              "      <th>Alley</th>\n",
              "      <th>LotShape</th>\n",
              "      <th>LandContour</th>\n",
              "      <th>Utilities</th>\n",
              "      <th>...</th>\n",
              "      <th>PoolArea</th>\n",
              "      <th>PoolQC</th>\n",
              "      <th>Fence</th>\n",
              "      <th>MiscFeature</th>\n",
              "      <th>MiscVal</th>\n",
              "      <th>MoSold</th>\n",
              "      <th>YrSold</th>\n",
              "      <th>SaleType</th>\n",
              "      <th>SaleCondition</th>\n",
              "      <th>SalePrice</th>\n",
              "    </tr>\n",
              "  </thead>\n",
              "  <tbody>\n",
              "    <tr>\n",
              "      <th>0</th>\n",
              "      <td>1</td>\n",
              "      <td>60</td>\n",
              "      <td>RL</td>\n",
              "      <td>65.0</td>\n",
              "      <td>8450</td>\n",
              "      <td>Pave</td>\n",
              "      <td>NaN</td>\n",
              "      <td>Reg</td>\n",
              "      <td>Lvl</td>\n",
              "      <td>AllPub</td>\n",
              "      <td>...</td>\n",
              "      <td>0</td>\n",
              "      <td>NaN</td>\n",
              "      <td>NaN</td>\n",
              "      <td>NaN</td>\n",
              "      <td>0</td>\n",
              "      <td>2</td>\n",
              "      <td>2008</td>\n",
              "      <td>WD</td>\n",
              "      <td>Normal</td>\n",
              "      <td>208500</td>\n",
              "    </tr>\n",
              "    <tr>\n",
              "      <th>1</th>\n",
              "      <td>2</td>\n",
              "      <td>20</td>\n",
              "      <td>RL</td>\n",
              "      <td>80.0</td>\n",
              "      <td>9600</td>\n",
              "      <td>Pave</td>\n",
              "      <td>NaN</td>\n",
              "      <td>Reg</td>\n",
              "      <td>Lvl</td>\n",
              "      <td>AllPub</td>\n",
              "      <td>...</td>\n",
              "      <td>0</td>\n",
              "      <td>NaN</td>\n",
              "      <td>NaN</td>\n",
              "      <td>NaN</td>\n",
              "      <td>0</td>\n",
              "      <td>5</td>\n",
              "      <td>2007</td>\n",
              "      <td>WD</td>\n",
              "      <td>Normal</td>\n",
              "      <td>181500</td>\n",
              "    </tr>\n",
              "    <tr>\n",
              "      <th>2</th>\n",
              "      <td>3</td>\n",
              "      <td>60</td>\n",
              "      <td>RL</td>\n",
              "      <td>68.0</td>\n",
              "      <td>11250</td>\n",
              "      <td>Pave</td>\n",
              "      <td>NaN</td>\n",
              "      <td>IR1</td>\n",
              "      <td>Lvl</td>\n",
              "      <td>AllPub</td>\n",
              "      <td>...</td>\n",
              "      <td>0</td>\n",
              "      <td>NaN</td>\n",
              "      <td>NaN</td>\n",
              "      <td>NaN</td>\n",
              "      <td>0</td>\n",
              "      <td>9</td>\n",
              "      <td>2008</td>\n",
              "      <td>WD</td>\n",
              "      <td>Normal</td>\n",
              "      <td>223500</td>\n",
              "    </tr>\n",
              "    <tr>\n",
              "      <th>3</th>\n",
              "      <td>4</td>\n",
              "      <td>70</td>\n",
              "      <td>RL</td>\n",
              "      <td>60.0</td>\n",
              "      <td>9550</td>\n",
              "      <td>Pave</td>\n",
              "      <td>NaN</td>\n",
              "      <td>IR1</td>\n",
              "      <td>Lvl</td>\n",
              "      <td>AllPub</td>\n",
              "      <td>...</td>\n",
              "      <td>0</td>\n",
              "      <td>NaN</td>\n",
              "      <td>NaN</td>\n",
              "      <td>NaN</td>\n",
              "      <td>0</td>\n",
              "      <td>2</td>\n",
              "      <td>2006</td>\n",
              "      <td>WD</td>\n",
              "      <td>Abnorml</td>\n",
              "      <td>140000</td>\n",
              "    </tr>\n",
              "    <tr>\n",
              "      <th>4</th>\n",
              "      <td>5</td>\n",
              "      <td>60</td>\n",
              "      <td>RL</td>\n",
              "      <td>84.0</td>\n",
              "      <td>14260</td>\n",
              "      <td>Pave</td>\n",
              "      <td>NaN</td>\n",
              "      <td>IR1</td>\n",
              "      <td>Lvl</td>\n",
              "      <td>AllPub</td>\n",
              "      <td>...</td>\n",
              "      <td>0</td>\n",
              "      <td>NaN</td>\n",
              "      <td>NaN</td>\n",
              "      <td>NaN</td>\n",
              "      <td>0</td>\n",
              "      <td>12</td>\n",
              "      <td>2008</td>\n",
              "      <td>WD</td>\n",
              "      <td>Normal</td>\n",
              "      <td>250000</td>\n",
              "    </tr>\n",
              "  </tbody>\n",
              "</table>\n",
              "<p>5 rows × 81 columns</p>\n",
              "</div>\n",
              "      <button class=\"colab-df-convert\" onclick=\"convertToInteractive('df-b2a5ad0a-f7b4-4e33-a918-d8171b699b3e')\"\n",
              "              title=\"Convert this dataframe to an interactive table.\"\n",
              "              style=\"display:none;\">\n",
              "        \n",
              "  <svg xmlns=\"http://www.w3.org/2000/svg\" height=\"24px\"viewBox=\"0 0 24 24\"\n",
              "       width=\"24px\">\n",
              "    <path d=\"M0 0h24v24H0V0z\" fill=\"none\"/>\n",
              "    <path d=\"M18.56 5.44l.94 2.06.94-2.06 2.06-.94-2.06-.94-.94-2.06-.94 2.06-2.06.94zm-11 1L8.5 8.5l.94-2.06 2.06-.94-2.06-.94L8.5 2.5l-.94 2.06-2.06.94zm10 10l.94 2.06.94-2.06 2.06-.94-2.06-.94-.94-2.06-.94 2.06-2.06.94z\"/><path d=\"M17.41 7.96l-1.37-1.37c-.4-.4-.92-.59-1.43-.59-.52 0-1.04.2-1.43.59L10.3 9.45l-7.72 7.72c-.78.78-.78 2.05 0 2.83L4 21.41c.39.39.9.59 1.41.59.51 0 1.02-.2 1.41-.59l7.78-7.78 2.81-2.81c.8-.78.8-2.07 0-2.86zM5.41 20L4 18.59l7.72-7.72 1.47 1.35L5.41 20z\"/>\n",
              "  </svg>\n",
              "      </button>\n",
              "      \n",
              "  <style>\n",
              "    .colab-df-container {\n",
              "      display:flex;\n",
              "      flex-wrap:wrap;\n",
              "      gap: 12px;\n",
              "    }\n",
              "\n",
              "    .colab-df-convert {\n",
              "      background-color: #E8F0FE;\n",
              "      border: none;\n",
              "      border-radius: 50%;\n",
              "      cursor: pointer;\n",
              "      display: none;\n",
              "      fill: #1967D2;\n",
              "      height: 32px;\n",
              "      padding: 0 0 0 0;\n",
              "      width: 32px;\n",
              "    }\n",
              "\n",
              "    .colab-df-convert:hover {\n",
              "      background-color: #E2EBFA;\n",
              "      box-shadow: 0px 1px 2px rgba(60, 64, 67, 0.3), 0px 1px 3px 1px rgba(60, 64, 67, 0.15);\n",
              "      fill: #174EA6;\n",
              "    }\n",
              "\n",
              "    [theme=dark] .colab-df-convert {\n",
              "      background-color: #3B4455;\n",
              "      fill: #D2E3FC;\n",
              "    }\n",
              "\n",
              "    [theme=dark] .colab-df-convert:hover {\n",
              "      background-color: #434B5C;\n",
              "      box-shadow: 0px 1px 3px 1px rgba(0, 0, 0, 0.15);\n",
              "      filter: drop-shadow(0px 1px 2px rgba(0, 0, 0, 0.3));\n",
              "      fill: #FFFFFF;\n",
              "    }\n",
              "  </style>\n",
              "\n",
              "      <script>\n",
              "        const buttonEl =\n",
              "          document.querySelector('#df-b2a5ad0a-f7b4-4e33-a918-d8171b699b3e button.colab-df-convert');\n",
              "        buttonEl.style.display =\n",
              "          google.colab.kernel.accessAllowed ? 'block' : 'none';\n",
              "\n",
              "        async function convertToInteractive(key) {\n",
              "          const element = document.querySelector('#df-b2a5ad0a-f7b4-4e33-a918-d8171b699b3e');\n",
              "          const dataTable =\n",
              "            await google.colab.kernel.invokeFunction('convertToInteractive',\n",
              "                                                     [key], {});\n",
              "          if (!dataTable) return;\n",
              "\n",
              "          const docLinkHtml = 'Like what you see? Visit the ' +\n",
              "            '<a target=\"_blank\" href=https://colab.research.google.com/notebooks/data_table.ipynb>data table notebook</a>'\n",
              "            + ' to learn more about interactive tables.';\n",
              "          element.innerHTML = '';\n",
              "          dataTable['output_type'] = 'display_data';\n",
              "          await google.colab.output.renderOutput(dataTable, element);\n",
              "          const docLink = document.createElement('div');\n",
              "          docLink.innerHTML = docLinkHtml;\n",
              "          element.appendChild(docLink);\n",
              "        }\n",
              "      </script>\n",
              "    </div>\n",
              "  </div>\n",
              "  "
            ]
          },
          "metadata": {},
          "execution_count": 119
        }
      ],
      "metadata": {
        "datalore": {
          "node_id": "FeQpLhWFiCUvkwKTZJGt77",
          "type": "CODE",
          "hide_input_from_viewers": false,
          "hide_output_from_viewers": false
        },
        "colab": {
          "base_uri": "https://localhost:8080/",
          "height": 0
        },
        "id": "WIonJpGA1VQ_",
        "outputId": "5a903a9f-7a80-4a04-8923-3d37f4ffca86"
      }
    },
    {
      "cell_type": "code",
      "source": [
        "test_data.head()"
      ],
      "execution_count": 120,
      "outputs": [
        {
          "output_type": "execute_result",
          "data": {
            "text/plain": [
              "     Id  MSSubClass MSZoning  LotFrontage  LotArea Street Alley LotShape  \\\n",
              "0  1461          20       RH         80.0    11622   Pave   NaN      Reg   \n",
              "1  1462          20       RL         81.0    14267   Pave   NaN      IR1   \n",
              "2  1463          60       RL         74.0    13830   Pave   NaN      IR1   \n",
              "3  1464          60       RL         78.0     9978   Pave   NaN      IR1   \n",
              "4  1465         120       RL         43.0     5005   Pave   NaN      IR1   \n",
              "\n",
              "  LandContour Utilities  ... ScreenPorch PoolArea PoolQC  Fence MiscFeature  \\\n",
              "0         Lvl    AllPub  ...         120        0    NaN  MnPrv         NaN   \n",
              "1         Lvl    AllPub  ...           0        0    NaN    NaN        Gar2   \n",
              "2         Lvl    AllPub  ...           0        0    NaN  MnPrv         NaN   \n",
              "3         Lvl    AllPub  ...           0        0    NaN    NaN         NaN   \n",
              "4         HLS    AllPub  ...         144        0    NaN    NaN         NaN   \n",
              "\n",
              "  MiscVal MoSold  YrSold  SaleType  SaleCondition  \n",
              "0       0      6    2010        WD         Normal  \n",
              "1   12500      6    2010        WD         Normal  \n",
              "2       0      3    2010        WD         Normal  \n",
              "3       0      6    2010        WD         Normal  \n",
              "4       0      1    2010        WD         Normal  \n",
              "\n",
              "[5 rows x 80 columns]"
            ],
            "text/html": [
              "\n",
              "  <div id=\"df-b8ff2bd6-821d-41fe-bff2-383eafa54186\">\n",
              "    <div class=\"colab-df-container\">\n",
              "      <div>\n",
              "<style scoped>\n",
              "    .dataframe tbody tr th:only-of-type {\n",
              "        vertical-align: middle;\n",
              "    }\n",
              "\n",
              "    .dataframe tbody tr th {\n",
              "        vertical-align: top;\n",
              "    }\n",
              "\n",
              "    .dataframe thead th {\n",
              "        text-align: right;\n",
              "    }\n",
              "</style>\n",
              "<table border=\"1\" class=\"dataframe\">\n",
              "  <thead>\n",
              "    <tr style=\"text-align: right;\">\n",
              "      <th></th>\n",
              "      <th>Id</th>\n",
              "      <th>MSSubClass</th>\n",
              "      <th>MSZoning</th>\n",
              "      <th>LotFrontage</th>\n",
              "      <th>LotArea</th>\n",
              "      <th>Street</th>\n",
              "      <th>Alley</th>\n",
              "      <th>LotShape</th>\n",
              "      <th>LandContour</th>\n",
              "      <th>Utilities</th>\n",
              "      <th>...</th>\n",
              "      <th>ScreenPorch</th>\n",
              "      <th>PoolArea</th>\n",
              "      <th>PoolQC</th>\n",
              "      <th>Fence</th>\n",
              "      <th>MiscFeature</th>\n",
              "      <th>MiscVal</th>\n",
              "      <th>MoSold</th>\n",
              "      <th>YrSold</th>\n",
              "      <th>SaleType</th>\n",
              "      <th>SaleCondition</th>\n",
              "    </tr>\n",
              "  </thead>\n",
              "  <tbody>\n",
              "    <tr>\n",
              "      <th>0</th>\n",
              "      <td>1461</td>\n",
              "      <td>20</td>\n",
              "      <td>RH</td>\n",
              "      <td>80.0</td>\n",
              "      <td>11622</td>\n",
              "      <td>Pave</td>\n",
              "      <td>NaN</td>\n",
              "      <td>Reg</td>\n",
              "      <td>Lvl</td>\n",
              "      <td>AllPub</td>\n",
              "      <td>...</td>\n",
              "      <td>120</td>\n",
              "      <td>0</td>\n",
              "      <td>NaN</td>\n",
              "      <td>MnPrv</td>\n",
              "      <td>NaN</td>\n",
              "      <td>0</td>\n",
              "      <td>6</td>\n",
              "      <td>2010</td>\n",
              "      <td>WD</td>\n",
              "      <td>Normal</td>\n",
              "    </tr>\n",
              "    <tr>\n",
              "      <th>1</th>\n",
              "      <td>1462</td>\n",
              "      <td>20</td>\n",
              "      <td>RL</td>\n",
              "      <td>81.0</td>\n",
              "      <td>14267</td>\n",
              "      <td>Pave</td>\n",
              "      <td>NaN</td>\n",
              "      <td>IR1</td>\n",
              "      <td>Lvl</td>\n",
              "      <td>AllPub</td>\n",
              "      <td>...</td>\n",
              "      <td>0</td>\n",
              "      <td>0</td>\n",
              "      <td>NaN</td>\n",
              "      <td>NaN</td>\n",
              "      <td>Gar2</td>\n",
              "      <td>12500</td>\n",
              "      <td>6</td>\n",
              "      <td>2010</td>\n",
              "      <td>WD</td>\n",
              "      <td>Normal</td>\n",
              "    </tr>\n",
              "    <tr>\n",
              "      <th>2</th>\n",
              "      <td>1463</td>\n",
              "      <td>60</td>\n",
              "      <td>RL</td>\n",
              "      <td>74.0</td>\n",
              "      <td>13830</td>\n",
              "      <td>Pave</td>\n",
              "      <td>NaN</td>\n",
              "      <td>IR1</td>\n",
              "      <td>Lvl</td>\n",
              "      <td>AllPub</td>\n",
              "      <td>...</td>\n",
              "      <td>0</td>\n",
              "      <td>0</td>\n",
              "      <td>NaN</td>\n",
              "      <td>MnPrv</td>\n",
              "      <td>NaN</td>\n",
              "      <td>0</td>\n",
              "      <td>3</td>\n",
              "      <td>2010</td>\n",
              "      <td>WD</td>\n",
              "      <td>Normal</td>\n",
              "    </tr>\n",
              "    <tr>\n",
              "      <th>3</th>\n",
              "      <td>1464</td>\n",
              "      <td>60</td>\n",
              "      <td>RL</td>\n",
              "      <td>78.0</td>\n",
              "      <td>9978</td>\n",
              "      <td>Pave</td>\n",
              "      <td>NaN</td>\n",
              "      <td>IR1</td>\n",
              "      <td>Lvl</td>\n",
              "      <td>AllPub</td>\n",
              "      <td>...</td>\n",
              "      <td>0</td>\n",
              "      <td>0</td>\n",
              "      <td>NaN</td>\n",
              "      <td>NaN</td>\n",
              "      <td>NaN</td>\n",
              "      <td>0</td>\n",
              "      <td>6</td>\n",
              "      <td>2010</td>\n",
              "      <td>WD</td>\n",
              "      <td>Normal</td>\n",
              "    </tr>\n",
              "    <tr>\n",
              "      <th>4</th>\n",
              "      <td>1465</td>\n",
              "      <td>120</td>\n",
              "      <td>RL</td>\n",
              "      <td>43.0</td>\n",
              "      <td>5005</td>\n",
              "      <td>Pave</td>\n",
              "      <td>NaN</td>\n",
              "      <td>IR1</td>\n",
              "      <td>HLS</td>\n",
              "      <td>AllPub</td>\n",
              "      <td>...</td>\n",
              "      <td>144</td>\n",
              "      <td>0</td>\n",
              "      <td>NaN</td>\n",
              "      <td>NaN</td>\n",
              "      <td>NaN</td>\n",
              "      <td>0</td>\n",
              "      <td>1</td>\n",
              "      <td>2010</td>\n",
              "      <td>WD</td>\n",
              "      <td>Normal</td>\n",
              "    </tr>\n",
              "  </tbody>\n",
              "</table>\n",
              "<p>5 rows × 80 columns</p>\n",
              "</div>\n",
              "      <button class=\"colab-df-convert\" onclick=\"convertToInteractive('df-b8ff2bd6-821d-41fe-bff2-383eafa54186')\"\n",
              "              title=\"Convert this dataframe to an interactive table.\"\n",
              "              style=\"display:none;\">\n",
              "        \n",
              "  <svg xmlns=\"http://www.w3.org/2000/svg\" height=\"24px\"viewBox=\"0 0 24 24\"\n",
              "       width=\"24px\">\n",
              "    <path d=\"M0 0h24v24H0V0z\" fill=\"none\"/>\n",
              "    <path d=\"M18.56 5.44l.94 2.06.94-2.06 2.06-.94-2.06-.94-.94-2.06-.94 2.06-2.06.94zm-11 1L8.5 8.5l.94-2.06 2.06-.94-2.06-.94L8.5 2.5l-.94 2.06-2.06.94zm10 10l.94 2.06.94-2.06 2.06-.94-2.06-.94-.94-2.06-.94 2.06-2.06.94z\"/><path d=\"M17.41 7.96l-1.37-1.37c-.4-.4-.92-.59-1.43-.59-.52 0-1.04.2-1.43.59L10.3 9.45l-7.72 7.72c-.78.78-.78 2.05 0 2.83L4 21.41c.39.39.9.59 1.41.59.51 0 1.02-.2 1.41-.59l7.78-7.78 2.81-2.81c.8-.78.8-2.07 0-2.86zM5.41 20L4 18.59l7.72-7.72 1.47 1.35L5.41 20z\"/>\n",
              "  </svg>\n",
              "      </button>\n",
              "      \n",
              "  <style>\n",
              "    .colab-df-container {\n",
              "      display:flex;\n",
              "      flex-wrap:wrap;\n",
              "      gap: 12px;\n",
              "    }\n",
              "\n",
              "    .colab-df-convert {\n",
              "      background-color: #E8F0FE;\n",
              "      border: none;\n",
              "      border-radius: 50%;\n",
              "      cursor: pointer;\n",
              "      display: none;\n",
              "      fill: #1967D2;\n",
              "      height: 32px;\n",
              "      padding: 0 0 0 0;\n",
              "      width: 32px;\n",
              "    }\n",
              "\n",
              "    .colab-df-convert:hover {\n",
              "      background-color: #E2EBFA;\n",
              "      box-shadow: 0px 1px 2px rgba(60, 64, 67, 0.3), 0px 1px 3px 1px rgba(60, 64, 67, 0.15);\n",
              "      fill: #174EA6;\n",
              "    }\n",
              "\n",
              "    [theme=dark] .colab-df-convert {\n",
              "      background-color: #3B4455;\n",
              "      fill: #D2E3FC;\n",
              "    }\n",
              "\n",
              "    [theme=dark] .colab-df-convert:hover {\n",
              "      background-color: #434B5C;\n",
              "      box-shadow: 0px 1px 3px 1px rgba(0, 0, 0, 0.15);\n",
              "      filter: drop-shadow(0px 1px 2px rgba(0, 0, 0, 0.3));\n",
              "      fill: #FFFFFF;\n",
              "    }\n",
              "  </style>\n",
              "\n",
              "      <script>\n",
              "        const buttonEl =\n",
              "          document.querySelector('#df-b8ff2bd6-821d-41fe-bff2-383eafa54186 button.colab-df-convert');\n",
              "        buttonEl.style.display =\n",
              "          google.colab.kernel.accessAllowed ? 'block' : 'none';\n",
              "\n",
              "        async function convertToInteractive(key) {\n",
              "          const element = document.querySelector('#df-b8ff2bd6-821d-41fe-bff2-383eafa54186');\n",
              "          const dataTable =\n",
              "            await google.colab.kernel.invokeFunction('convertToInteractive',\n",
              "                                                     [key], {});\n",
              "          if (!dataTable) return;\n",
              "\n",
              "          const docLinkHtml = 'Like what you see? Visit the ' +\n",
              "            '<a target=\"_blank\" href=https://colab.research.google.com/notebooks/data_table.ipynb>data table notebook</a>'\n",
              "            + ' to learn more about interactive tables.';\n",
              "          element.innerHTML = '';\n",
              "          dataTable['output_type'] = 'display_data';\n",
              "          await google.colab.output.renderOutput(dataTable, element);\n",
              "          const docLink = document.createElement('div');\n",
              "          docLink.innerHTML = docLinkHtml;\n",
              "          element.appendChild(docLink);\n",
              "        }\n",
              "      </script>\n",
              "    </div>\n",
              "  </div>\n",
              "  "
            ]
          },
          "metadata": {},
          "execution_count": 120
        }
      ],
      "metadata": {
        "datalore": {
          "node_id": "PtlgCCQ1tenYmqz4uqrL0r",
          "type": "CODE",
          "hide_input_from_viewers": false,
          "hide_output_from_viewers": false
        },
        "colab": {
          "base_uri": "https://localhost:8080/",
          "height": 0
        },
        "id": "KAU1r3MC1VQ_",
        "outputId": "d231f338-ab24-417d-c5d4-512ae6215f19"
      }
    },
    {
      "cell_type": "markdown",
      "source": [
        "Как можно видеть, `train_data` имеет на один столбец больше, чем `test_data`, это столбец `SalePrice`, для обучения модели перед применением ее для предсказания меток в test_data."
      ],
      "metadata": {
        "datalore": {
          "node_id": "m2HZ1ayKDr8MOHpK2TtCFB",
          "type": "MD",
          "hide_input_from_viewers": false,
          "hide_output_from_viewers": false
        },
        "id": "V4TZOndv1VRA"
      }
    },
    {
      "cell_type": "markdown",
      "source": [
        "### Проверяем нет ли тестовые данные пустых значений значений (Nan)\n",
        "\n",
        "Построим функцию `def missing_value_checker` для проверки и подсчёта пропущеных значений в test_data. А также выведем тип данных этих значений.\n"
      ],
      "metadata": {
        "datalore": {
          "node_id": "LvA8hUPBQzVxQWBqcatifj",
          "type": "MD",
          "hide_input_from_viewers": false,
          "hide_output_from_viewers": false
        },
        "id": "xdg5lfoX1VRB"
      }
    },
    {
      "cell_type": "code",
      "source": [
        "def missing_value_checker(data):\n",
        "    list = []\n",
        "    for feature, content in data.items():\n",
        "        if data[feature].isnull().values.any():\n",
        "            \n",
        "            sum = data[feature].isna().sum()\n",
        "\n",
        "            type = data[feature].dtype\n",
        "\n",
        "            print (f'{feature}: {sum}, type: {type}')\n",
        "            \n",
        "            list.append(feature)\n",
        "    print(list)\n",
        "\n",
        "    print(len(list))\n",
        "\n",
        "missing_value_checker(test_data)"
      ],
      "execution_count": 121,
      "outputs": [
        {
          "output_type": "stream",
          "name": "stdout",
          "text": [
            "MSZoning: 4, type: object\n",
            "LotFrontage: 227, type: float64\n",
            "Alley: 1352, type: object\n",
            "Utilities: 2, type: object\n",
            "Exterior1st: 1, type: object\n",
            "Exterior2nd: 1, type: object\n",
            "MasVnrType: 16, type: object\n",
            "MasVnrArea: 15, type: float64\n",
            "BsmtQual: 44, type: object\n",
            "BsmtCond: 45, type: object\n",
            "BsmtExposure: 44, type: object\n",
            "BsmtFinType1: 42, type: object\n",
            "BsmtFinSF1: 1, type: float64\n",
            "BsmtFinType2: 42, type: object\n",
            "BsmtFinSF2: 1, type: float64\n",
            "BsmtUnfSF: 1, type: float64\n",
            "TotalBsmtSF: 1, type: float64\n",
            "BsmtFullBath: 2, type: float64\n",
            "BsmtHalfBath: 2, type: float64\n",
            "KitchenQual: 1, type: object\n",
            "Functional: 2, type: object\n",
            "FireplaceQu: 730, type: object\n",
            "GarageType: 76, type: object\n",
            "GarageYrBlt: 78, type: float64\n",
            "GarageFinish: 78, type: object\n",
            "GarageCars: 1, type: float64\n",
            "GarageArea: 1, type: float64\n",
            "GarageQual: 78, type: object\n",
            "GarageCond: 78, type: object\n",
            "PoolQC: 1456, type: object\n",
            "Fence: 1169, type: object\n",
            "MiscFeature: 1408, type: object\n",
            "SaleType: 1, type: object\n",
            "['MSZoning', 'LotFrontage', 'Alley', 'Utilities', 'Exterior1st', 'Exterior2nd', 'MasVnrType', 'MasVnrArea', 'BsmtQual', 'BsmtCond', 'BsmtExposure', 'BsmtFinType1', 'BsmtFinSF1', 'BsmtFinType2', 'BsmtFinSF2', 'BsmtUnfSF', 'TotalBsmtSF', 'BsmtFullBath', 'BsmtHalfBath', 'KitchenQual', 'Functional', 'FireplaceQu', 'GarageType', 'GarageYrBlt', 'GarageFinish', 'GarageCars', 'GarageArea', 'GarageQual', 'GarageCond', 'PoolQC', 'Fence', 'MiscFeature', 'SaleType']\n",
            "33\n"
          ]
        }
      ],
      "metadata": {
        "datalore": {
          "node_id": "pxUQWKUmcS70sX8fsExVI9",
          "type": "CODE",
          "hide_input_from_viewers": false,
          "hide_output_from_viewers": false
        },
        "colab": {
          "base_uri": "https://localhost:8080/"
        },
        "id": "I0WoP-1B1VRB",
        "outputId": "946aa925-0006-4ede-fd99-ebade52d536e"
      }
    },
    {
      "cell_type": "markdown",
      "source": [
        "Проверяем какие признаки в таблице можно оставить, а какие удалить. Если пропущенных значений слишком много, то удалим признак. Если их небольшое количество, то заполним `mean` или `median` для чисел, новая категория `missing` для строковых объектов.\n",
        "\n",
        "В соответствии с этим:\n",
        "\n",
        "– удалим ['Alley', 'FireplaceQu', 'PoolQC', 'Fence', 'MiscFeature'];\n",
        "\n",
        "– заполним числовое отсутствующее значение значением `mean`;\n",
        "\n",
        "– заполним строковое отсутствующее значение значением `missing`."
      ],
      "metadata": {
        "datalore": {
          "node_id": "U2c2Jm8OgAYtZqUCaBITi4",
          "type": "MD",
          "hide_input_from_viewers": false,
          "hide_output_from_viewers": false
        },
        "id": "IUJQKA361VRC"
      }
    },
    {
      "cell_type": "code",
      "source": [
        "test_edited = test_data.drop(['Alley','FireplaceQu','PoolQC', 'Fence', 'MiscFeature'], axis=1)\n",
        "train_edited = train_data.drop(['Alley','FireplaceQu','PoolQC', 'Fence', 'MiscFeature'], axis=1)\n",
        "\n",
        "def nan_filler(data):\n",
        "    for label, content in data.items():\n",
        "        if pd.api.types.is_numeric_dtype(content):\n",
        "            data[label] = content.fillna(content.median())\n",
        "        else:\n",
        "            data[label] = content.astype(\"category\").cat.as_ordered()\n",
        "            data[label] = pd.Categorical(content).codes+1\n",
        "\n",
        "nan_filler(test_edited)\n",
        "nan_filler(train_edited)"
      ],
      "execution_count": 122,
      "outputs": [],
      "metadata": {
        "datalore": {
          "node_id": "2KCsgKLRNIzdZGdZDJavSo",
          "type": "CODE",
          "hide_input_from_viewers": false,
          "hide_output_from_viewers": false
        },
        "id": "t4SocUF41VRC"
      }
    },
    {
      "cell_type": "markdown",
      "source": [
        "### Перепроверим наши данные:"
      ],
      "metadata": {
        "datalore": {
          "node_id": "at2x2hjP7J2ggCGjl4bDdp",
          "type": "MD",
          "hide_input_from_viewers": false,
          "hide_output_from_viewers": false
        },
        "id": "_4zfpVTm1VRD"
      }
    },
    {
      "cell_type": "code",
      "source": [
        "missing_value_checker(test_edited)"
      ],
      "execution_count": 123,
      "outputs": [
        {
          "output_type": "stream",
          "name": "stdout",
          "text": [
            "[]\n",
            "0\n"
          ]
        }
      ],
      "metadata": {
        "datalore": {
          "node_id": "ndeDW0XUjTNQZbl08hStGd",
          "type": "CODE",
          "hide_input_from_viewers": false,
          "hide_output_from_viewers": false
        },
        "colab": {
          "base_uri": "https://localhost:8080/"
        },
        "id": "KxyJgZ1Q1VRD",
        "outputId": "4aa091c9-7297-46cb-c12a-4ace61b79ecb"
      }
    },
    {
      "cell_type": "code",
      "source": [
        "missing_value_checker(train_edited)"
      ],
      "execution_count": 124,
      "outputs": [
        {
          "output_type": "stream",
          "name": "stdout",
          "text": [
            "[]\n",
            "0\n"
          ]
        }
      ],
      "metadata": {
        "datalore": {
          "node_id": "wLLxXh3dPBZhWswJRtePAF",
          "type": "CODE",
          "hide_input_from_viewers": false,
          "hide_output_from_viewers": false
        },
        "colab": {
          "base_uri": "https://localhost:8080/"
        },
        "id": "jyYEcZzt1VRD",
        "outputId": "810f3dd1-0500-41c7-de53-c8923216dd3a"
      }
    },
    {
      "cell_type": "code",
      "source": [
        "train_edited.shape, test_edited.shape"
      ],
      "execution_count": 125,
      "outputs": [
        {
          "output_type": "execute_result",
          "data": {
            "text/plain": [
              "((1460, 76), (1459, 75))"
            ]
          },
          "metadata": {},
          "execution_count": 125
        }
      ],
      "metadata": {
        "datalore": {
          "node_id": "uun8jPN10ZuxbG043ZksEJ",
          "type": "CODE",
          "hide_input_from_viewers": false,
          "hide_output_from_viewers": false
        },
        "colab": {
          "base_uri": "https://localhost:8080/"
        },
        "id": "PkPF-Uiy1VRE",
        "outputId": "3d61263f-4b0f-43ee-841e-1727bbec2f08"
      }
    },
    {
      "cell_type": "code",
      "source": [
        "test_edited.info()"
      ],
      "execution_count": 126,
      "outputs": [
        {
          "output_type": "stream",
          "name": "stdout",
          "text": [
            "<class 'pandas.core.frame.DataFrame'>\n",
            "RangeIndex: 1459 entries, 0 to 1458\n",
            "Data columns (total 75 columns):\n",
            " #   Column         Non-Null Count  Dtype  \n",
            "---  ------         --------------  -----  \n",
            " 0   Id             1459 non-null   int64  \n",
            " 1   MSSubClass     1459 non-null   int64  \n",
            " 2   MSZoning       1459 non-null   int8   \n",
            " 3   LotFrontage    1459 non-null   float64\n",
            " 4   LotArea        1459 non-null   int64  \n",
            " 5   Street         1459 non-null   int8   \n",
            " 6   LotShape       1459 non-null   int8   \n",
            " 7   LandContour    1459 non-null   int8   \n",
            " 8   Utilities      1459 non-null   int8   \n",
            " 9   LotConfig      1459 non-null   int8   \n",
            " 10  LandSlope      1459 non-null   int8   \n",
            " 11  Neighborhood   1459 non-null   int8   \n",
            " 12  Condition1     1459 non-null   int8   \n",
            " 13  Condition2     1459 non-null   int8   \n",
            " 14  BldgType       1459 non-null   int8   \n",
            " 15  HouseStyle     1459 non-null   int8   \n",
            " 16  OverallQual    1459 non-null   int64  \n",
            " 17  OverallCond    1459 non-null   int64  \n",
            " 18  YearBuilt      1459 non-null   int64  \n",
            " 19  YearRemodAdd   1459 non-null   int64  \n",
            " 20  RoofStyle      1459 non-null   int8   \n",
            " 21  RoofMatl       1459 non-null   int8   \n",
            " 22  Exterior1st    1459 non-null   int8   \n",
            " 23  Exterior2nd    1459 non-null   int8   \n",
            " 24  MasVnrType     1459 non-null   int8   \n",
            " 25  MasVnrArea     1459 non-null   float64\n",
            " 26  ExterQual      1459 non-null   int8   \n",
            " 27  ExterCond      1459 non-null   int8   \n",
            " 28  Foundation     1459 non-null   int8   \n",
            " 29  BsmtQual       1459 non-null   int8   \n",
            " 30  BsmtCond       1459 non-null   int8   \n",
            " 31  BsmtExposure   1459 non-null   int8   \n",
            " 32  BsmtFinType1   1459 non-null   int8   \n",
            " 33  BsmtFinSF1     1459 non-null   float64\n",
            " 34  BsmtFinType2   1459 non-null   int8   \n",
            " 35  BsmtFinSF2     1459 non-null   float64\n",
            " 36  BsmtUnfSF      1459 non-null   float64\n",
            " 37  TotalBsmtSF    1459 non-null   float64\n",
            " 38  Heating        1459 non-null   int8   \n",
            " 39  HeatingQC      1459 non-null   int8   \n",
            " 40  CentralAir     1459 non-null   int8   \n",
            " 41  Electrical     1459 non-null   int8   \n",
            " 42  1stFlrSF       1459 non-null   int64  \n",
            " 43  2ndFlrSF       1459 non-null   int64  \n",
            " 44  LowQualFinSF   1459 non-null   int64  \n",
            " 45  GrLivArea      1459 non-null   int64  \n",
            " 46  BsmtFullBath   1459 non-null   float64\n",
            " 47  BsmtHalfBath   1459 non-null   float64\n",
            " 48  FullBath       1459 non-null   int64  \n",
            " 49  HalfBath       1459 non-null   int64  \n",
            " 50  BedroomAbvGr   1459 non-null   int64  \n",
            " 51  KitchenAbvGr   1459 non-null   int64  \n",
            " 52  KitchenQual    1459 non-null   int8   \n",
            " 53  TotRmsAbvGrd   1459 non-null   int64  \n",
            " 54  Functional     1459 non-null   int8   \n",
            " 55  Fireplaces     1459 non-null   int64  \n",
            " 56  GarageType     1459 non-null   int8   \n",
            " 57  GarageYrBlt    1459 non-null   float64\n",
            " 58  GarageFinish   1459 non-null   int8   \n",
            " 59  GarageCars     1459 non-null   float64\n",
            " 60  GarageArea     1459 non-null   float64\n",
            " 61  GarageQual     1459 non-null   int8   \n",
            " 62  GarageCond     1459 non-null   int8   \n",
            " 63  PavedDrive     1459 non-null   int8   \n",
            " 64  WoodDeckSF     1459 non-null   int64  \n",
            " 65  OpenPorchSF    1459 non-null   int64  \n",
            " 66  EnclosedPorch  1459 non-null   int64  \n",
            " 67  3SsnPorch      1459 non-null   int64  \n",
            " 68  ScreenPorch    1459 non-null   int64  \n",
            " 69  PoolArea       1459 non-null   int64  \n",
            " 70  MiscVal        1459 non-null   int64  \n",
            " 71  MoSold         1459 non-null   int64  \n",
            " 72  YrSold         1459 non-null   int64  \n",
            " 73  SaleType       1459 non-null   int8   \n",
            " 74  SaleCondition  1459 non-null   int8   \n",
            "dtypes: float64(11), int64(26), int8(38)\n",
            "memory usage: 476.0 KB\n"
          ]
        }
      ],
      "metadata": {
        "datalore": {
          "node_id": "Rlx0t4SQFyHXlcaeU5CL3e",
          "type": "CODE",
          "hide_input_from_viewers": false,
          "hide_output_from_viewers": false
        },
        "colab": {
          "base_uri": "https://localhost:8080/"
        },
        "id": "iVqYd4lN1VRE",
        "outputId": "01909401-f19f-48c8-c1c5-37956b8b4e62"
      }
    },
    {
      "cell_type": "code",
      "source": [
        "train_edited.info()"
      ],
      "execution_count": 127,
      "outputs": [
        {
          "output_type": "stream",
          "name": "stdout",
          "text": [
            "<class 'pandas.core.frame.DataFrame'>\n",
            "RangeIndex: 1460 entries, 0 to 1459\n",
            "Data columns (total 76 columns):\n",
            " #   Column         Non-Null Count  Dtype  \n",
            "---  ------         --------------  -----  \n",
            " 0   Id             1460 non-null   int64  \n",
            " 1   MSSubClass     1460 non-null   int64  \n",
            " 2   MSZoning       1460 non-null   int8   \n",
            " 3   LotFrontage    1460 non-null   float64\n",
            " 4   LotArea        1460 non-null   int64  \n",
            " 5   Street         1460 non-null   int8   \n",
            " 6   LotShape       1460 non-null   int8   \n",
            " 7   LandContour    1460 non-null   int8   \n",
            " 8   Utilities      1460 non-null   int8   \n",
            " 9   LotConfig      1460 non-null   int8   \n",
            " 10  LandSlope      1460 non-null   int8   \n",
            " 11  Neighborhood   1460 non-null   int8   \n",
            " 12  Condition1     1460 non-null   int8   \n",
            " 13  Condition2     1460 non-null   int8   \n",
            " 14  BldgType       1460 non-null   int8   \n",
            " 15  HouseStyle     1460 non-null   int8   \n",
            " 16  OverallQual    1460 non-null   int64  \n",
            " 17  OverallCond    1460 non-null   int64  \n",
            " 18  YearBuilt      1460 non-null   int64  \n",
            " 19  YearRemodAdd   1460 non-null   int64  \n",
            " 20  RoofStyle      1460 non-null   int8   \n",
            " 21  RoofMatl       1460 non-null   int8   \n",
            " 22  Exterior1st    1460 non-null   int8   \n",
            " 23  Exterior2nd    1460 non-null   int8   \n",
            " 24  MasVnrType     1460 non-null   int8   \n",
            " 25  MasVnrArea     1460 non-null   float64\n",
            " 26  ExterQual      1460 non-null   int8   \n",
            " 27  ExterCond      1460 non-null   int8   \n",
            " 28  Foundation     1460 non-null   int8   \n",
            " 29  BsmtQual       1460 non-null   int8   \n",
            " 30  BsmtCond       1460 non-null   int8   \n",
            " 31  BsmtExposure   1460 non-null   int8   \n",
            " 32  BsmtFinType1   1460 non-null   int8   \n",
            " 33  BsmtFinSF1     1460 non-null   int64  \n",
            " 34  BsmtFinType2   1460 non-null   int8   \n",
            " 35  BsmtFinSF2     1460 non-null   int64  \n",
            " 36  BsmtUnfSF      1460 non-null   int64  \n",
            " 37  TotalBsmtSF    1460 non-null   int64  \n",
            " 38  Heating        1460 non-null   int8   \n",
            " 39  HeatingQC      1460 non-null   int8   \n",
            " 40  CentralAir     1460 non-null   int8   \n",
            " 41  Electrical     1460 non-null   int8   \n",
            " 42  1stFlrSF       1460 non-null   int64  \n",
            " 43  2ndFlrSF       1460 non-null   int64  \n",
            " 44  LowQualFinSF   1460 non-null   int64  \n",
            " 45  GrLivArea      1460 non-null   int64  \n",
            " 46  BsmtFullBath   1460 non-null   int64  \n",
            " 47  BsmtHalfBath   1460 non-null   int64  \n",
            " 48  FullBath       1460 non-null   int64  \n",
            " 49  HalfBath       1460 non-null   int64  \n",
            " 50  BedroomAbvGr   1460 non-null   int64  \n",
            " 51  KitchenAbvGr   1460 non-null   int64  \n",
            " 52  KitchenQual    1460 non-null   int8   \n",
            " 53  TotRmsAbvGrd   1460 non-null   int64  \n",
            " 54  Functional     1460 non-null   int8   \n",
            " 55  Fireplaces     1460 non-null   int64  \n",
            " 56  GarageType     1460 non-null   int8   \n",
            " 57  GarageYrBlt    1460 non-null   float64\n",
            " 58  GarageFinish   1460 non-null   int8   \n",
            " 59  GarageCars     1460 non-null   int64  \n",
            " 60  GarageArea     1460 non-null   int64  \n",
            " 61  GarageQual     1460 non-null   int8   \n",
            " 62  GarageCond     1460 non-null   int8   \n",
            " 63  PavedDrive     1460 non-null   int8   \n",
            " 64  WoodDeckSF     1460 non-null   int64  \n",
            " 65  OpenPorchSF    1460 non-null   int64  \n",
            " 66  EnclosedPorch  1460 non-null   int64  \n",
            " 67  3SsnPorch      1460 non-null   int64  \n",
            " 68  ScreenPorch    1460 non-null   int64  \n",
            " 69  PoolArea       1460 non-null   int64  \n",
            " 70  MiscVal        1460 non-null   int64  \n",
            " 71  MoSold         1460 non-null   int64  \n",
            " 72  YrSold         1460 non-null   int64  \n",
            " 73  SaleType       1460 non-null   int8   \n",
            " 74  SaleCondition  1460 non-null   int8   \n",
            " 75  SalePrice      1460 non-null   int64  \n",
            "dtypes: float64(3), int64(35), int8(38)\n",
            "memory usage: 487.7 KB\n"
          ]
        }
      ],
      "metadata": {
        "datalore": {
          "node_id": "F2soDeOs0hu9vFpzLvQWtO",
          "type": "CODE",
          "hide_input_from_viewers": false,
          "hide_output_from_viewers": false
        },
        "colab": {
          "base_uri": "https://localhost:8080/"
        },
        "id": "6hSluxnc1VRE",
        "outputId": "333b0a28-42a6-41a8-c99e-ce386668e9ad"
      }
    },
    {
      "cell_type": "markdown",
      "source": [
        "### Разделим данные\n",
        "\n",
        "Поскольку мы не знаем метку (Цена) тестовых данных, для оценки модели, чтобы получить лучшую модель перед прогнозированием тестовых данных, разделим данные в файле train.scv на обучающие и проверочные данные, соотношение составляет 20%."
      ],
      "metadata": {
        "datalore": {
          "node_id": "sctXpXpVAyHpq6e2u72Jit",
          "type": "MD",
          "hide_input_from_viewers": false,
          "hide_output_from_viewers": false
        },
        "id": "OlUJ2E341VRE"
      }
    },
    {
      "cell_type": "code",
      "source": [
        "X = train_edited.drop('SalePrice', axis=1)\n",
        "y = train_edited['SalePrice']\n",
        "\n",
        "X_train, X_val, y_train, y_val = train_test_split(X, y, test_size = 0.2)"
      ],
      "execution_count": 128,
      "outputs": [],
      "metadata": {
        "datalore": {
          "node_id": "t8LurcYSC79LJFUQFBR6IP",
          "type": "CODE",
          "hide_input_from_viewers": false,
          "hide_output_from_viewers": false
        },
        "id": "Kxs7fPss1VRF"
      }
    },
    {
      "cell_type": "code",
      "source": [
        "X_train.shape, test_edited.shape"
      ],
      "execution_count": 129,
      "outputs": [
        {
          "output_type": "execute_result",
          "data": {
            "text/plain": [
              "((1168, 75), (1459, 75))"
            ]
          },
          "metadata": {},
          "execution_count": 129
        }
      ],
      "metadata": {
        "datalore": {
          "node_id": "i93j4GwqcU1GyQ4VPlqVfO",
          "type": "CODE",
          "hide_input_from_viewers": false,
          "hide_output_from_viewers": false
        },
        "colab": {
          "base_uri": "https://localhost:8080/"
        },
        "id": "WQkCJIdV1VRF",
        "outputId": "f255ba03-2511-43ae-b9f5-81d4993c4e4a"
      }
    },
    {
      "cell_type": "markdown",
      "source": [
        "## Моделирование"
      ],
      "metadata": {
        "datalore": {
          "node_id": "rwifuS2QgPW48EMtsBXdFH",
          "type": "MD",
          "hide_input_from_viewers": false,
          "hide_output_from_viewers": false
        },
        "id": "y4dWgEVY1VRF"
      }
    },
    {
      "cell_type": "markdown",
      "source": [
        "### Построение и обучение модели"
      ],
      "metadata": {
        "datalore": {
          "node_id": "ZV0KjiWMU6QB7jLp3j5yc8",
          "type": "MD",
          "hide_input_from_viewers": false,
          "hide_output_from_viewers": false
        },
        "id": "W1a0Tg3D1VRF"
      }
    },
    {
      "cell_type": "markdown",
      "source": [
        "\n",
        "Создайте последовательную модель нейронной сети с помощью фрэймворков тренировки нейронных сетей как: Torch или Tensorflow. "
      ],
      "metadata": {
        "datalore": {
          "node_id": "G277rUWTnvZaphr9V2bwEz",
          "type": "MD",
          "hide_input_from_viewers": false,
          "hide_output_from_viewers": false
        },
        "id": "xz8hMEvM1VRG"
      }
    },
    {
      "cell_type": "code",
      "source": [
        "import tensorflow as tf\n",
        "from tensorflow import keras\n",
        "from keras import layers\n",
        "\n",
        "# замените None на колличество входных полносвязных слоёв, колличество нейронов, колличество выходов\n",
        "model = keras.models.Sequential()\n",
        "model.add(keras.layers.Dense(units=200, activation = 'relu',  input_shape=[75])) #вс\n",
        "model.add(keras.layers.Dense(units=150, activation = 'relu')) #сс\n",
        "model.add(keras.layers.Dense(units=150, activation = 'relu')) #сс\n",
        "model.add(keras.layers.Dense(units=150, activation = 'relu')) #cc\n",
        "model.add(layers.Dense(1, activation='linear'))\n",
        "\n",
        "\n",
        "tf.random.set_seed(40) #для обеспечения воспроизводимости результатов уст функц seed"
      ],
      "execution_count": 130,
      "outputs": [],
      "metadata": {
        "datalore": {
          "node_id": "MpU8VN6DOjpBNi6I834Lpu",
          "type": "CODE",
          "hide_input_from_viewers": false,
          "hide_output_from_viewers": false
        },
        "id": "imxCYYdR1VRG"
      }
    },
    {
      "cell_type": "markdown",
      "source": [
        "Скомпилируйте нейронную сеть, выбрав функцию потерь и оптимизатор соответственно."
      ],
      "metadata": {
        "datalore": {
          "node_id": "TuMuPzKI9mkpXMfMOnK1LA",
          "type": "MD",
          "hide_input_from_viewers": false,
          "hide_output_from_viewers": false
        },
        "id": "AWoWPrKA1VRG"
      }
    },
    {
      "cell_type": "code",
      "source": [
        "model.compile(loss='MSLE', optimizer='adam', metrics=['mse', 'mae']) #Для оценки потерь и метрики используем метрики и функции потерь для регрессии."
      ],
      "execution_count": 131,
      "outputs": [],
      "metadata": {
        "datalore": {
          "node_id": "Qxs8obrnFlj2CqfZz7kIHz",
          "type": "CODE",
          "hide_input_from_viewers": false,
          "hide_output_from_viewers": false
        },
        "id": "Tv9Xyq8I1VRG"
      }
    },
    {
      "cell_type": "markdown",
      "source": [
        "Обучите модель на обучающих данных `X_train` и `y_train` задав гиперпараметры вашей модели нейронной сети, например количество эпох (epochs), размер мини-выборки (batch_size) и другие."
      ],
      "metadata": {
        "datalore": {
          "node_id": "wUdHBe7xu6vMejIXVhekbo",
          "type": "MD",
          "hide_input_from_viewers": false,
          "hide_output_from_viewers": false
        },
        "id": "3Sx0Y7AD1VRG"
      }
    },
    {
      "cell_type": "code",
      "source": [
        "history = model.fit(X_train, y_train, batch_size = 10, epochs=25)\n",
        "model.metrics_names"
      ],
      "execution_count": 132,
      "outputs": [
        {
          "output_type": "stream",
          "name": "stdout",
          "text": [
            "Epoch 1/25\n",
            "117/117 [==============================] - 1s 3ms/step - loss: 4.0556 - mse: 18734686208.0000 - mae: 93761.4688\n",
            "Epoch 2/25\n",
            "117/117 [==============================] - 0s 3ms/step - loss: 0.1092 - mse: 11822601216.0000 - mae: 50700.2383\n",
            "Epoch 3/25\n",
            "117/117 [==============================] - 0s 3ms/step - loss: 0.0791 - mse: 7632110592.0000 - mae: 41790.0977\n",
            "Epoch 4/25\n",
            "117/117 [==============================] - 0s 3ms/step - loss: 0.0554 - mse: 4790488064.0000 - mae: 34238.8125\n",
            "Epoch 5/25\n",
            "117/117 [==============================] - 0s 3ms/step - loss: 0.0471 - mse: 3440238592.0000 - mae: 30551.6680\n",
            "Epoch 6/25\n",
            "117/117 [==============================] - 0s 3ms/step - loss: 0.0443 - mse: 2547013632.0000 - mae: 29528.2461\n",
            "Epoch 7/25\n",
            "117/117 [==============================] - 0s 3ms/step - loss: 0.0423 - mse: 2200102400.0000 - mae: 28941.6191\n",
            "Epoch 8/25\n",
            "117/117 [==============================] - 0s 3ms/step - loss: 0.0407 - mse: 1927987712.0000 - mae: 27924.0820\n",
            "Epoch 9/25\n",
            "117/117 [==============================] - 0s 3ms/step - loss: 0.0413 - mse: 1880008832.0000 - mae: 28328.3125\n",
            "Epoch 10/25\n",
            "117/117 [==============================] - 0s 3ms/step - loss: 0.0400 - mse: 1763100672.0000 - mae: 27455.3770\n",
            "Epoch 11/25\n",
            "117/117 [==============================] - 0s 3ms/step - loss: 0.0389 - mse: 1665461760.0000 - mae: 26966.7305\n",
            "Epoch 12/25\n",
            "117/117 [==============================] - 0s 3ms/step - loss: 0.0385 - mse: 1700593536.0000 - mae: 27168.8555\n",
            "Epoch 13/25\n",
            "117/117 [==============================] - 0s 3ms/step - loss: 0.0380 - mse: 1670024960.0000 - mae: 26530.9355\n",
            "Epoch 14/25\n",
            "117/117 [==============================] - 0s 3ms/step - loss: 0.0373 - mse: 1614421504.0000 - mae: 26390.5898\n",
            "Epoch 15/25\n",
            "117/117 [==============================] - 0s 3ms/step - loss: 0.0372 - mse: 1579732608.0000 - mae: 25958.8496\n",
            "Epoch 16/25\n",
            "117/117 [==============================] - 0s 3ms/step - loss: 0.0387 - mse: 1639201408.0000 - mae: 26819.2305\n",
            "Epoch 17/25\n",
            "117/117 [==============================] - 0s 3ms/step - loss: 0.0365 - mse: 1578521344.0000 - mae: 25782.8418\n",
            "Epoch 18/25\n",
            "117/117 [==============================] - 0s 3ms/step - loss: 0.0362 - mse: 1570402688.0000 - mae: 25574.5020\n",
            "Epoch 19/25\n",
            "117/117 [==============================] - 0s 3ms/step - loss: 0.0368 - mse: 1611969152.0000 - mae: 25677.1758\n",
            "Epoch 20/25\n",
            "117/117 [==============================] - 0s 3ms/step - loss: 0.0366 - mse: 1574590208.0000 - mae: 25958.1523\n",
            "Epoch 21/25\n",
            "117/117 [==============================] - 0s 3ms/step - loss: 0.0361 - mse: 1548121728.0000 - mae: 25637.2188\n",
            "Epoch 22/25\n",
            "117/117 [==============================] - 0s 3ms/step - loss: 0.0369 - mse: 1580668928.0000 - mae: 25834.8320\n",
            "Epoch 23/25\n",
            "117/117 [==============================] - 0s 3ms/step - loss: 0.0364 - mse: 1569506048.0000 - mae: 25570.0938\n",
            "Epoch 24/25\n",
            "117/117 [==============================] - 0s 3ms/step - loss: 0.0354 - mse: 1526970240.0000 - mae: 25251.5684\n",
            "Epoch 25/25\n",
            "117/117 [==============================] - 0s 3ms/step - loss: 0.0369 - mse: 1559645696.0000 - mae: 25423.1035\n"
          ]
        },
        {
          "output_type": "execute_result",
          "data": {
            "text/plain": [
              "['loss', 'mse', 'mae']"
            ]
          },
          "metadata": {},
          "execution_count": 132
        }
      ],
      "metadata": {
        "datalore": {
          "node_id": "3vAX3eHvqUuLLDkTWRLTni",
          "type": "CODE",
          "hide_input_from_viewers": false,
          "hide_output_from_viewers": false
        },
        "colab": {
          "base_uri": "https://localhost:8080/"
        },
        "id": "m8WSr0oT1VRH",
        "outputId": "1ba89f71-98ba-404b-f1c3-873648697491"
      }
    },
    {
      "cell_type": "markdown",
      "source": [
        "**Оцените полученные результаты**"
      ],
      "metadata": {
        "datalore": {
          "node_id": "LZFQS0AKCW5TXjLQTrI0OR",
          "type": "MD",
          "hide_input_from_viewers": false,
          "hide_output_from_viewers": false
        },
        "id": "h5ZeZbQX1VRH"
      }
    },
    {
      "cell_type": "code",
      "source": [
        "plt.plot(pd.DataFrame(history.history['mae']), label='mae')\n",
        "plt.title('MAE graphic')\n",
        "plt.ylabel('epoch')\n",
        "plt.xlabel('value')\n",
        "print(history.history)"
      ],
      "execution_count": 133,
      "outputs": [
        {
          "output_type": "stream",
          "name": "stdout",
          "text": [
            "{'loss': [4.055647373199463, 0.10921605676412582, 0.07905299216508865, 0.05535301938652992, 0.04712769016623497, 0.04425957798957825, 0.0423111617565155, 0.040675465017557144, 0.041313763707876205, 0.039986420422792435, 0.03890306502580643, 0.038503870368003845, 0.03803384304046631, 0.0372626967728138, 0.037191107869148254, 0.03869284316897392, 0.03651678189635277, 0.03621109947562218, 0.03682808205485344, 0.03660309687256813, 0.036112163215875626, 0.036892153322696686, 0.0364040806889534, 0.03537599369883537, 0.03690539672970772], 'mse': [18734686208.0, 11822601216.0, 7632110592.0, 4790488064.0, 3440238592.0, 2547013632.0, 2200102400.0, 1927987712.0, 1880008832.0, 1763100672.0, 1665461760.0, 1700593536.0, 1670024960.0, 1614421504.0, 1579732608.0, 1639201408.0, 1578521344.0, 1570402688.0, 1611969152.0, 1574590208.0, 1548121728.0, 1580668928.0, 1569506048.0, 1526970240.0, 1559645696.0], 'mae': [93761.46875, 50700.23828125, 41790.09765625, 34238.8125, 30551.66796875, 29528.24609375, 28941.619140625, 27924.08203125, 28328.3125, 27455.376953125, 26966.73046875, 27168.85546875, 26530.935546875, 26390.58984375, 25958.849609375, 26819.23046875, 25782.841796875, 25574.501953125, 25677.17578125, 25958.15234375, 25637.21875, 25834.83203125, 25570.09375, 25251.568359375, 25423.103515625]}\n"
          ]
        },
        {
          "output_type": "display_data",
          "data": {
            "text/plain": [
              "<Figure size 432x288 with 1 Axes>"
            ],
            "image/png": "[encoded data removed]"
          },
          "metadata": {
            "needs_background": "light"
          }
        }
      ],
      "metadata": {
        "datalore": {
          "node_id": "wZBd4zSZSgFw6r0HmnY5NE",
          "type": "CODE",
          "hide_input_from_viewers": false,
          "hide_output_from_viewers": false
        },
        "colab": {
          "base_uri": "https://localhost:8080/",
          "height": 332
        },
        "id": "6bKR9bFj1VRH",
        "outputId": "6c782413-dc50-4cd1-c668-e2f5e9b99d79"
      }
    },
    {
      "cell_type": "code",
      "source": [
        "plt.plot(pd.DataFrame(history.history['loss']), label='loss')\n",
        "plt.title('loss graphic')\n",
        "plt.ylabel('accuracy')\n",
        "plt.xlabel('epoch')\n",
        "plt.show"
      ],
      "metadata": {
        "colab": {
          "base_uri": "https://localhost:8080/",
          "height": 312
        },
        "id": "KCrb8R41p25k",
        "outputId": "f5251c1a-c1a5-4815-a0d8-03180a36c3f4"
      },
      "execution_count": 134,
      "outputs": [
        {
          "output_type": "execute_result",
          "data": {
            "text/plain": [
              "<function matplotlib.pyplot.show(*args, **kw)>"
            ]
          },
          "metadata": {},
          "execution_count": 134
        },
        {
          "output_type": "display_data",
          "data": {
            "text/plain": [
              "<Figure size 432x288 with 1 Axes>"
            ],
            "image/png": "[encoded data removed]"
          },
          "metadata": {
            "needs_background": "light"
          }
        }
      ]
    },
    {
      "cell_type": "code",
      "source": [
        "scores = model.evaluate(X_val, y_val, verbose=1)"
      ],
      "execution_count": 135,
      "outputs": [
        {
          "output_type": "stream",
          "name": "stdout",
          "text": [
            "10/10 [==============================] - 0s 2ms/step - loss: 0.0596 - mse: 3347810816.0000 - mae: 29372.4863\n"
          ]
        }
      ],
      "metadata": {
        "datalore": {
          "node_id": "lMG4cd8mpOR6KHAh9Azgoo",
          "type": "CODE",
          "hide_input_from_viewers": false,
          "hide_output_from_viewers": false
        },
        "colab": {
          "base_uri": "https://localhost:8080/"
        },
        "id": "mbfeBOou1VRH",
        "outputId": "9d7fd278-5e04-4269-b012-881eb9298cc1"
      }
    },
    {
      "cell_type": "markdown",
      "source": [
        "### Предсказание"
      ],
      "metadata": {
        "datalore": {
          "node_id": "WHgYPYiiXxd2J3kqISUUbA",
          "type": "MD",
          "hide_input_from_viewers": false,
          "hide_output_from_viewers": false
        },
        "id": "SFhHvbPC1VRH"
      }
    },
    {
      "cell_type": "code",
      "source": [
        "preds = model.predict(test_edited)\n",
        "preds"
      ],
      "execution_count": 136,
      "outputs": [
        {
          "output_type": "stream",
          "name": "stdout",
          "text": [
            "46/46 [==============================] - 0s 2ms/step\n"
          ]
        },
        {
          "output_type": "execute_result",
          "data": {
            "text/plain": [
              "array([[156886.95],\n",
              "       [207062.95],\n",
              "       [201185.39],\n",
              "       ...,\n",
              "       [200084.25],\n",
              "       [112954.44],\n",
              "       [239776.89]], dtype=float32)"
            ]
          },
          "metadata": {},
          "execution_count": 136
        }
      ],
      "metadata": {
        "datalore": {
          "node_id": "aiGNSLedTFos5pjgz0KiMg",
          "type": "CODE",
          "hide_input_from_viewers": false,
          "hide_output_from_viewers": false
        },
        "colab": {
          "base_uri": "https://localhost:8080/"
        },
        "id": "EH8VQldH1VRI",
        "outputId": "2f9bb9be-76e9-4d59-fe37-82fcf3da55c0"
      }
    },
    {
      "cell_type": "code",
      "source": [
        "#Эту часть рекомендуется дополнить вам, для более информативного отображения результата предсказания.\n",
        "output = pd.DataFrame(\n",
        "{\n",
        "    'Id':test_data['Id'],\n",
        "    'SalePrice': np.squeeze(preds)\n",
        "})\n",
        "output"
      ],
      "execution_count": 137,
      "outputs": [
        {
          "output_type": "execute_result",
          "data": {
            "text/plain": [
              "        Id      SalePrice\n",
              "0     1461  156886.953125\n",
              "1     1462  207062.953125\n",
              "2     1463  201185.390625\n",
              "3     1464  201235.515625\n",
              "4     1465  191614.750000\n",
              "...    ...            ...\n",
              "1454  2915  108738.093750\n",
              "1455  2916  129724.007812\n",
              "1456  2917  200084.250000\n",
              "1457  2918  112954.437500\n",
              "1458  2919  239776.890625\n",
              "\n",
              "[1459 rows x 2 columns]"
            ],
            "text/html": [
              "\n",
              "  <div id=\"df-c045214f-73a5-4db1-9ed9-d8ea3f158307\">\n",
              "    <div class=\"colab-df-container\">\n",
              "      <div>\n",
              "<style scoped>\n",
              "    .dataframe tbody tr th:only-of-type {\n",
              "        vertical-align: middle;\n",
              "    }\n",
              "\n",
              "    .dataframe tbody tr th {\n",
              "        vertical-align: top;\n",
              "    }\n",
              "\n",
              "    .dataframe thead th {\n",
              "        text-align: right;\n",
              "    }\n",
              "</style>\n",
              "<table border=\"1\" class=\"dataframe\">\n",
              "  <thead>\n",
              "    <tr style=\"text-align: right;\">\n",
              "      <th></th>\n",
              "      <th>Id</th>\n",
              "      <th>SalePrice</th>\n",
              "    </tr>\n",
              "  </thead>\n",
              "  <tbody>\n",
              "    <tr>\n",
              "      <th>0</th>\n",
              "      <td>1461</td>\n",
              "      <td>156886.953125</td>\n",
              "    </tr>\n",
              "    <tr>\n",
              "      <th>1</th>\n",
              "      <td>1462</td>\n",
              "      <td>207062.953125</td>\n",
              "    </tr>\n",
              "    <tr>\n",
              "      <th>2</th>\n",
              "      <td>1463</td>\n",
              "      <td>201185.390625</td>\n",
              "    </tr>\n",
              "    <tr>\n",
              "      <th>3</th>\n",
              "      <td>1464</td>\n",
              "      <td>201235.515625</td>\n",
              "    </tr>\n",
              "    <tr>\n",
              "      <th>4</th>\n",
              "      <td>1465</td>\n",
              "      <td>191614.750000</td>\n",
              "    </tr>\n",
              "    <tr>\n",
              "      <th>...</th>\n",
              "      <td>...</td>\n",
              "      <td>...</td>\n",
              "    </tr>\n",
              "    <tr>\n",
              "      <th>1454</th>\n",
              "      <td>2915</td>\n",
              "      <td>108738.093750</td>\n",
              "    </tr>\n",
              "    <tr>\n",
              "      <th>1455</th>\n",
              "      <td>2916</td>\n",
              "      <td>129724.007812</td>\n",
              "    </tr>\n",
              "    <tr>\n",
              "      <th>1456</th>\n",
              "      <td>2917</td>\n",
              "      <td>200084.250000</td>\n",
              "    </tr>\n",
              "    <tr>\n",
              "      <th>1457</th>\n",
              "      <td>2918</td>\n",
              "      <td>112954.437500</td>\n",
              "    </tr>\n",
              "    <tr>\n",
              "      <th>1458</th>\n",
              "      <td>2919</td>\n",
              "      <td>239776.890625</td>\n",
              "    </tr>\n",
              "  </tbody>\n",
              "</table>\n",
              "<p>1459 rows × 2 columns</p>\n",
              "</div>\n",
              "      <button class=\"colab-df-convert\" onclick=\"convertToInteractive('df-c045214f-73a5-4db1-9ed9-d8ea3f158307')\"\n",
              "              title=\"Convert this dataframe to an interactive table.\"\n",
              "              style=\"display:none;\">\n",
              "        \n",
              "  <svg xmlns=\"http://www.w3.org/2000/svg\" height=\"24px\"viewBox=\"0 0 24 24\"\n",
              "       width=\"24px\">\n",
              "    <path d=\"M0 0h24v24H0V0z\" fill=\"none\"/>\n",
              "    <path d=\"M18.56 5.44l.94 2.06.94-2.06 2.06-.94-2.06-.94-.94-2.06-.94 2.06-2.06.94zm-11 1L8.5 8.5l.94-2.06 2.06-.94-2.06-.94L8.5 2.5l-.94 2.06-2.06.94zm10 10l.94 2.06.94-2.06 2.06-.94-2.06-.94-.94-2.06-.94 2.06-2.06.94z\"/><path d=\"M17.41 7.96l-1.37-1.37c-.4-.4-.92-.59-1.43-.59-.52 0-1.04.2-1.43.59L10.3 9.45l-7.72 7.72c-.78.78-.78 2.05 0 2.83L4 21.41c.39.39.9.59 1.41.59.51 0 1.02-.2 1.41-.59l7.78-7.78 2.81-2.81c.8-.78.8-2.07 0-2.86zM5.41 20L4 18.59l7.72-7.72 1.47 1.35L5.41 20z\"/>\n",
              "  </svg>\n",
              "      </button>\n",
              "      \n",
              "  <style>\n",
              "    .colab-df-container {\n",
              "      display:flex;\n",
              "      flex-wrap:wrap;\n",
              "      gap: 12px;\n",
              "    }\n",
              "\n",
              "    .colab-df-convert {\n",
              "      background-color: #E8F0FE;\n",
              "      border: none;\n",
              "      border-radius: 50%;\n",
              "      cursor: pointer;\n",
              "      display: none;\n",
              "      fill: #1967D2;\n",
              "      height: 32px;\n",
              "      padding: 0 0 0 0;\n",
              "      width: 32px;\n",
              "    }\n",
              "\n",
              "    .colab-df-convert:hover {\n",
              "      background-color: #E2EBFA;\n",
              "      box-shadow: 0px 1px 2px rgba(60, 64, 67, 0.3), 0px 1px 3px 1px rgba(60, 64, 67, 0.15);\n",
              "      fill: #174EA6;\n",
              "    }\n",
              "\n",
              "    [theme=dark] .colab-df-convert {\n",
              "      background-color: #3B4455;\n",
              "      fill: #D2E3FC;\n",
              "    }\n",
              "\n",
              "    [theme=dark] .colab-df-convert:hover {\n",
              "      background-color: #434B5C;\n",
              "      box-shadow: 0px 1px 3px 1px rgba(0, 0, 0, 0.15);\n",
              "      filter: drop-shadow(0px 1px 2px rgba(0, 0, 0, 0.3));\n",
              "      fill: #FFFFFF;\n",
              "    }\n",
              "  </style>\n",
              "\n",
              "      <script>\n",
              "        const buttonEl =\n",
              "          document.querySelector('#df-c045214f-73a5-4db1-9ed9-d8ea3f158307 button.colab-df-convert');\n",
              "        buttonEl.style.display =\n",
              "          google.colab.kernel.accessAllowed ? 'block' : 'none';\n",
              "\n",
              "        async function convertToInteractive(key) {\n",
              "          const element = document.querySelector('#df-c045214f-73a5-4db1-9ed9-d8ea3f158307');\n",
              "          const dataTable =\n",
              "            await google.colab.kernel.invokeFunction('convertToInteractive',\n",
              "                                                     [key], {});\n",
              "          if (!dataTable) return;\n",
              "\n",
              "          const docLinkHtml = 'Like what you see? Visit the ' +\n",
              "            '<a target=\"_blank\" href=https://colab.research.google.com/notebooks/data_table.ipynb>data table notebook</a>'\n",
              "            + ' to learn more about interactive tables.';\n",
              "          element.innerHTML = '';\n",
              "          dataTable['output_type'] = 'display_data';\n",
              "          await google.colab.output.renderOutput(dataTable, element);\n",
              "          const docLink = document.createElement('div');\n",
              "          docLink.innerHTML = docLinkHtml;\n",
              "          element.appendChild(docLink);\n",
              "        }\n",
              "      </script>\n",
              "    </div>\n",
              "  </div>\n",
              "  "
            ]
          },
          "metadata": {},
          "execution_count": 137
        }
      ],
      "metadata": {
        "datalore": {
          "node_id": "NvP6Ro1j8jijcQa8KEVbbS",
          "type": "CODE",
          "hide_input_from_viewers": false,
          "hide_output_from_viewers": false
        },
        "colab": {
          "base_uri": "https://localhost:8080/",
          "height": 424
        },
        "id": "kStxt_691VRI",
        "outputId": "cc39b050-789e-4ab9-d90a-49604a066c04"
      }
    },
    {
      "cell_type": "markdown",
      "source": [
        "\n",
        "**При выполнении:**\n",
        "\n",
        "Выведите отчет нейросетевой регрессионной модели, для  прогнозирование цен на жилье. \n",
        "\n",
        "\n",
        "Подберите  разные комбинации гиперпараметров таким образом, чтобы получить лучший результат на тестовом наборе данных.\n",
        "\n",
        "Попробуйте использовать разное количество нейронов на входном слое, **например** 100, 150, 200 300.\n",
        "\n",
        "Добавьте в нейронную сеть скрытый слой с разным количеством нейронов.\n",
        "\n",
        "Используйте разное количество эпох, **например** 10, 15, 20, 25, 30.\n",
        "\n",
        "Используйте разные размеры мини-выборки (batch_size), **например** 10, 50, 100, 200.\n",
        "\n",
        "Попробуйте использовать разные значения оптимизатора `optimizers` и функции потерь `loss`. Сравните полученные результаты.\n",
        "\n",
        "**Вопросы:**\n",
        "\n",
        "Как выше перечисленные параметры влияют на полученный вами результат? \n",
        "- **Функция потерь** вычисляет ошибку работы нейронной сети и по ней мы отслеживаем эффективности работы сети. Каждый метод считает ошибку по-разному и нам нужно выбрать тот, который приносит наилучший результат. **Оптимизатор** - вид алгоритма, по которому будет обучаться нейронная сеть, они меняют веса сети таким образом, чтобы минимизировать ошибку.\n",
        "\n",
        "Что такое эпоха (Epoch)? В чем отличие от итерации (Iteration)?\n",
        "\n",
        "- **Эпоха** - это счетчик, который увеличивается каждый раз, когда мы проходим весь набор тренировочных сетов, а **итерация** - счетчик, который увеличивается каждый раз, когда нейронная сеть проходит один тренировочный сет.\n",
        "\n",
        "Что такое функция активации? Какие вам известны? Как и зачем используются в нейронной сети?\n",
        "\n",
        "- **Функция активации** используется как орган принятия решений на выходе нейрона. Нейрон изучает линейные или нелинейные границы принятия решений на основе функции активации. Он также оказывает нормализующее влияние на выход нейронов, что предотвращает выход нейронов после нескольких слоев, чтобы стать очень большим, за счет каскадного эффекта. Есть например линейные, ступенчатые и сигмоидные функции. \n",
        "Я использовала функцию ReLu. **Rectified Linear Unit** возвращает 0, если принимает отрицательный аргумент, в случае же положительного аргумента, функция возвращает само число. То есть она может быть записана как f(х)=max(0,х). Её удобно использовать в нейронных сетях с множеством слоев. Функция ReLU обладает несколькими преимуществами: очень быстро и просто считается производная. Для отрицательных значений — 0, для положительных — 1. Разреженность активации - количество включаемых нейронов меньше, в силу характеристик функции, и сама сеть от этого легче.\n",
        "\n",
        "Что такое MSE(Mean Squared Error) - Средняя квадратичная ошибка? Что такое MAE(Mean Absolute Error)? Для чего используются.\n",
        "- **MSE** - суть метода заключается в том, чтобы минимизировать сумму квадратов отклонений фактических значений от расчётных. Если полученную сумму разделить на число наблюдений, то получится значение MSE. Наличие квадратов позволяет получить некоторую оценку расстояния от фактических значений до линии (расчётных значений). MSE применяется в ситуациях, когда нам надо подчеркнуть большие ошибки и выбрать модель, которая дает меньше больших ошибок прогноза. Грубые ошибки становятся заметнее за счет того, что ошибку прогноза мы возводим в квадрат. **MAE** - сумма модулей отклонений фактических значений от расчётных, разделить на число наблюдений. Среднеквадратичный функционал сильнее штрафует за большие отклонения по сравнению со среднеабсолютным, и поэтому более чувствителен к выбросам.\n",
        "\n",
        "![image.png](data:image/png;base64,iVBORw0KGgoAAAANSUhEUgAAAlgAAACuCAYAAADqMnPxAAAZaElEQVR4nO3d7XXbSJaH8X/36QC43giWnYG6O4KhM9D0RLB0BuoQ9qgzkCeDoTOQN4IeOgMpBMsZeD+Ad3lZLAIFoIDCy/M7B0eyxReQIAsXVbduSQCwHA+Svtdsu8TH2TQ8jm37jPsOYEF+KL0DAJDRRtKvp59bSR9OP80XSb8kPtbudN/3ku7d/3+S9JekV0mfJX3rt8sAAADz8nLafK/TXYfHOapdDxgAAMAi2TDfVpcB1qHDYx0kPeXbNQAAgHm6V9V7JVXBkQ+yNi0f6030XgEAAOhJ516nO10GWI8tHsd6wAAAAFbvRZfJ6ZZH9V1Vj1Sq/em+AAAAq2b5V34o8F6XvVj3kfvFHNSuxwsAAGCRfP6V96ZzgJXaK0X+FQAAgG7P+gsLkTaVbCD/CgAA4ORN8SHAsEJ7U8kG8q8AAAB07nW6VYrhoPSSDeRfAQAAqOp1iuVfmbBkw0PNbd/UrfI7AADAoqRUXU8p2UD+FQAAwMmt/CsvpWTDXtJz3l0DAACYn6b8K6+pZMNB9cOHAAAAq9CUf+U1lWwg/woAAEBp+VemrmSDJcIDAACsXtuq67dKNjyI/CsAAIBW+VfmVsmGZ5F/BQAA0LnqeqxkQ8oyOgAAAIvXtep6WLLhUeRfAQAASGqffxXe1wdZ5F8B6OXH0jsAINmjqkCgTY7RWmxVvS//7nj/j8G/CbAAAFi4jarSA7fqNaFKSE+tfxUTlmzgPQYAYKE2qhK3w+ErTv6Xtqreoz4BlnRZsgEAACzARlXgtNN5DbzvNzYCrCoxfa/Lnj3LndqrWy6WlWxgeBAAgAUIgwS/Ph49WNd2uh18+m3b4bEtQAOAXn4ovQMAtJf0XtJXSd8k/SXpi6TX09/DxPZfTn8HAABAR/RgAcDMUKYBAAAgMwIsAACAzAiwAAAAMiPAAgAAyIwACwAAIDMCLAAAgMwIsAAAADIjwAIAAMiMAAsAACAzAiwAAIDMCLAAAAAyI8ACAADIjAALAAAgMwIsAACAzAiwAAAAMiPAAgAAyIwAC8BQHiV9Z7u5vXR/awFMHQEWgKFsS+/AxG0l7UrvBIBh/FR6BwAs1utAtx3Su9PPzUjP94ekzyM9F4AR/VB6BwA0etPlCf8XSV8K7UtbR0l3Cbf7IOnjwPvS1UZV4GU/t5J+Pv3cKu311flZ0wkwAQBYjTdd5u70PaGPaav0nKQ5DyluJd1LelKVW9UmF+uxwP4CALB6cw6wpCrwWFvS90bSXlUPXsprBzBtO0kHXbbHb6f/uy+4XwB6mHuAJVWNUEqg8VRqBwe0VfW66l73vtjeAaizkfSsc/u0VxVshRdQb2LSCjA7SwiwpPShs6VeDW50O9BaUu8dsCQvqgKpWxNf9lpH+wUs0lICrDutIx+ryVbxoUOufoFpOagKsJpmFYc1/+baRgOrs5QAS7q+2ru1HUvt4IjCRvm57O4AcOyCMKW93Wh97RewCEsKsKRzPgOz664nACy55w6YkydVbe9eaXXxwuF/vsvADCwtwNro+jXd2tYwbLbT9JL8d+IEgXkY6rPqc0bDWoQxYe/8wwD7BCCzpQVYUno+VkrDtgS+cS7NrsQJsDAH9t3JnVwetrtNjx+2aVO5WAJQY6m9Og9KC7LWkptkOVklr3ytnMZSPmNYB/vu5Cx3EqYyNF3YEmA5W1UN2VHnSPVNVbfgQc3jrnYbYEhhIrQlUC6lVye1EOdaututDSrBgivaNcxR7s+vzfZ9U1o+aJhPuYYc0itbXUemR1UHxwdbdW/SruZvQFtbVZ8/256VFni8nG7r7zu3Gixt8rGWMDTaxBrpsXuQrDeRNg1dPav8d9TazRL7EV4M76T0adNvGrfxTp1p9NbiMf1rfVH969npfLDedHnA7P+bGqNY78PYG6avTX2opm2OJ0if5N30XV9Kz12dJ43bY2fvP8VO0ZU/V5bM3bO1T0u0FT4p/v+/SxZIHNVcablNMNNH09pl1o1+VHp+hg922oyN3ul8hb0L9q3pZGal9FPeWzsox8TtRWlX/iSqzsMmsnW5z1wDkKalZGw7lNrBhfKLcZfufcA8hZ0hpYMs640dsxZVeJFY+12yIKJUtWEb9gif+6huB84HRV0a6I3OAZIParr0FtxK7O36vm5O9711giJZFXORmo9FjlA+qb3xQIwFVy+6TL9JqX4+JPtcj9UT7NuupBjDeofCQGfoK0iriBobNugyROkrrPbpAo/linRtlGInjVzC4zW3nBysl+9NoWd2eHbhOdbIBJbFzjXhpBv7/5JBlo8fht4H34GTPOP5+bTFAp0hd/hB52S5HL0xvmen75Vv+F50DbBiQ3s5+eHQtcy+wjI0pQfkuFhCxdoh2gi0ZefVWwGFnYNKLhljvUpDdgr5jpdWr9UCLOk6IBiyi96Sz3MFWLmDGD/ePNUASzoPaa66FgdmKZYeENv4bHdnJ0B6r9CWfXaavn8lcqE83yEyVH6hBXGte+t8gBXOhhvqDbOEcvu9b4Dl3+Bc++wfc8oBlvUErKVII5YlZVIIQ+Dd+LQJcq/QhsUCqZ+b0ucha0eGiFmsF69TXUIfYMVyI4bIgXjSOSrOEWD5wDDnAbYAacoBlj0PQymYozalK8jHasdPtOG9QxtHtR9S3qnczEL/Wc/Zi2WP2zmu8AGW/TtH/lEd/ybkCLD8UEPOQMMi16kHWPb6gTlKXUqnZJ7HHA15VQ9Mie+tzZVSYL1yvR4vDLDC5NPcY/f3uvzC5wiwwqAwF3svph5gWWFVYK5SCw4z1JXGpzhQ7gJr4NuQvlJXcdmqoccsDLCk/gFP0/P5L/wQAVauLkIbMp16gGXvIcMAmKs2S+lQ862ZbxPnWpQWaMOv4NInZ7PNeb9xNYZYgBUWs8w1/dF23H/hcwRY4f7mzMMqHWClVvrmxIO5YymdfIZImQCmzOeQdx0Wtwu91HP+UQ3BXCzAigU9ORq0B10HazkCrFhNnVyzjsIetzb6BlhteqYYCsASpK7ryazZ23LMgAbmyJ9zu8QsL0r/zljHRu35ORZg2RP5Bi1HkboXXQdPOQIsn+A2paGEvgGWNZQpAdaDyr9eIIfUpXQonBnne/RpE7AmfsJbl1QjK7retO2VOLnsVoAVzuzp29VsUzhDQ1Ryn0oj3DfAsp45cquwJm3ysVi4+Jq/OKbtwJr4uKVN721q0eNwa4yLbgVYsV6hPo3ZQfEXnCvAalrf7Knj4/bRN8CyDwuNJNYmdSkd8rEuhe127sd+0mX5hz5pCTsRIE/Bko5rl6LjqWViYltjqsKtAMv+FgYpXd0KFHIFWNLlLIK67agq2Bs64OobYNlQCQEW1uhWr3S4Db0w/ZwMsaqFdA54D6ffdzqfkLvkw/lzC7mj5SztuHa5wEjtLY9tjb1kdQFWrppYe93+sucMsKT0RjmMQvfKfyXcJ8DywSIBFtYqdSkdTtIV327kKrhoQVv4HvvnavP+h20+uXRlLPW4+n0ofu6sC7Ck6yChy+y8uqmMuQMsqVuQ5YOtXAelTYC1UfVe3Ot6PLj4hwQopGnon+/JJd/25ZhBaPlwsZOlvwBv01sWzhQlEX98Sz6u/qJslH34qcd9P+ryIHyQ9KnF/a3SaZv79PVBVaD0qPaNrnWR/inpj8z7JbXrxZqaraZ1Evsq6VXSt9I7gsG8qvo+p/TGPEv6edjdmTz//cxRA+ufqr5nf0b+9pv7vU3OTXjS+9x2p9Dbko/rq87fg+Lnq6YerNgVZJuhtEfVN45D9GB5u9Pzdxln7dvFHnvO442tbv+Kf0jUfZbFGNsU3h8MK/Xzl2tYbK58O9K3HW0qYNx1ibKwPcS4ln5cc/fi9tIUYEnXdWnajK2+qT4KHjrACp/rUel1dtq+1lCXHKyNrpP1pxBAPKhfMuBQ24uYRbYWqflYuYoMz5F/H/rO5HrU7bzbMJk49YQaVusn/2p8Sz+ufqiy+ASYlAArPOGndj3bcFudMQMsb6OqIU7p3eraUPVJcvfvyxQCLKC0WFtxa1vrdybne1C3ZEh4TkhNhg7zdNq0rfvT/bmg6mfpx9WXXSi+4kNKgNW1JtZBzZFsqQArtNXt5PiuB6lvmQYbFlnryQIIpdasWevQU64Aq2mZrnAUIPXkGN4vlW+bi/dKzNgajqtvI0ZpB/okuUtVEvEnXXa9fzhtt1gP0X/3fO6xWDLts64PtBVO+zLyPj1r3cMdU9I2OJ6LH0rvQEt/Snqv5oswSwcYYqLKVIUnw689Huubqvf6NfI3m7hkPit9okl4v1S/u9/7vK4UG0nvBn6OJl81zOSdNRzXSU16SunBkuIr3dd5SHzcqfRgebEq0l2S5cZeKmej8u/dUqUOTc1tm6M2S+msSTghaaihtLAXMfUisE+ejg1BPWvYIcLUPL+xtjEroi/luPphzhwzaXtJDbCk60atbnz2RWkHaIoBlnQ9a6nLgRpzsWfpHJAhv9IN7VDbXMUu+MJtbUNJYSrHUIFIGISkPk+fPJ2xTG0iz5jnwqUc19EDrL5DhCZWE+tj5HZ3qrpYx6p9dZD0l+I1Pbr6Q5cBYok8qFdV3a2pXae/Kd71i/7mNpS2dJ9Vfd9vXS2/aj7pCUN5p/zDJWEtvDbDSD5Y+KbxUy5S/Jeq1zeVIcKx2vOlHtfiw4VterBiNbFigceT0ofUcvRgHTVM/ZuwHkjbK8K+PVhtHTWBWRPAiGIlV9603okhTW1zX2FvRZsc0TX3Lk7dko7r6LMIf8z0ONaj4sUS3X/X+AX/hmhMwoMz9Ua7RCI+UFIsif1voidXGmaIMLz4TR2lCO/HheC0LPW4jtKDlWuIUKoCJ/+m7nXZyN2ratzGbuB+HeAxw9dQvLuxhgV/Q445bzW9GjQslbNeG11fyP1d677I+KbzdzT3MJetl2razBZ7H/yb5XGmY2nH9T/d70PPOJWUN8AKI1ubuWZvbOq6YbltTlvOk234WFO+KrYvyL8HevyDplsy4mdN+9hgGP+ry17lPzTumqdT9KpzW5D7YqhPb0WYp8P3dTqWdlx9mzDKxXeuIUITJrbbMKEFW//K/HypUqvOpvIN1BQ+OHX+cfo51H7+pWn2FL1qpKsUTMpBl1fdH5V3kstc+e9/7pSG34J/p/ZWdOkh2em8RuuLWFJnSEs7rv5z/9cAj99KmyR3E0tM36h6s9omueVKch9iSqZPluvSKzdWkrtNz761vhSwJGFC7tTyPkry703ukYSuiwCHJTWaLoT3qtp0O1Fate/iC/cu1NKOqy83UbpkRKcAS7qumbE//V/b4ChngNV29kObx+1Sj2SsAMsa1bUuD4L1CIsAs9j3JV8DKHfg2XU5lDAgrutZu1PVbvpjahe6XEAOY2nHdaxZ+0me1e3EHFZ9fVO3Nyp3gBUexK78fnUNXMYIsHzpjBK5b8BYwrZizeUYbvHvUe4efd/T0eax/cV40zniqOv23xd9Rn5LOq7+fDiJgPxF3XYktgB0l/HU3AGWBUR9gyz/oetaTXfoAGuryw85eQpYqq2uv0/Fu/8naqj2xp8QU0/EYe3EuovA3Y3HHSpgRGVJx9X3cBdPHfBjqF2G1sKx2y5Xk7ElL9ruiw+wXtzPrg2w753rMz4cvq6cDd69rk84U1hiCMhto+uUhKnOaJ0C3y7nDEL98GNqWxZe/NYdt4OuLxL9c3IBOYwlHVc/bJl70lsr4ZvaZYdyRIvhmn9dHssf7G2wX49q15uVqwpsOISaIwi6Oz3urQVJGS7BEoWNOSfaer7tyflehaMWTcFbeAH+XfVt8X3k7/7Yk2s3jCUdV79vo54P71QFM7GlJcLteLptSjBgvSgpV5SPp8c9KH6QYoGW3b6uC9Jek+9tutPla7U6TrcO5n1w+zb5TDY74qi01dhf3O2bNhvCbXrMnL1jwFSEF2BTWIpj6nzaRe5hkpQL0K3ibVfboSA/DFV8uGfhlnJcu+5Tb7Eeq6YtpUfLelRSpAQft7a6PDELjGLB033kea0GRywg6jITMpxNUWIjPwFLE/YCM0s2nT8B5haejO9VBXX3Ok+9f1a7PJ0Y366S/jC8uR9Xn25UZMLXxm19bpPj+VMeP/X2BzUHg1tVHyCbNWkN0JvOi0XzJQamgXIM/QwdnGxOzxG2pX7kI7yob7sf/nExjjkfV/+ZZwIMsGCxSQi3eh77BA5deqannqtHOYb+plC+xaeBtD2Zhnm0mI6pHlcbjaKnG1g4y3m0HtO64fE+Dc396Tmaht+tp/agafcEUY4hHzsRlugBChOn2ybb1yUrF50dtnJTPa7+oozPB7BCsZpvOU+AG51zJXzvxZQDKo9yDHn53oI+7+OjznmrqY/jh2vafr79STzsjbC/ob8lHVebDMNwMrBSlkQaBkG5A4m5XsmFM4spx9CfTQDqOlsr/KymTKYJeznafrb9sHd43wexYkUOSzqufr8YTgZWyoYLY6sg5MwbmGMeQtjgU44hD99r2mWoNRyuTflc+UC5y0mzbgkV8vHyWNJxtV61XMvkAZghf4UVK7Cb48Rhyc1z6r2iHMOw7LPWthcrdiHQNGPMH8uux9FOmGGvypPovcphScfVvxbSCYCVsp4Ea8hiS0TlOHlY3s1cruTWXI7hSeMMg/qTUNteLMvReUq4rz+WfYJkPwPSSvQ89XxMXFrKcbWgjc8GsGJ2BejFZv719aT5FJ1dczkGe+1jXXXb56/tieigtM+T7+HIMbxrK3FYIEBuTV5LOK4+YFtLuwEgwvKvvNh6lX2H9uyqdOrWXo7B8llKPGebXjOb2XlU/Pj4JcbexDDNXCzhuNr+zSkdAsAAYjNcYrkQfXqf7Ipuio2ht/ZyDDabqkQgbO97myt+X/7D6qn54/ciZnzO0ZyPq5+RDWDFbDgodqUYS3bv2pNjJ+6p5zCF5RjWNPzjhzVK9NjZ83fJdduoyh18UPVZuxdDM0swt+Nq+avkXQGI5l+ZWPHRrrkOqXkVJa25HMNG52HRksfJPnOcoDA3fS4QACzQUfVT5GPJ7l0ajzdNuzdozeUYtro8zqWHXu50XsQXmAO7QLFaggDQeEKNLdjc9gRsV3ZtV7Yfy5rLMVgw0zeAzm2r6mQ11c8M4FEHDcAFyxdoyrfpm+w+5fyrNZdj8Gu32dZ12RoAAHBiJ9gmsfUJ2/QsHDTNIbdYOYY19JjsFB/6XduMSQAABtGUf2X87LIuCeBTzL+KlWNYes0aXz/o1gYAAHpqk08VOzGnDPlNNf9qLeUYdor3QMY2ckgAAOjJ8q9S843CRPDU4Mzyr6ZkyeUY7lS950+6Hv5s2tZUrR4AgEE8qjoBtxGesFPuP7X8qzmXY9ioCojvVAW8D6qOo9UYaxNM9Z24AGAGfiq9A8AK7SR9bnmfj7rstdqoOtF/aniejy2fZyj3uh4KtBpQU/Pu9HOsmZcMDwIAkEGXpO5YsntdkvyU8q9iVenZztsUS2gAADArbfOvvDA5vO5x6pbhGZNfBobteqP2FbBQP5beAWBl3kv6Jum1w31jQ0kfap7nS4fnyI3lK+oxPAgAQAZH9Zs5l5rs/l3lyx+ESe1saccOwAKQ5A6MZ6MqH6lPr0VKsrtN+S89/PRRVU/du6YbrlSXXkwAABCwelZ91tvb6LonJCx3MJX8KwAAgMFZAcq+DroOsnzQ9qzyvVcAAACjeFGepGabieg3/7jflb4MDwAAwGzZ0N59pseLVQ+XzjWnWHoFAAAsnuVf5SpZEJuhtxf5VwAAYEWelHdZmFiy+4vIvwIAACuSK//KiyW7k38FAABWIXf+lbm1xh/5VwAAYPH2ypt/5d1KdgcAAFi0o4ZbFsWCNxYPBgAAq+EDoKEWPSb/CgAArMJG1WLLPvjps8hznSeRfwUAABZooyqAsuHAWPK5XzvwWVVF9hy2p8cdahgSAACgCAty2mz7jM9/UP4yEAAAAAAAAABu2avKYRtqYsCQ7lQNAc9x3wEAwEL5pP2hJgYMxa8RuS28LwAK+qn0DgBA4Hf3+9die9FsI+mdqh6r96r2exP8HQAAYBKsvMWUh9nudT0zdK/LGaSUzAAAAGhhoyqACocBCbAASGKIEAC6+CbpS+mdADBdP5beAQAAgKUhwAIAAMiMAAsAACAzAiwAAIDMCLAAlLbTeZHsF1XFOgEAANDRXlVwZeUOrIr7Y7E96ocyDQAAoKg7VQGJLyZqS8281dzPL0cz9Pbc8jURYAGQRB0sAOX8U9LfVdWUMr+dftZVcP8i6VPDbXL4pvYBFgAAQDE7VflWIev9if1tDujBAiCJJHcAZXxQlW/l7d3v4d8AAADQ4F7XQ3xHnXt/prrIcxN6sAAAwGRs1T2xfEoIsABIYogQwDR8cL/PtUQDAADApFjPT115hjmgBwuAJMo0ACjP52N9TLj9TlWP1xh5Ws+S/hzheQAAALJ61rnXZxv8bX99cz2qW9FQCo0CAIBV2OgckBxv/G1OCLAASCLJHUBZv7vf/yf4215pQ4YAAABwDjr3+ITedD1kOHX0YAGQRA8WgLJeg5/mSdK/Iv8/dT7x/l2xvQBQ3A+ldwDAqm11XnfwP04/HyX9KumXInuUzvdQbSX9Q9WMSPOq6rW8Svrq/s8vbg0AADCIO1UJ7m+qgq05FBr1yfltttisSAALRA8WAHQT1uG61TO1SbgNgIX5P1nf503xgbC1AAAAAElFTkSuQmCC)\n",
        "\n",
        "![image.png](data:image/png;base64,iVBORw0KGgoAAAANSUhEUgAAAYYAAACDCAIAAAAGWCu1AAAgAElEQVR4nO2daVgU19LHT/fMsC+ihl1ARWMUAY0oilswKqAirhFFo16jCUaTGO/NK4mGbG4xPuYarwlGoyRqEgUElRgVBBU1AiIKGpVNRED2ZYZtZvq8H+ql37kII8sADdTvA88w03O6ppd/16lTpw5DKSUIgiDCgO1sAxAEQf4flCQEQQQEShKCIAICJQlBEAGBkoQgiIBASUIQRECgJCEIIiBQkhAEERAoSQiCCAiUJARBBARKEoIgAgIlCUEQAYGShCCIgEBJQhBEQKAkIQgiIFCSEAQREChJCIIICJQkBEEEBEoSgiACAiUJQRABgZKEIIiAQElCEERAoCQhCCIgUJIQBBEQKEkIgggIlCQEQQQEShLSQdTU1AQGBnp6ejIM06dPn+zsbEIIpRSWgN+7d++oUaMYhnF0dNywYYNMJutse5HOQRQYGNjZNiA9ArFYPHny5MGDB9+/f//hw4cmJiaTJk2ilLIsSykdM2aMq6trTk7O2bNnvb29tbS0OttepHNALwnpIDiOo5TeuHHjs88+Gzp06HfffVdZWcmy/3cFUkrz8vIWLFhgZGSkVCo711SkE0FJQjoIlmUZhsnOzp44ceKyZcsKCwsjIyMJIUqlklLKMMzdu3cHDBgAW3a2sUingece6TgeP34sEokkEsnixYsNDAz27NkDHTfouxUUFDg6OhJCGIbpbEuRTgMlCekIOI4jhNy+fdvW1pYQ0q9fPx8fnxs3bty8eRME6PHjxzo6OkZGRp1sKNLZoCQhHUdqaurw4cPh9bp16wgh+/bt4z+CXhuIF9JjQUlCOgKWZTmOKygocHBwIIRQSl1cXMaNG3fy5MmsrCxCyKNHj4YNG0aw19bjQUlCOojMzExtbW0TExNCCMSzP/jgg+rq6uDgYEJIdnY2ShJCUJJ6ODDa1d57gV2kpqba29sTQjiOgzE1T09PCwuL4ODge/fu9erVS09Pr70tQYQPSlIPhVLKcZxIJOoArwQk6e+//4ZAEuyR4zh9fX1/f//09PSAgABwkTAjCUFJ6llwHAfxY4ZhWJYNDw9/9OgRqVeNdgJ8opKSEtWuGfxdunSpvr7+uXPnnJycCGYkIShJPQ1IAiKEZGRkBAQE+Pj4JCUlkXaWJEJIdHT0gwcPDA0N+XcYhuE4ztbWdtq0aWZmZvb29hBgalczEOEj7mwDkA4CbviwsLDIyMiCgoKysrLk5GSWZXV1dUn7BJVhj7dv396zZ09MTExlZeXixYsDAgIcHBxU1Wft2rV//PEHv73GzUC6FkwHRDcR4XDp0qW///576NChY8eO9fHxOXfu3KlTp7y9vfmQs8aRyWRlZWX6+voikaiyshLD2Ih60EvqWbz22muvvfYavK6tre0Ax0RfX19fXx9eq3bcEKRRUJJ6FjAdn1IqFv/fqUc3GREUKEk9C+id4aQNRLDgiBuCIAICJQlBEAGBkoQgiIBASUIQREBgeBtpEwqForq6WvUdkUjUohb4+SUw9kdVaLCltrY2LhPQ7UFJQloJZFdu2rTpwIEDIpFIoVAQQiillZWVbWxZLBZLJBKxWCwWixmGUSqVLMsqlcphw4bFxMSgKnVvUJKQNjFixIjy8nL+X2Nj4+3bt0Pl/+Z8HWa6VVdXy+VyuVxeXl7+7Nmzx48fZ2RklJWVqW5GKb1+/Xp0dLSHh0f75ZojnQ5KEtJKoIb/4sWLY2Njg4KCtLS0KKVVVVW6urrr169vY+MymSwtLe3q1atXrlyJjIyE5ZVYlt2/f7+HhwdOhevG4By3ngh4GVOmTImOjg4PD2/1HDeI+FRVVbm5ud25c0cikSgUCkrp2bNnvby86urqWtomlExpoDjZ2dkHDx7ct29fcXGxnp5efHz80KFD0VHqruBJ7YloysuAdgwMDI4cOWJoaEgphZpw//jHPwoKCrS0tEQikbglqJaU4zgOBM7Gxuazzz6Lj4+fO3duVVXVwYMHX2hYo9HxHkvXOhooST0LSqlSqVQoFEqlkqkH/m1dRUcIPDs7O2/fvl2hUDAMIxKJ8vPz33rrLdK2CXQsy0J4G2zu379/SEjI+vXr9+3bV1paCt3Gpr4Lv6vVuxYyMEuxRV/pWkej50oSx3E9sKwqSIZEIoGhenBMYISrpYP3PCKRSKlU+vv7L1myRC6XE0IkEklERMTu3btBsDRiM9TD/Pbbb93d3WGppUbvTJi+d+jQoV9//bWpbbou0F1tvr7A0fjzzz+//vrr9rRLkwgrllReXq5QKOA+IYTo6ek1M15QV1dXW1vLP/B1dXXVFOWBihzr16+vra394Ycf1EclKioq5HK5WCyGbSildXV1DWp6wPMcIilaWlra2tot+M0dBdh87969c+fOUUpTU1N/+uknQki/fv2WL1/eu3dvY2NjX19fHR2d1jVOKS0tLXV1dU1LS4MyA2KxODo6euzYsZqK+8C1mpeX5+fnFxISAoudNACunxkzZujo6ISEhHSnkJNSqRSJRAkJCfb29r169WpOYRk4GgEBAcePH8/MzOwYO9uIsEbcAgMDz58/X1JSIpPJKKWjR4/+888/+TIazwNnpbCwcPz48fn5+RzH9enTR1dX9/3331+zZg2cwue/xTBMbW3tiRMnqqurd+/ezVfzaZTt27dHRESUlpbCoA/DMNbW1jo6OnwFa6VSWV5eXlJSIpVKDQwMFi5cGBQUJNg7QSqVPn78mGEYAwODLVu2sCxbXV1dWlpaUVFhbGwsl8tbJ0nQverTp8/hw4fd3d2hV1hTU7N06dKEhARjY2ONFGaCvVhaWm7fvr22trapbQghOjo6EomEdKMlmOBivnLliru7+/jx4y9cuCASiV54VOFTwT4mG4cKiZqamoqKitu3bzs7O/ft25cQEhUVRSmFtX2eB94PDg4eOnQoIWTUqFFPnjwpLy8HR0bNV86dOwdn69SpU2ra50168OBB7969CSHz5s2rrKysrKyU1SOVSktLS69evQrRE3d39zYehK4LRKO3b99OCIFcR0LIkiVL+I86zIY5c+YsXLiQqj2zXQiIH8XGxpqbm589e3bZsmXTpk1rzhflcjmldMuWLYMHD25fEzWHsJ7k2trahoaGQ4YMmTBhgq+vL8MwEBFoCpZlq6qqnjx5Mm3aNIZhHB0dra2tjYyM4AmphlOnTkGvMCQkpDkmDR482MrKimEYKysrAwMDfX19vXr09fV79erl5uYWFBT00UcfZWVlQR6zMKGUQiRb8d+0OrytCkR8PvrooxkzZvBBpaNHj/7444/wkSZ+ASFq6z1RlVkpmtpd50IpZRgmLi7u/fffDwsL8/LyOnLkyIABA3x9feHR25wWutDREJYkATU1NTKZbMGCBWKxODQ0FIZXnt8MjvLVq1dtbGzMzMxofZRH/aXPsmx+fn5JScnatWs5jrtw4UJxcfELO1lwJxNC4E5TvXvhfCuVSo7jPv74Yz09vby8PCLUwCqEip8fm4c3NdI+IeTgwYPm5ubwbBeLxRs2bLh9+zaswd32XZAetrYSwzAymWz//v0///yzq6urQqHgOG7//v329vaHDh2C9PfOtlGTCPHUisXiqqqq0aNHT506tbi4+PTp06TpRQf/+uuv1157DSIL/Kh2Uy1DI+Hh4YMGDdqwYYNEIsnPz//zzz/JiwotQpuNqgzsERJqDA0NnZ2dS0tLSTeKYrQIuEPMzMwOHDgAksQwTGVl5cqVK2UyWWdb11XR0dEJDg4eNmwYx3Ew0kIp/eKLL5YtW0a6nUAL8ceA06Gtre3r60sIOXbsGGnsuDMMk5ubW1NTY2VlpXq5q3FPoJGYmBh3d3czMzMXFxdYXrEt1lZXV0NPDURt6NCh6enppAcXk4WB/5kzZ27cuBGeARKJJCkp6Z///KdGcgLaAt9vbfQiEaZjC0cMZIi/CyDSr6enJ0yb24IQJYkQIhKJampqZs2a1bt374sXL6ampvLFKwC44WNjY52dnUmzLyaGYXJyciorK8eNG0cpnTdvHvTdCgoKWvGoAS/gm2++uXbtGm+Dk5MT9IB6ppcEQOToyy+/dHNzgwirWCzev3//77//rtmgUosAlw26qI2eHaGdMriimupTqy4a3J0QqCTBELKxsfH8+fM5jvvtt9/If+sOBCaSkpImT55Mmue7wtPm1KlTDg4OOjo6DMPMmjVLT0+vtLT0zJkzpHkL0lNK+ZAwx3EMwzx9+hS+CNeNl5eXt7c3edG10urxiBdaKBAYhtHW1v7555979+7N31r+/v5paWnqE6/bCdCj/Pz8vXv37t69u6Sk5PltsrKyoNMtEBiGKSsr++GHH3bs2JGTk/P8FfX06dPCwsJOsa39EKgk8ZfsG2+8QSn99ddf5XI5rzvwaUpKiomJyUsvvdTMNvle2+zZs6GRQYMGubm5MQwTERFBXqRrcEHo6+uLxWIdHR2IChcVFZ07d059ZlNTrbWOlu6os4CgUv/+/b/77ju+61FcXLxy5UrwmzrSGNCjO3fubNy4sX///g8ePHBzc+NrqoAxaWlpDg4OgYGBRAA9ODAgIyPj3XffNTU1raysHDNmDAyb8BQVFTk7O69du7aTbGwvhJUqqQo4HZMmTXJyckpOTo6KiuIL5cAVFhUV9frrr8PGzblXGYbJzMysrq52cXEhhCiVSrFYPGfOnAsXLkRHR+fk5FhbW6v5OtxXUVFRH374IYQkcnNzr127lpubC3lotNnZgHK5PCsrSyqVtqi3SCk1MDCwtbV9YYqDQIDIka+vb0xMTFBQECS4X7lyZcuWLdu2bWsqkbWdkEqlO3bs+Oqrr+zs7JRKZVBQ0KVLl3x8fKD3LRKJTp06JZPJBgwYQAjhOA5sA2nolCeBUqn86quvNmzYMHLkSCsrq6+++urkyZPr1q3jXfLz588XFRXZ2tqS+kTKzjVYUwhXkgCRSLR06dI7d+789ttvHh4e8CbLslKpFJ4SvEipbwc2O3nypKOjI2Rvww3j4eGhr69fWVkZHh6+du1aNfcJnwhrYmKiVCrlcrmVlZWlpWVubm6DLdVoE3z04MGDmTNnQjp486NglFKJRHLu3DknJ6fmy1/nApGjb775JiEh4datW+Ba7ty5c8KECV5eXh2T4w57CQkJGTFihJ2dHaX0woULqi4nvLh27RrDMOPHjycqt3QzDzLMN26RVVRldc9GDT5//rypqenIkSM5jouKimIYBrbng9zXr19nGMbd3b0VBgsZ4UoSf3DnzJmzadOmkJCQHTt2mJqagmrExcUNGjRIIpGodujUANvcvHlzz549qvHC/v37z5s37+effz59+rS/v7+apuCjCRMmfPLJJ/ybdXV1Li4uUHy6OZcFfDRs2LC7d++2LsprZGSkfheEEI7j6urqWtF4U7As25bysgYGBocOHRo/fnx1dTVo64oVK27fvm1hYaFBI5sCjtWVK1f++c9/UkqlUmlYWJiJiQlEIQkhLMtWVFRcvXrV3Nzc0dGR1J/r2tpaf39/Kyurzz//XP0u1Mx5ajXnzp2DBHSIpcLEPUIIxOZBpyQSiaurK28wpXTjxo01NTUwLbmLIlxJovVpuAMGDPD09IyIiAgLC1uzZg28HxcXt2rVKtK8wDb4FGlpaTdu3IBC0dAI+OdPnjyhlMbGxmZmZg4YMKApBwS+IpPJIPUZnv9aWlrjx4+HFAT+i4WFhQYGBrq6uk3ZAxlMrTss6gG9Pn36tI+PjwabnThxYmxsbOu6WuCNOjk57dq16+233wZHqaCgwN/fPywsrAMcJRDBDz74YNCgQQzDXL16NTc3d9WqVaoz79LS0goLCxctWiSRSPi+T1VVVXh4OFxmatzSysrKLVu2lJWVqUleUzUG7Ondu/fmzZuNjY2f3wYOyJo1a8Dg27dvJycne3p62tjY8I3n5OTcv39/4sSJqnOPlUplaGjoxIkT1RsscIQrSQBEfHx9fSMiIg4fPvzWW2+JxeKMjAyWZVXPkHpAeiIiIl555RXQFFWP5tVXX01MTKyoqAgNDd24cSMfR2gUGEUGrxv2/sorr8CFBZcawzBbt25duXLl8OHDm2oEQlH89s35CbAlra+R1tRmcDUPGTLkk08+0Ui2NDQycOBA0oaUPJDvNWvWXLp06bfffoPQm5ubG+mojgbDMMOGDYMoDExRmjNnDqkf9xSJRNHR0QzDQGiSvwBMTEzy8vJeOH2X47iysrKSkpJmdsPhkL7w7EDlTEJIaGgoIWTu3LmkPvcF5t/yBvOPCrFY/OjRI3DZuqgeESKwabdAZWXlokWLKioqaP2Ew8rKyn79+jEMc/36dUrpwYMHL1y4AJ9C2tu//vUvQsjSpUtp0zMtX3/99fT09EY/WrBgAcMwkyZNgt01Cszsfeedd2j9bEagwVeUSqWPj09+fn7LfnN3B84UnEdCyLp16+hzh04jwKnx8fFZsGABVbkY4EVpaWmfPn3Mzc2lUqnq+7Nnz2YYJjU1FaxqD8NaChimUChefvllbW1t/oqC92GgLSYmhtZPZmq0ETgamzdvHjRoUAfZ3WaE6CWpCjzDMEql0sDAYNGiRbt27QoNDXV1dX306NHChQtJ/Uiz+tYopQzDxMfH6+rq2trayuVy1fahoMzcuXNPnDgRFxeXmprq4OBAW+L0NtgyOztbT08Pyhg0ZUxWVlZgYKBMJmtFePvLL7/s37+/egtp/Yw8TQG+YVtaANfj+PHjOTk5c+bM2bNnT4sOctuBfaWkpBQXF/v5+enr64MBLMuWl5fHxcXZ2Ni8/PLL/JZlZWW1tbVmZmbNaVzV724mlFL1h5TvUT548GDKlCm8JdARjoqK0tPTe/XVV0l9Z1Amk5WVlVlZWbXIDAEiREmCFET+X3i9cOHCr7/+OiIiwsvLC6bjN1Vhr8E7cOVFRESMGzcOLgLVSwG8XE9PTxg7g0RK9X2353cBgP8cFRUFX2808gJf1NbWNjMzg3l5zZck+NucDAB+dEYgwKGIjIxcvXr1yJEjDx8+3PHZknBSbty4wTAMBLb56+fBgwdFRUWzZs3iz1pCQsL169fv3LkzYsQIf3//F6pne2QzgMHx8fEMw0B4CNazYxjm8ePHf//99/Tp0/m74P79+xcvXnz48KGFhUVAQIDGjelIBHThEkLAZ5ZIJHCgFQoFLJVDCHn11VdHjx6dmJj48ccfHz16lNTP+oFt+ExCcGKhZjMhBD4lhFy9ejUoKAhO6vM7NTQ0nD59+uHDh0+fPv0///M/RKV/DiapZipCKQ9aHwSFFyzLwvbffvvtrFmz1P9MCwuLHTt2tOVAdaFIAdxa9+/f9/Pzs7a2DgsLMzIy6mAXiaeoqIhhGEivZRhGoVBIJJLY2FhCCD8NoKio6OTJk9u2bfvhhx8++ugjf3//TjzaJSUlDMOYmpqSeudXLBbD8D8/YiiVSoODgwMCAuLi4jw9PTds2NC6OnwCQVjZ21Axtry8PD4+vri4mC8vC47xm2++qVQqLS0tIbuEEMIwjJaWFmwGf6GwNH8NwZvBwcF37961trZuNDYMqufj4yMWi5OTk5OTk/lKu7xJfPhQV1dXLBZra2vzNT3gBcuyJSUlq1atSklJGTduHHmRaihai6YPeftCKWVZNi8vz9vbWy6Xh4WF2djYNPCCOwbYo52dHcdxEF8HPZLJZEeOHNHV1R07dixsdubMmSlTpjAM88svv4wYMYJ0UjK3qsGQgQF6RCmFNVomTZpECGFZNioqysnJydDQ8NChQxB46nhrNYiwvKTIyMiYmJhjx449ffrU1dV1yZIlkydPnjFjBgjTnDlz3n///aVLl5L605Oamnrx4sWSkpK9e/fK5fLg4GBzc3MzM7OxY8eOGTOmuroakvRgrv+YMWNWrlz57rvv8p0aeFbfuHHjxIkT58+fh1pIHh4ea9as6du376pVqwwMDEJDQxMTEzMzM1NTUwkhR44c0dPTg2UUiUqh24yMjDNnzkBgq3///uRFkiSojlU7AdHKqqqq+fPnp6WlhYSEjBo1qoOTtnngdPj4+GzatOnQoUPTp0/X0tJKSUn58ssvU1NThw8fPmjQINhyypQpVlZWjx8/jouLO3HiBKX0hR359gCu+SlTpvTr1+/QoUMrVqzQ1tZOT0/fuXPnpUuXzM3NYcI5IcTFxaVPnz4VFRXh4eHbtm2Da7JTDrJGENaNkZeXV1FRsWzZMh0dndra2qKiooKCAlJ/PVlYWISEhEC6Kpww0AKGYd577z2JRAJjOpmZmYMHDyaEKJXKqqoqOzu7zz77jGGYiooKKOndYKcymUwul8+cOXP+/PmEkLq6OplMBr0zQohUKq2qqjI3N//0008ZhqmtrW0wEYTWL+kTEBAAK5fZ2NgQgfWtKKUlJSWUUvDpKKWNJkZRSqFgHvR85XK5QqEwNDRs3YMXXCR/f/9r167t2rVr7ty5nXirQBfb3Nz8/PnzW7duXb16tZGREcuyrq6uJ0+enDBhAqmPLsGY4IEDB0xMTLy8vNoe2m81lFJ9ff0LFy58+umnK1asMDMzq6urc3Z21tXVdXV11dXVhWeqpaUlIeTIkSMKhQIe2F1XjwgRZBIAonGkUumSJUucnZ1tbGwMDAyMjY3h+d8gYaK0tHTmzJlmZmaGhoZaWlqWlpZOTk5//fXX81u+EKiB/fHHHxNCNmzY0IoWWkdTSQBAVVUVvMjNzc3MzKT16SOQXAIbcxwnl8stLCwg4SMrK0s156ODgYcopfTZs2eQwvLdd98RQsLDw1UNppQ6OjrOnDmTUvrkyRP+Z3bFJABhSRLMHVOlwSXVoKo8LIja4Ct8+JlS+vxHzdkpwO+x0U/V0D7Hpq1UV1dLpdLPP/+8V69ehBA3Nzeor6K6DcdxVVVVaWlppqam06dPz8jIqKioaEWSDhznAwcOEELmz59P1ebOaJZGJYnjuOrq6uXLl1tYWNy8eZPfuLCwUEdHZ/bs2bT+xobtL168KBKJkpKSKKWbN2+urq7uAMtVgUGVjRs3mpqaRkZG8oeurq7O1NR09OjRvMHw9+7du4SQP/74g1IaGBhYWFgI23dFSRJWx40fX2uKBh7pC53q5oRs1O+0a/vAKsAozNOnT7du3frhhx/+9ddft27dcnFxoSqDXwzD6OrqDhw40NXV9dtvv7Wzs2vFjqB3dv78+dWrVzs7O//444+wC832ZJvfB4TuWEZGxuHDh/X09GCgDQY6li5d2rt37wMHDtD67jy8uHHjRt++fZ2dnY8fPz58+HBYI6vD6snC4SooKPjmm2/4cWS41N955x2pVKq6RgbEuW7duqWlpeXh4XHx4kVLS8u+ffvSLjuhRFgjbki7kp2dLZVKly9f7uzsrFQqYeCGPhdce/jw4UsvvQRjPS3dBdwhKSkpixYtsra2Dg8P52fbaOQngEmffPJJVlaWms1UFZDPBXNwcEhISBg1apRYLIY15tLT02NiYvicAFIfo/Tz8xszZszWrVsrKyvBy+vI+tZgiUQicXBwuHTpkoeHBzxZP/jgg7Nnz16+fFk1VxZ0ecaMGd7e3p9//vn9+/dhDkODzL4uJE/C8pKQdgIe8nfu3OnVq5eurq6vr+/169dDQ0MDAwPNzc35Kxg2S05OVl86qilo/ZD/7Nmz5XL5qVOnYMhfU/czn3J58+bNL774olFHgM8pVX2HUjpw4MDNmzcHBQXZ2NjU1tZevnzZ3t4+MTHR0NCwgZ9ICLG1tQ0NDX369CmMVHQ8lFITE5Ovv/46NDQ0ISFBoVDExcX16dMnKSkJln5pcEj79Olz4sSJx48fQ/kknga/q0uAktSDSEhIgPy6BQsWbN26NT8//+TJk++++26Dexsy7lraOHhbVVVVixYtysjIOHHixMiRIzU4xAZTf/Lz81esWLFr166mhrrBDL42i6pCLVy4cMyYMSkpKWKxGAawSBMz5imlMHLaWd0f2On06dOdnJwgpLV48WJ4TqiR+AZ6ROqPhlwu12yxmnYFJalHABfxw4cPYZkdc3PzuXPn/uc///npp59Wr17NT1KB+VPFxcVOTk6khVP/wUV6++23L1++vHv37vnz52tEj2h9yrJYLH748OG8efOUSiVMi1dTJH/IkCF6enrkvxWH4zhbW1v+vuXnZzTVCOls54LjOHNzc/7xACmmLTopsLGdnR1UUu0adFAYHelsHj16tGTJEr52QmJiora2Nsuy0dHRVGVELCUlZeXKlbSF0/ShzU2bNhFC1q9fT1u74jaYB2Ogqi3I5fLvv/8e5lVA++pTCiDTXU37rbCtswCD2zJeCWkNGjSpXcHwdvcHQsIpKSmWlpYQWKGUjhw50s3NjVJ6+PBh1c3u3Lljb2/P/9scwN34/vvvt23bNnfu3D179pDWjlSCF6A6iefhw4c7d+50cXF5++23CwoKtLS0oAiEetQsNPTCUV2hAQa3xV8T2jRs9XQZQ5E2Eh8fz88shXGxVatWRUdHnz59GsKiMIEuPj6+OYs+8fAh53Xr1jk7O+/bt6+mpoZS2qK6K7zvJpVKnz17lpeXl56enp6eHh8fn5iYCCUTtLS0FAqFg4ODamlXpPuBktT9gbs3JyfHwcGBqCRzzZgxw87OLisr69ixY5s2bYLSC8XFxUOGDCHNu+f5If/ly5czDJOfnz9hwoRW1MaXy+XV1dUgTLW1taBBvPF8WhCldMmSJVCjEiWpu4KS1CNIT08Xi8WqQ9ocxxkZGS1cuHDnzp3Hjh1777339PT0kpOTWZZVTQtQA2zz6NGjyZMnFxcXE0Ly8/M1bjnHcTU1NfBaLBZDTfEuNKSNtBSUpG4OOBRJSUlQb7CBf7FkyZK9e/empKRcvHjR29v71q1bUGa7mZLEsmxaWtq4cePAkSFtEIvne3mq74hEIrlc7uzsDOusoSR1Y1CSegTXrl2bOnWq6jvQD3J0dHz99dfPnAE6aY4AAAQbSURBVDlz8OBBb2/vxMREX1/fZrYJ0ubp6dmKJCYEaQrskHdzQHpgGU7y3xEicENWrFhBKY2Ojr53755SqXzllVdIS4LHHTxC3A5HCBEWKEndGbiH79+/r6OjY2Fh0eCWBt2ZNm2avb29VCpdv369kZERzNhs/i6YjkWzxwcRIChJ3RmocZGamgpzI55PNeI4Tl9f38/PjxASFRUFY23ojCCdCEpSd0YkErEse/bsWXd390bnIoDfAYsIicXi0aNHd4aZCPL/oCR1W+rq6srKyo4ePfrLL7/cunVLKpU+v7gbpCkOHDhw4sSJffv2hQLBGkn5gQkQGmmn7Y0gXQgGvfTuyptvvnn58uXCwkLwlaytrbdu3Tpr1qwGeQDw79mzZ8+cObN//36BZCFCMFsIliAdDEpSt6WkpIQQwi+mUldXp6enp6ur29T2VKOFOJKSknr16gWLtbSF2NjYCRMmoDb1HFCSEE1C61O6Bw8e7O/vv2/fvla4XTKZLD09/e7du8ePH7979y6knreTwYjQwDONaBLws1566SVYJYm0vOgSwzAPHz48ceKEnZ1dXl5el1tNE2kj6CUhGkaDlSTnz59/+fLlvLy8brMoA/JC0EtCNAzIB61fDZgQAoVHXvhF1UpGcrmcZdm6ujqGwadmzwIlCdEkcrn8999/r6io8PPz4xfUbYWPw7KsqrQhPQeUJERjKJXKnTt3Tp069eDBg1FRUSdPniSEVFdX//vf/y4sLFRT1A1qfo8aNWrRokWaHfhDuhwoSYgGAB0JDQ21sbEZPXr09u3bMzMz4SORSGRqakopFYvFjeY9wuQ1hUKhup4a0mNBSUI0AK8j3t7eRUVFkZGRu3fvJoQolUotLa0VK1Z0qnVIVwIz0BCNsWDBAmNj419//ZVlWSjajymOSEtBLwnRGNAv279/v5eXV9++fQkhDMPU1dUdPXr02bNnTXXcCCEwuDZixAisBoegJCGaga+oe+/evX379hFCfvnlFz8/P7lcnpeXV1paCiujNPpdCG+XlpaS+rCUaikVmMGLMaYeAkoSohlgNO3IkSP29vaTJ09OTEwsKCgghOjr6wcEBDS/HZAemEGiq6srkUi0tLTax2REiKAkIZoBpMTGxsbQ0DA5OTk0NPS9994jhND6hXNf2AKfKimVSu/du1deXn7t2rXc3Nzg4OAhQ4ZYWVnBigZI9wZTYxENc/jw4fLy8jfeeMPc3Lx1LWRnZ3///fd8fw2qlEydOtXd3V2zpiICBCUJQRABgWO0CIIICJQkBEEEBEoSgiACAiUJQRABgZKEIIiAQElCEERAoCQhCCIgUJIQBBEQKEkIgggIlCQEQQQEShKCIAICJQlBEAGBkoQgiIBASUIQRECgJCEIIiBQkhAEERD/C9AmyCv3chlBAAAAAElFTkSuQmCC)"
      ],
      "metadata": {
        "datalore": {
          "node_id": "zhCfqTBB30trs93oPG12Rz",
          "type": "MD",
          "hide_input_from_viewers": false,
          "hide_output_from_viewers": false
        },
        "id": "D9gGlH7e1VRI"
      }
    }
  ],
  "metadata": {
    "kernelspec": {
      "display_name": "Python",
      "language": "python",
      "name": "python"
    },
    "datalore": {
      "version": 1,
      "computation_mode": "JUPYTER",
      "packages": []
    },
    "colab": {
      "provenance": [],
      "include_colab_link": true
    }
  },
  "nbformat": 4,
  "nbformat_minor": 0
}